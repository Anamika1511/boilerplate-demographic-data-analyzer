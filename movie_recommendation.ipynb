{
  "nbformat": 4,
  "nbformat_minor": 0,
  "metadata": {
    "colab": {
      "provenance": [],
      "authorship_tag": "ABX9TyNKKnmAz3HpOTD5g2Jxy100",
      "include_colab_link": true
    },
    "kernelspec": {
      "name": "python3",
      "display_name": "Python 3"
    },
    "language_info": {
      "name": "python"
    }
  },
  "cells": [
    {
      "cell_type": "markdown",
      "metadata": {
        "id": "view-in-github",
        "colab_type": "text"
      },
      "source": [
        "<a href=\"https://colab.research.google.com/github/Anamika1511/boilerplate-demographic-data-analyzer/blob/main/movie_recommendation.ipynb\" target=\"_parent\"><img src=\"https://colab.research.google.com/assets/colab-badge.svg\" alt=\"Open In Colab\"/></a>"
      ]
    },
    {
      "cell_type": "code",
      "source": [
        "import pandas as pd\n",
        "import numpy as np\n",
        "df=pd.read_csv(r'https://raw.githubusercontent.com/YBI-Foundation/Dataset/main/Movies%20Recommendation.csv')\n",
        "df.head()\n",
        "\n"
      ],
      "metadata": {
        "colab": {
          "base_uri": "https://localhost:8080/",
          "height": 672
        },
        "id": "pJrRbMdMqHjf",
        "outputId": "b6f5731f-f556-434d-80f1-ac609b6f1a1f"
      },
      "execution_count": 3,
      "outputs": [
        {
          "output_type": "execute_result",
          "data": {
            "text/plain": [
              "   Movie_ID      Movie_Title                       Movie_Genre Movie_Language  \\\n",
              "0         1       Four Rooms                      Crime Comedy             en   \n",
              "1         2        Star Wars  Adventure Action Science Fiction             en   \n",
              "2         3     Finding Nemo                  Animation Family             en   \n",
              "3         4     Forrest Gump              Comedy Drama Romance             en   \n",
              "4         5  American Beauty                             Drama             en   \n",
              "\n",
              "   Movie_Budget  Movie_Popularity Movie_Release_Date  Movie_Revenue  \\\n",
              "0       4000000         22.876230         09-12-1995        4300000   \n",
              "1      11000000        126.393695         25-05-1977      775398007   \n",
              "2      94000000         85.688789         30-05-2003      940335536   \n",
              "3      55000000        138.133331         06-07-1994      677945399   \n",
              "4      15000000         80.878605         15-09-1999      356296601   \n",
              "\n",
              "   Movie_Runtime  Movie_Vote  ...  \\\n",
              "0           98.0         6.5  ...   \n",
              "1          121.0         8.1  ...   \n",
              "2          100.0         7.6  ...   \n",
              "3          142.0         8.2  ...   \n",
              "4          122.0         7.9  ...   \n",
              "\n",
              "                                      Movie_Homepage  \\\n",
              "0                                                NaN   \n",
              "1  http://www.starwars.com/films/star-wars-episod...   \n",
              "2              http://movies.disney.com/finding-nemo   \n",
              "3                                                NaN   \n",
              "4                      http://www.dreamworks.com/ab/   \n",
              "\n",
              "                                      Movie_Keywords  \\\n",
              "0          hotel new year's eve witch bet hotel room   \n",
              "1        android galaxy hermit death star lightsaber   \n",
              "2  father son relationship harbor underwater fish...   \n",
              "3  vietnam veteran hippie mentally disabled runni...   \n",
              "4  male nudity female nudity adultery midlife cri...   \n",
              "\n",
              "                                      Movie_Overview  \\\n",
              "0  It's Ted the Bellhop's first night on the job....   \n",
              "1  Princess Leia is captured and held hostage by ...   \n",
              "2  Nemo, an adventurous young clownfish, is unexp...   \n",
              "3  A man with a low IQ has accomplished great thi...   \n",
              "4  Lester Burnham, a depressed suburban father in...   \n",
              "\n",
              "                              Movie_Production_House  \\\n",
              "0  [{\"name\": \"Miramax Films\", \"id\": 14}, {\"name\":...   \n",
              "1  [{\"name\": \"Lucasfilm\", \"id\": 1}, {\"name\": \"Twe...   \n",
              "2     [{\"name\": \"Pixar Animation Studios\", \"id\": 3}]   \n",
              "3          [{\"name\": \"Paramount Pictures\", \"id\": 4}]   \n",
              "4  [{\"name\": \"DreamWorks SKG\", \"id\": 27}, {\"name\"...   \n",
              "\n",
              "                            Movie_Production_Country  \\\n",
              "0  [{\"iso_3166_1\": \"US\", \"name\": \"United States o...   \n",
              "1  [{\"iso_3166_1\": \"US\", \"name\": \"United States o...   \n",
              "2  [{\"iso_3166_1\": \"US\", \"name\": \"United States o...   \n",
              "3  [{\"iso_3166_1\": \"US\", \"name\": \"United States o...   \n",
              "4  [{\"iso_3166_1\": \"US\", \"name\": \"United States o...   \n",
              "\n",
              "                      Movie_Spoken_Language  \\\n",
              "0  [{\"iso_639_1\": \"en\", \"name\": \"English\"}]   \n",
              "1  [{\"iso_639_1\": \"en\", \"name\": \"English\"}]   \n",
              "2  [{\"iso_639_1\": \"en\", \"name\": \"English\"}]   \n",
              "3  [{\"iso_639_1\": \"en\", \"name\": \"English\"}]   \n",
              "4  [{\"iso_639_1\": \"en\", \"name\": \"English\"}]   \n",
              "\n",
              "                                       Movie_Tagline  \\\n",
              "0  Twelve outrageous guests. Four scandalous requ...   \n",
              "1       A long time ago in a galaxy far, far away...   \n",
              "2  There are 3.7 trillion fish in the ocean, they...   \n",
              "3  The world will never be the same, once you've ...   \n",
              "4                                       Look closer.   \n",
              "\n",
              "                                          Movie_Cast  \\\n",
              "0  Tim Roth Antonio Banderas Jennifer Beals Madon...   \n",
              "1  Mark Hamill Harrison Ford Carrie Fisher Peter ...   \n",
              "2  Albert Brooks Ellen DeGeneres Alexander Gould ...   \n",
              "3  Tom Hanks Robin Wright Gary Sinise Mykelti Wil...   \n",
              "4  Kevin Spacey Annette Bening Thora Birch Wes Be...   \n",
              "\n",
              "                                          Movie_Crew   Movie_Director  \n",
              "0  [{'name': 'Allison Anders', 'gender': 1, 'depa...   Allison Anders  \n",
              "1  [{'name': 'George Lucas', 'gender': 2, 'depart...     George Lucas  \n",
              "2  [{'name': 'Andrew Stanton', 'gender': 2, 'depa...   Andrew Stanton  \n",
              "3  [{'name': 'Alan Silvestri', 'gender': 2, 'depa...  Robert Zemeckis  \n",
              "4  [{'name': 'Thomas Newman', 'gender': 2, 'depar...       Sam Mendes  \n",
              "\n",
              "[5 rows x 21 columns]"
            ],
            "text/html": [
              "\n",
              "  <div id=\"df-e4050986-43bb-486c-ab2f-9d5b545a2d0b\" class=\"colab-df-container\">\n",
              "    <div>\n",
              "<style scoped>\n",
              "    .dataframe tbody tr th:only-of-type {\n",
              "        vertical-align: middle;\n",
              "    }\n",
              "\n",
              "    .dataframe tbody tr th {\n",
              "        vertical-align: top;\n",
              "    }\n",
              "\n",
              "    .dataframe thead th {\n",
              "        text-align: right;\n",
              "    }\n",
              "</style>\n",
              "<table border=\"1\" class=\"dataframe\">\n",
              "  <thead>\n",
              "    <tr style=\"text-align: right;\">\n",
              "      <th></th>\n",
              "      <th>Movie_ID</th>\n",
              "      <th>Movie_Title</th>\n",
              "      <th>Movie_Genre</th>\n",
              "      <th>Movie_Language</th>\n",
              "      <th>Movie_Budget</th>\n",
              "      <th>Movie_Popularity</th>\n",
              "      <th>Movie_Release_Date</th>\n",
              "      <th>Movie_Revenue</th>\n",
              "      <th>Movie_Runtime</th>\n",
              "      <th>Movie_Vote</th>\n",
              "      <th>...</th>\n",
              "      <th>Movie_Homepage</th>\n",
              "      <th>Movie_Keywords</th>\n",
              "      <th>Movie_Overview</th>\n",
              "      <th>Movie_Production_House</th>\n",
              "      <th>Movie_Production_Country</th>\n",
              "      <th>Movie_Spoken_Language</th>\n",
              "      <th>Movie_Tagline</th>\n",
              "      <th>Movie_Cast</th>\n",
              "      <th>Movie_Crew</th>\n",
              "      <th>Movie_Director</th>\n",
              "    </tr>\n",
              "  </thead>\n",
              "  <tbody>\n",
              "    <tr>\n",
              "      <th>0</th>\n",
              "      <td>1</td>\n",
              "      <td>Four Rooms</td>\n",
              "      <td>Crime Comedy</td>\n",
              "      <td>en</td>\n",
              "      <td>4000000</td>\n",
              "      <td>22.876230</td>\n",
              "      <td>09-12-1995</td>\n",
              "      <td>4300000</td>\n",
              "      <td>98.0</td>\n",
              "      <td>6.5</td>\n",
              "      <td>...</td>\n",
              "      <td>NaN</td>\n",
              "      <td>hotel new year's eve witch bet hotel room</td>\n",
              "      <td>It's Ted the Bellhop's first night on the job....</td>\n",
              "      <td>[{\"name\": \"Miramax Films\", \"id\": 14}, {\"name\":...</td>\n",
              "      <td>[{\"iso_3166_1\": \"US\", \"name\": \"United States o...</td>\n",
              "      <td>[{\"iso_639_1\": \"en\", \"name\": \"English\"}]</td>\n",
              "      <td>Twelve outrageous guests. Four scandalous requ...</td>\n",
              "      <td>Tim Roth Antonio Banderas Jennifer Beals Madon...</td>\n",
              "      <td>[{'name': 'Allison Anders', 'gender': 1, 'depa...</td>\n",
              "      <td>Allison Anders</td>\n",
              "    </tr>\n",
              "    <tr>\n",
              "      <th>1</th>\n",
              "      <td>2</td>\n",
              "      <td>Star Wars</td>\n",
              "      <td>Adventure Action Science Fiction</td>\n",
              "      <td>en</td>\n",
              "      <td>11000000</td>\n",
              "      <td>126.393695</td>\n",
              "      <td>25-05-1977</td>\n",
              "      <td>775398007</td>\n",
              "      <td>121.0</td>\n",
              "      <td>8.1</td>\n",
              "      <td>...</td>\n",
              "      <td>http://www.starwars.com/films/star-wars-episod...</td>\n",
              "      <td>android galaxy hermit death star lightsaber</td>\n",
              "      <td>Princess Leia is captured and held hostage by ...</td>\n",
              "      <td>[{\"name\": \"Lucasfilm\", \"id\": 1}, {\"name\": \"Twe...</td>\n",
              "      <td>[{\"iso_3166_1\": \"US\", \"name\": \"United States o...</td>\n",
              "      <td>[{\"iso_639_1\": \"en\", \"name\": \"English\"}]</td>\n",
              "      <td>A long time ago in a galaxy far, far away...</td>\n",
              "      <td>Mark Hamill Harrison Ford Carrie Fisher Peter ...</td>\n",
              "      <td>[{'name': 'George Lucas', 'gender': 2, 'depart...</td>\n",
              "      <td>George Lucas</td>\n",
              "    </tr>\n",
              "    <tr>\n",
              "      <th>2</th>\n",
              "      <td>3</td>\n",
              "      <td>Finding Nemo</td>\n",
              "      <td>Animation Family</td>\n",
              "      <td>en</td>\n",
              "      <td>94000000</td>\n",
              "      <td>85.688789</td>\n",
              "      <td>30-05-2003</td>\n",
              "      <td>940335536</td>\n",
              "      <td>100.0</td>\n",
              "      <td>7.6</td>\n",
              "      <td>...</td>\n",
              "      <td>http://movies.disney.com/finding-nemo</td>\n",
              "      <td>father son relationship harbor underwater fish...</td>\n",
              "      <td>Nemo, an adventurous young clownfish, is unexp...</td>\n",
              "      <td>[{\"name\": \"Pixar Animation Studios\", \"id\": 3}]</td>\n",
              "      <td>[{\"iso_3166_1\": \"US\", \"name\": \"United States o...</td>\n",
              "      <td>[{\"iso_639_1\": \"en\", \"name\": \"English\"}]</td>\n",
              "      <td>There are 3.7 trillion fish in the ocean, they...</td>\n",
              "      <td>Albert Brooks Ellen DeGeneres Alexander Gould ...</td>\n",
              "      <td>[{'name': 'Andrew Stanton', 'gender': 2, 'depa...</td>\n",
              "      <td>Andrew Stanton</td>\n",
              "    </tr>\n",
              "    <tr>\n",
              "      <th>3</th>\n",
              "      <td>4</td>\n",
              "      <td>Forrest Gump</td>\n",
              "      <td>Comedy Drama Romance</td>\n",
              "      <td>en</td>\n",
              "      <td>55000000</td>\n",
              "      <td>138.133331</td>\n",
              "      <td>06-07-1994</td>\n",
              "      <td>677945399</td>\n",
              "      <td>142.0</td>\n",
              "      <td>8.2</td>\n",
              "      <td>...</td>\n",
              "      <td>NaN</td>\n",
              "      <td>vietnam veteran hippie mentally disabled runni...</td>\n",
              "      <td>A man with a low IQ has accomplished great thi...</td>\n",
              "      <td>[{\"name\": \"Paramount Pictures\", \"id\": 4}]</td>\n",
              "      <td>[{\"iso_3166_1\": \"US\", \"name\": \"United States o...</td>\n",
              "      <td>[{\"iso_639_1\": \"en\", \"name\": \"English\"}]</td>\n",
              "      <td>The world will never be the same, once you've ...</td>\n",
              "      <td>Tom Hanks Robin Wright Gary Sinise Mykelti Wil...</td>\n",
              "      <td>[{'name': 'Alan Silvestri', 'gender': 2, 'depa...</td>\n",
              "      <td>Robert Zemeckis</td>\n",
              "    </tr>\n",
              "    <tr>\n",
              "      <th>4</th>\n",
              "      <td>5</td>\n",
              "      <td>American Beauty</td>\n",
              "      <td>Drama</td>\n",
              "      <td>en</td>\n",
              "      <td>15000000</td>\n",
              "      <td>80.878605</td>\n",
              "      <td>15-09-1999</td>\n",
              "      <td>356296601</td>\n",
              "      <td>122.0</td>\n",
              "      <td>7.9</td>\n",
              "      <td>...</td>\n",
              "      <td>http://www.dreamworks.com/ab/</td>\n",
              "      <td>male nudity female nudity adultery midlife cri...</td>\n",
              "      <td>Lester Burnham, a depressed suburban father in...</td>\n",
              "      <td>[{\"name\": \"DreamWorks SKG\", \"id\": 27}, {\"name\"...</td>\n",
              "      <td>[{\"iso_3166_1\": \"US\", \"name\": \"United States o...</td>\n",
              "      <td>[{\"iso_639_1\": \"en\", \"name\": \"English\"}]</td>\n",
              "      <td>Look closer.</td>\n",
              "      <td>Kevin Spacey Annette Bening Thora Birch Wes Be...</td>\n",
              "      <td>[{'name': 'Thomas Newman', 'gender': 2, 'depar...</td>\n",
              "      <td>Sam Mendes</td>\n",
              "    </tr>\n",
              "  </tbody>\n",
              "</table>\n",
              "<p>5 rows × 21 columns</p>\n",
              "</div>\n",
              "    <div class=\"colab-df-buttons\">\n",
              "\n",
              "  <div class=\"colab-df-container\">\n",
              "    <button class=\"colab-df-convert\" onclick=\"convertToInteractive('df-e4050986-43bb-486c-ab2f-9d5b545a2d0b')\"\n",
              "            title=\"Convert this dataframe to an interactive table.\"\n",
              "            style=\"display:none;\">\n",
              "\n",
              "  <svg xmlns=\"http://www.w3.org/2000/svg\" height=\"24px\" viewBox=\"0 -960 960 960\">\n",
              "    <path d=\"M120-120v-720h720v720H120Zm60-500h600v-160H180v160Zm220 220h160v-160H400v160Zm0 220h160v-160H400v160ZM180-400h160v-160H180v160Zm440 0h160v-160H620v160ZM180-180h160v-160H180v160Zm440 0h160v-160H620v160Z\"/>\n",
              "  </svg>\n",
              "    </button>\n",
              "\n",
              "  <style>\n",
              "    .colab-df-container {\n",
              "      display:flex;\n",
              "      gap: 12px;\n",
              "    }\n",
              "\n",
              "    .colab-df-convert {\n",
              "      background-color: #E8F0FE;\n",
              "      border: none;\n",
              "      border-radius: 50%;\n",
              "      cursor: pointer;\n",
              "      display: none;\n",
              "      fill: #1967D2;\n",
              "      height: 32px;\n",
              "      padding: 0 0 0 0;\n",
              "      width: 32px;\n",
              "    }\n",
              "\n",
              "    .colab-df-convert:hover {\n",
              "      background-color: #E2EBFA;\n",
              "      box-shadow: 0px 1px 2px rgba(60, 64, 67, 0.3), 0px 1px 3px 1px rgba(60, 64, 67, 0.15);\n",
              "      fill: #174EA6;\n",
              "    }\n",
              "\n",
              "    .colab-df-buttons div {\n",
              "      margin-bottom: 4px;\n",
              "    }\n",
              "\n",
              "    [theme=dark] .colab-df-convert {\n",
              "      background-color: #3B4455;\n",
              "      fill: #D2E3FC;\n",
              "    }\n",
              "\n",
              "    [theme=dark] .colab-df-convert:hover {\n",
              "      background-color: #434B5C;\n",
              "      box-shadow: 0px 1px 3px 1px rgba(0, 0, 0, 0.15);\n",
              "      filter: drop-shadow(0px 1px 2px rgba(0, 0, 0, 0.3));\n",
              "      fill: #FFFFFF;\n",
              "    }\n",
              "  </style>\n",
              "\n",
              "    <script>\n",
              "      const buttonEl =\n",
              "        document.querySelector('#df-e4050986-43bb-486c-ab2f-9d5b545a2d0b button.colab-df-convert');\n",
              "      buttonEl.style.display =\n",
              "        google.colab.kernel.accessAllowed ? 'block' : 'none';\n",
              "\n",
              "      async function convertToInteractive(key) {\n",
              "        const element = document.querySelector('#df-e4050986-43bb-486c-ab2f-9d5b545a2d0b');\n",
              "        const dataTable =\n",
              "          await google.colab.kernel.invokeFunction('convertToInteractive',\n",
              "                                                    [key], {});\n",
              "        if (!dataTable) return;\n",
              "\n",
              "        const docLinkHtml = 'Like what you see? Visit the ' +\n",
              "          '<a target=\"_blank\" href=https://colab.research.google.com/notebooks/data_table.ipynb>data table notebook</a>'\n",
              "          + ' to learn more about interactive tables.';\n",
              "        element.innerHTML = '';\n",
              "        dataTable['output_type'] = 'display_data';\n",
              "        await google.colab.output.renderOutput(dataTable, element);\n",
              "        const docLink = document.createElement('div');\n",
              "        docLink.innerHTML = docLinkHtml;\n",
              "        element.appendChild(docLink);\n",
              "      }\n",
              "    </script>\n",
              "  </div>\n",
              "\n",
              "\n",
              "<div id=\"df-05c8f0a9-59d8-4c6d-a6da-0e8482643d58\">\n",
              "  <button class=\"colab-df-quickchart\" onclick=\"quickchart('df-05c8f0a9-59d8-4c6d-a6da-0e8482643d58')\"\n",
              "            title=\"Suggest charts\"\n",
              "            style=\"display:none;\">\n",
              "\n",
              "<svg xmlns=\"http://www.w3.org/2000/svg\" height=\"24px\"viewBox=\"0 0 24 24\"\n",
              "     width=\"24px\">\n",
              "    <g>\n",
              "        <path d=\"M19 3H5c-1.1 0-2 .9-2 2v14c0 1.1.9 2 2 2h14c1.1 0 2-.9 2-2V5c0-1.1-.9-2-2-2zM9 17H7v-7h2v7zm4 0h-2V7h2v10zm4 0h-2v-4h2v4z\"/>\n",
              "    </g>\n",
              "</svg>\n",
              "  </button>\n",
              "\n",
              "<style>\n",
              "  .colab-df-quickchart {\n",
              "      --bg-color: #E8F0FE;\n",
              "      --fill-color: #1967D2;\n",
              "      --hover-bg-color: #E2EBFA;\n",
              "      --hover-fill-color: #174EA6;\n",
              "      --disabled-fill-color: #AAA;\n",
              "      --disabled-bg-color: #DDD;\n",
              "  }\n",
              "\n",
              "  [theme=dark] .colab-df-quickchart {\n",
              "      --bg-color: #3B4455;\n",
              "      --fill-color: #D2E3FC;\n",
              "      --hover-bg-color: #434B5C;\n",
              "      --hover-fill-color: #FFFFFF;\n",
              "      --disabled-bg-color: #3B4455;\n",
              "      --disabled-fill-color: #666;\n",
              "  }\n",
              "\n",
              "  .colab-df-quickchart {\n",
              "    background-color: var(--bg-color);\n",
              "    border: none;\n",
              "    border-radius: 50%;\n",
              "    cursor: pointer;\n",
              "    display: none;\n",
              "    fill: var(--fill-color);\n",
              "    height: 32px;\n",
              "    padding: 0;\n",
              "    width: 32px;\n",
              "  }\n",
              "\n",
              "  .colab-df-quickchart:hover {\n",
              "    background-color: var(--hover-bg-color);\n",
              "    box-shadow: 0 1px 2px rgba(60, 64, 67, 0.3), 0 1px 3px 1px rgba(60, 64, 67, 0.15);\n",
              "    fill: var(--button-hover-fill-color);\n",
              "  }\n",
              "\n",
              "  .colab-df-quickchart-complete:disabled,\n",
              "  .colab-df-quickchart-complete:disabled:hover {\n",
              "    background-color: var(--disabled-bg-color);\n",
              "    fill: var(--disabled-fill-color);\n",
              "    box-shadow: none;\n",
              "  }\n",
              "\n",
              "  .colab-df-spinner {\n",
              "    border: 2px solid var(--fill-color);\n",
              "    border-color: transparent;\n",
              "    border-bottom-color: var(--fill-color);\n",
              "    animation:\n",
              "      spin 1s steps(1) infinite;\n",
              "  }\n",
              "\n",
              "  @keyframes spin {\n",
              "    0% {\n",
              "      border-color: transparent;\n",
              "      border-bottom-color: var(--fill-color);\n",
              "      border-left-color: var(--fill-color);\n",
              "    }\n",
              "    20% {\n",
              "      border-color: transparent;\n",
              "      border-left-color: var(--fill-color);\n",
              "      border-top-color: var(--fill-color);\n",
              "    }\n",
              "    30% {\n",
              "      border-color: transparent;\n",
              "      border-left-color: var(--fill-color);\n",
              "      border-top-color: var(--fill-color);\n",
              "      border-right-color: var(--fill-color);\n",
              "    }\n",
              "    40% {\n",
              "      border-color: transparent;\n",
              "      border-right-color: var(--fill-color);\n",
              "      border-top-color: var(--fill-color);\n",
              "    }\n",
              "    60% {\n",
              "      border-color: transparent;\n",
              "      border-right-color: var(--fill-color);\n",
              "    }\n",
              "    80% {\n",
              "      border-color: transparent;\n",
              "      border-right-color: var(--fill-color);\n",
              "      border-bottom-color: var(--fill-color);\n",
              "    }\n",
              "    90% {\n",
              "      border-color: transparent;\n",
              "      border-bottom-color: var(--fill-color);\n",
              "    }\n",
              "  }\n",
              "</style>\n",
              "\n",
              "  <script>\n",
              "    async function quickchart(key) {\n",
              "      const quickchartButtonEl =\n",
              "        document.querySelector('#' + key + ' button');\n",
              "      quickchartButtonEl.disabled = true;  // To prevent multiple clicks.\n",
              "      quickchartButtonEl.classList.add('colab-df-spinner');\n",
              "      try {\n",
              "        const charts = await google.colab.kernel.invokeFunction(\n",
              "            'suggestCharts', [key], {});\n",
              "      } catch (error) {\n",
              "        console.error('Error during call to suggestCharts:', error);\n",
              "      }\n",
              "      quickchartButtonEl.classList.remove('colab-df-spinner');\n",
              "      quickchartButtonEl.classList.add('colab-df-quickchart-complete');\n",
              "    }\n",
              "    (() => {\n",
              "      let quickchartButtonEl =\n",
              "        document.querySelector('#df-05c8f0a9-59d8-4c6d-a6da-0e8482643d58 button');\n",
              "      quickchartButtonEl.style.display =\n",
              "        google.colab.kernel.accessAllowed ? 'block' : 'none';\n",
              "    })();\n",
              "  </script>\n",
              "</div>\n",
              "\n",
              "    </div>\n",
              "  </div>\n"
            ],
            "application/vnd.google.colaboratory.intrinsic+json": {
              "type": "dataframe",
              "variable_name": "df"
            }
          },
          "metadata": {},
          "execution_count": 3
        }
      ]
    },
    {
      "cell_type": "code",
      "source": [
        "df.info()"
      ],
      "metadata": {
        "colab": {
          "base_uri": "https://localhost:8080/"
        },
        "id": "RBp9LAHRrNVR",
        "outputId": "d9c6d3d5-95cf-4938-ee80-3f4e59a6f8c8"
      },
      "execution_count": 4,
      "outputs": [
        {
          "output_type": "stream",
          "name": "stdout",
          "text": [
            "<class 'pandas.core.frame.DataFrame'>\n",
            "RangeIndex: 4760 entries, 0 to 4759\n",
            "Data columns (total 21 columns):\n",
            " #   Column                    Non-Null Count  Dtype  \n",
            "---  ------                    --------------  -----  \n",
            " 0   Movie_ID                  4760 non-null   int64  \n",
            " 1   Movie_Title               4760 non-null   object \n",
            " 2   Movie_Genre               4760 non-null   object \n",
            " 3   Movie_Language            4760 non-null   object \n",
            " 4   Movie_Budget              4760 non-null   int64  \n",
            " 5   Movie_Popularity          4760 non-null   float64\n",
            " 6   Movie_Release_Date        4760 non-null   object \n",
            " 7   Movie_Revenue             4760 non-null   int64  \n",
            " 8   Movie_Runtime             4758 non-null   float64\n",
            " 9   Movie_Vote                4760 non-null   float64\n",
            " 10  Movie_Vote_Count          4760 non-null   int64  \n",
            " 11  Movie_Homepage            1699 non-null   object \n",
            " 12  Movie_Keywords            4373 non-null   object \n",
            " 13  Movie_Overview            4757 non-null   object \n",
            " 14  Movie_Production_House    4760 non-null   object \n",
            " 15  Movie_Production_Country  4760 non-null   object \n",
            " 16  Movie_Spoken_Language     4760 non-null   object \n",
            " 17  Movie_Tagline             3942 non-null   object \n",
            " 18  Movie_Cast                4733 non-null   object \n",
            " 19  Movie_Crew                4760 non-null   object \n",
            " 20  Movie_Director            4738 non-null   object \n",
            "dtypes: float64(3), int64(4), object(14)\n",
            "memory usage: 781.1+ KB\n"
          ]
        }
      ]
    },
    {
      "cell_type": "code",
      "source": [
        "df.shape"
      ],
      "metadata": {
        "colab": {
          "base_uri": "https://localhost:8080/"
        },
        "id": "Lng7L3Uvrg3f",
        "outputId": "b5209157-e011-48c0-81b3-493069e3cf4d"
      },
      "execution_count": 5,
      "outputs": [
        {
          "output_type": "execute_result",
          "data": {
            "text/plain": [
              "(4760, 21)"
            ]
          },
          "metadata": {},
          "execution_count": 5
        }
      ]
    },
    {
      "cell_type": "code",
      "source": [
        "df.columns"
      ],
      "metadata": {
        "colab": {
          "base_uri": "https://localhost:8080/"
        },
        "id": "YscfZi_SroBZ",
        "outputId": "51e26f01-39e9-4e16-aec3-023736adbb9d"
      },
      "execution_count": 6,
      "outputs": [
        {
          "output_type": "execute_result",
          "data": {
            "text/plain": [
              "Index(['Movie_ID', 'Movie_Title', 'Movie_Genre', 'Movie_Language',\n",
              "       'Movie_Budget', 'Movie_Popularity', 'Movie_Release_Date',\n",
              "       'Movie_Revenue', 'Movie_Runtime', 'Movie_Vote', 'Movie_Vote_Count',\n",
              "       'Movie_Homepage', 'Movie_Keywords', 'Movie_Overview',\n",
              "       'Movie_Production_House', 'Movie_Production_Country',\n",
              "       'Movie_Spoken_Language', 'Movie_Tagline', 'Movie_Cast', 'Movie_Crew',\n",
              "       'Movie_Director'],\n",
              "      dtype='object')"
            ]
          },
          "metadata": {},
          "execution_count": 6
        }
      ]
    },
    {
      "cell_type": "code",
      "source": [
        "df_features=df[['Movie_Genre','Movie_Keywords','Movie_Tagline','Movie_Cast','Movie_Director']].fillna('')"
      ],
      "metadata": {
        "id": "GFYGPZXsrsqo"
      },
      "execution_count": 10,
      "outputs": []
    },
    {
      "cell_type": "code",
      "source": [
        "df_features.shape"
      ],
      "metadata": {
        "colab": {
          "base_uri": "https://localhost:8080/"
        },
        "id": "1e8HZ1iusmVW",
        "outputId": "c95eb856-636e-4ea8-c8a8-5b947a4cf445"
      },
      "execution_count": 11,
      "outputs": [
        {
          "output_type": "execute_result",
          "data": {
            "text/plain": [
              "(4760, 5)"
            ]
          },
          "metadata": {},
          "execution_count": 11
        }
      ]
    },
    {
      "cell_type": "code",
      "source": [
        "df_features"
      ],
      "metadata": {
        "colab": {
          "base_uri": "https://localhost:8080/",
          "height": 579
        },
        "id": "h5GgeQ0GsuJb",
        "outputId": "dc606459-4012-4909-c8dc-f596c565182f"
      },
      "execution_count": 12,
      "outputs": [
        {
          "output_type": "execute_result",
          "data": {
            "text/plain": [
              "                           Movie_Genre  \\\n",
              "0                         Crime Comedy   \n",
              "1     Adventure Action Science Fiction   \n",
              "2                     Animation Family   \n",
              "3                 Comedy Drama Romance   \n",
              "4                                Drama   \n",
              "...                                ...   \n",
              "4755                            Horror   \n",
              "4756               Comedy Family Drama   \n",
              "4757                    Thriller Drama   \n",
              "4758                            Family   \n",
              "4759                       Documentary   \n",
              "\n",
              "                                         Movie_Keywords  \\\n",
              "0             hotel new year's eve witch bet hotel room   \n",
              "1           android galaxy hermit death star lightsaber   \n",
              "2     father son relationship harbor underwater fish...   \n",
              "3     vietnam veteran hippie mentally disabled runni...   \n",
              "4     male nudity female nudity adultery midlife cri...   \n",
              "...                                                 ...   \n",
              "4755                                                      \n",
              "4756                                                      \n",
              "4757                     christian film sex trafficking   \n",
              "4758                                                      \n",
              "4759  music actors legendary perfomer classic hollyw...   \n",
              "\n",
              "                                          Movie_Tagline  \\\n",
              "0     Twelve outrageous guests. Four scandalous requ...   \n",
              "1          A long time ago in a galaxy far, far away...   \n",
              "2     There are 3.7 trillion fish in the ocean, they...   \n",
              "3     The world will never be the same, once you've ...   \n",
              "4                                          Look closer.   \n",
              "...                                                 ...   \n",
              "4755                The hot spot where Satan's waitin'.   \n",
              "4756           It’s better to stand out than to fit in.   \n",
              "4757           She never knew it could happen to her...   \n",
              "4758                                                      \n",
              "4759                                                      \n",
              "\n",
              "                                             Movie_Cast     Movie_Director  \n",
              "0     Tim Roth Antonio Banderas Jennifer Beals Madon...     Allison Anders  \n",
              "1     Mark Hamill Harrison Ford Carrie Fisher Peter ...       George Lucas  \n",
              "2     Albert Brooks Ellen DeGeneres Alexander Gould ...     Andrew Stanton  \n",
              "3     Tom Hanks Robin Wright Gary Sinise Mykelti Wil...    Robert Zemeckis  \n",
              "4     Kevin Spacey Annette Bening Thora Birch Wes Be...         Sam Mendes  \n",
              "...                                                 ...                ...  \n",
              "4755  Lisa Hart Carroll Michael Des Barres Paul Drak...         Pece Dingo  \n",
              "4756  Roni Akurati Brighton Sharbino Jason Lee Anjul...       Frank Lotito  \n",
              "4757  Nicole Smolen Kim Baldwin Ariana Stephens Brys...       Jaco Booyens  \n",
              "4758                                                                        \n",
              "4759                                    Tony Oppedisano  Simon Napier-Bell  \n",
              "\n",
              "[4760 rows x 5 columns]"
            ],
            "text/html": [
              "\n",
              "  <div id=\"df-c130b696-24fc-42df-8862-7ae1de114f70\" class=\"colab-df-container\">\n",
              "    <div>\n",
              "<style scoped>\n",
              "    .dataframe tbody tr th:only-of-type {\n",
              "        vertical-align: middle;\n",
              "    }\n",
              "\n",
              "    .dataframe tbody tr th {\n",
              "        vertical-align: top;\n",
              "    }\n",
              "\n",
              "    .dataframe thead th {\n",
              "        text-align: right;\n",
              "    }\n",
              "</style>\n",
              "<table border=\"1\" class=\"dataframe\">\n",
              "  <thead>\n",
              "    <tr style=\"text-align: right;\">\n",
              "      <th></th>\n",
              "      <th>Movie_Genre</th>\n",
              "      <th>Movie_Keywords</th>\n",
              "      <th>Movie_Tagline</th>\n",
              "      <th>Movie_Cast</th>\n",
              "      <th>Movie_Director</th>\n",
              "    </tr>\n",
              "  </thead>\n",
              "  <tbody>\n",
              "    <tr>\n",
              "      <th>0</th>\n",
              "      <td>Crime Comedy</td>\n",
              "      <td>hotel new year's eve witch bet hotel room</td>\n",
              "      <td>Twelve outrageous guests. Four scandalous requ...</td>\n",
              "      <td>Tim Roth Antonio Banderas Jennifer Beals Madon...</td>\n",
              "      <td>Allison Anders</td>\n",
              "    </tr>\n",
              "    <tr>\n",
              "      <th>1</th>\n",
              "      <td>Adventure Action Science Fiction</td>\n",
              "      <td>android galaxy hermit death star lightsaber</td>\n",
              "      <td>A long time ago in a galaxy far, far away...</td>\n",
              "      <td>Mark Hamill Harrison Ford Carrie Fisher Peter ...</td>\n",
              "      <td>George Lucas</td>\n",
              "    </tr>\n",
              "    <tr>\n",
              "      <th>2</th>\n",
              "      <td>Animation Family</td>\n",
              "      <td>father son relationship harbor underwater fish...</td>\n",
              "      <td>There are 3.7 trillion fish in the ocean, they...</td>\n",
              "      <td>Albert Brooks Ellen DeGeneres Alexander Gould ...</td>\n",
              "      <td>Andrew Stanton</td>\n",
              "    </tr>\n",
              "    <tr>\n",
              "      <th>3</th>\n",
              "      <td>Comedy Drama Romance</td>\n",
              "      <td>vietnam veteran hippie mentally disabled runni...</td>\n",
              "      <td>The world will never be the same, once you've ...</td>\n",
              "      <td>Tom Hanks Robin Wright Gary Sinise Mykelti Wil...</td>\n",
              "      <td>Robert Zemeckis</td>\n",
              "    </tr>\n",
              "    <tr>\n",
              "      <th>4</th>\n",
              "      <td>Drama</td>\n",
              "      <td>male nudity female nudity adultery midlife cri...</td>\n",
              "      <td>Look closer.</td>\n",
              "      <td>Kevin Spacey Annette Bening Thora Birch Wes Be...</td>\n",
              "      <td>Sam Mendes</td>\n",
              "    </tr>\n",
              "    <tr>\n",
              "      <th>...</th>\n",
              "      <td>...</td>\n",
              "      <td>...</td>\n",
              "      <td>...</td>\n",
              "      <td>...</td>\n",
              "      <td>...</td>\n",
              "    </tr>\n",
              "    <tr>\n",
              "      <th>4755</th>\n",
              "      <td>Horror</td>\n",
              "      <td></td>\n",
              "      <td>The hot spot where Satan's waitin'.</td>\n",
              "      <td>Lisa Hart Carroll Michael Des Barres Paul Drak...</td>\n",
              "      <td>Pece Dingo</td>\n",
              "    </tr>\n",
              "    <tr>\n",
              "      <th>4756</th>\n",
              "      <td>Comedy Family Drama</td>\n",
              "      <td></td>\n",
              "      <td>It’s better to stand out than to fit in.</td>\n",
              "      <td>Roni Akurati Brighton Sharbino Jason Lee Anjul...</td>\n",
              "      <td>Frank Lotito</td>\n",
              "    </tr>\n",
              "    <tr>\n",
              "      <th>4757</th>\n",
              "      <td>Thriller Drama</td>\n",
              "      <td>christian film sex trafficking</td>\n",
              "      <td>She never knew it could happen to her...</td>\n",
              "      <td>Nicole Smolen Kim Baldwin Ariana Stephens Brys...</td>\n",
              "      <td>Jaco Booyens</td>\n",
              "    </tr>\n",
              "    <tr>\n",
              "      <th>4758</th>\n",
              "      <td>Family</td>\n",
              "      <td></td>\n",
              "      <td></td>\n",
              "      <td></td>\n",
              "      <td></td>\n",
              "    </tr>\n",
              "    <tr>\n",
              "      <th>4759</th>\n",
              "      <td>Documentary</td>\n",
              "      <td>music actors legendary perfomer classic hollyw...</td>\n",
              "      <td></td>\n",
              "      <td>Tony Oppedisano</td>\n",
              "      <td>Simon Napier-Bell</td>\n",
              "    </tr>\n",
              "  </tbody>\n",
              "</table>\n",
              "<p>4760 rows × 5 columns</p>\n",
              "</div>\n",
              "    <div class=\"colab-df-buttons\">\n",
              "\n",
              "  <div class=\"colab-df-container\">\n",
              "    <button class=\"colab-df-convert\" onclick=\"convertToInteractive('df-c130b696-24fc-42df-8862-7ae1de114f70')\"\n",
              "            title=\"Convert this dataframe to an interactive table.\"\n",
              "            style=\"display:none;\">\n",
              "\n",
              "  <svg xmlns=\"http://www.w3.org/2000/svg\" height=\"24px\" viewBox=\"0 -960 960 960\">\n",
              "    <path d=\"M120-120v-720h720v720H120Zm60-500h600v-160H180v160Zm220 220h160v-160H400v160Zm0 220h160v-160H400v160ZM180-400h160v-160H180v160Zm440 0h160v-160H620v160ZM180-180h160v-160H180v160Zm440 0h160v-160H620v160Z\"/>\n",
              "  </svg>\n",
              "    </button>\n",
              "\n",
              "  <style>\n",
              "    .colab-df-container {\n",
              "      display:flex;\n",
              "      gap: 12px;\n",
              "    }\n",
              "\n",
              "    .colab-df-convert {\n",
              "      background-color: #E8F0FE;\n",
              "      border: none;\n",
              "      border-radius: 50%;\n",
              "      cursor: pointer;\n",
              "      display: none;\n",
              "      fill: #1967D2;\n",
              "      height: 32px;\n",
              "      padding: 0 0 0 0;\n",
              "      width: 32px;\n",
              "    }\n",
              "\n",
              "    .colab-df-convert:hover {\n",
              "      background-color: #E2EBFA;\n",
              "      box-shadow: 0px 1px 2px rgba(60, 64, 67, 0.3), 0px 1px 3px 1px rgba(60, 64, 67, 0.15);\n",
              "      fill: #174EA6;\n",
              "    }\n",
              "\n",
              "    .colab-df-buttons div {\n",
              "      margin-bottom: 4px;\n",
              "    }\n",
              "\n",
              "    [theme=dark] .colab-df-convert {\n",
              "      background-color: #3B4455;\n",
              "      fill: #D2E3FC;\n",
              "    }\n",
              "\n",
              "    [theme=dark] .colab-df-convert:hover {\n",
              "      background-color: #434B5C;\n",
              "      box-shadow: 0px 1px 3px 1px rgba(0, 0, 0, 0.15);\n",
              "      filter: drop-shadow(0px 1px 2px rgba(0, 0, 0, 0.3));\n",
              "      fill: #FFFFFF;\n",
              "    }\n",
              "  </style>\n",
              "\n",
              "    <script>\n",
              "      const buttonEl =\n",
              "        document.querySelector('#df-c130b696-24fc-42df-8862-7ae1de114f70 button.colab-df-convert');\n",
              "      buttonEl.style.display =\n",
              "        google.colab.kernel.accessAllowed ? 'block' : 'none';\n",
              "\n",
              "      async function convertToInteractive(key) {\n",
              "        const element = document.querySelector('#df-c130b696-24fc-42df-8862-7ae1de114f70');\n",
              "        const dataTable =\n",
              "          await google.colab.kernel.invokeFunction('convertToInteractive',\n",
              "                                                    [key], {});\n",
              "        if (!dataTable) return;\n",
              "\n",
              "        const docLinkHtml = 'Like what you see? Visit the ' +\n",
              "          '<a target=\"_blank\" href=https://colab.research.google.com/notebooks/data_table.ipynb>data table notebook</a>'\n",
              "          + ' to learn more about interactive tables.';\n",
              "        element.innerHTML = '';\n",
              "        dataTable['output_type'] = 'display_data';\n",
              "        await google.colab.output.renderOutput(dataTable, element);\n",
              "        const docLink = document.createElement('div');\n",
              "        docLink.innerHTML = docLinkHtml;\n",
              "        element.appendChild(docLink);\n",
              "      }\n",
              "    </script>\n",
              "  </div>\n",
              "\n",
              "\n",
              "<div id=\"df-b784f613-24bb-446f-b70c-2ddefc8686a1\">\n",
              "  <button class=\"colab-df-quickchart\" onclick=\"quickchart('df-b784f613-24bb-446f-b70c-2ddefc8686a1')\"\n",
              "            title=\"Suggest charts\"\n",
              "            style=\"display:none;\">\n",
              "\n",
              "<svg xmlns=\"http://www.w3.org/2000/svg\" height=\"24px\"viewBox=\"0 0 24 24\"\n",
              "     width=\"24px\">\n",
              "    <g>\n",
              "        <path d=\"M19 3H5c-1.1 0-2 .9-2 2v14c0 1.1.9 2 2 2h14c1.1 0 2-.9 2-2V5c0-1.1-.9-2-2-2zM9 17H7v-7h2v7zm4 0h-2V7h2v10zm4 0h-2v-4h2v4z\"/>\n",
              "    </g>\n",
              "</svg>\n",
              "  </button>\n",
              "\n",
              "<style>\n",
              "  .colab-df-quickchart {\n",
              "      --bg-color: #E8F0FE;\n",
              "      --fill-color: #1967D2;\n",
              "      --hover-bg-color: #E2EBFA;\n",
              "      --hover-fill-color: #174EA6;\n",
              "      --disabled-fill-color: #AAA;\n",
              "      --disabled-bg-color: #DDD;\n",
              "  }\n",
              "\n",
              "  [theme=dark] .colab-df-quickchart {\n",
              "      --bg-color: #3B4455;\n",
              "      --fill-color: #D2E3FC;\n",
              "      --hover-bg-color: #434B5C;\n",
              "      --hover-fill-color: #FFFFFF;\n",
              "      --disabled-bg-color: #3B4455;\n",
              "      --disabled-fill-color: #666;\n",
              "  }\n",
              "\n",
              "  .colab-df-quickchart {\n",
              "    background-color: var(--bg-color);\n",
              "    border: none;\n",
              "    border-radius: 50%;\n",
              "    cursor: pointer;\n",
              "    display: none;\n",
              "    fill: var(--fill-color);\n",
              "    height: 32px;\n",
              "    padding: 0;\n",
              "    width: 32px;\n",
              "  }\n",
              "\n",
              "  .colab-df-quickchart:hover {\n",
              "    background-color: var(--hover-bg-color);\n",
              "    box-shadow: 0 1px 2px rgba(60, 64, 67, 0.3), 0 1px 3px 1px rgba(60, 64, 67, 0.15);\n",
              "    fill: var(--button-hover-fill-color);\n",
              "  }\n",
              "\n",
              "  .colab-df-quickchart-complete:disabled,\n",
              "  .colab-df-quickchart-complete:disabled:hover {\n",
              "    background-color: var(--disabled-bg-color);\n",
              "    fill: var(--disabled-fill-color);\n",
              "    box-shadow: none;\n",
              "  }\n",
              "\n",
              "  .colab-df-spinner {\n",
              "    border: 2px solid var(--fill-color);\n",
              "    border-color: transparent;\n",
              "    border-bottom-color: var(--fill-color);\n",
              "    animation:\n",
              "      spin 1s steps(1) infinite;\n",
              "  }\n",
              "\n",
              "  @keyframes spin {\n",
              "    0% {\n",
              "      border-color: transparent;\n",
              "      border-bottom-color: var(--fill-color);\n",
              "      border-left-color: var(--fill-color);\n",
              "    }\n",
              "    20% {\n",
              "      border-color: transparent;\n",
              "      border-left-color: var(--fill-color);\n",
              "      border-top-color: var(--fill-color);\n",
              "    }\n",
              "    30% {\n",
              "      border-color: transparent;\n",
              "      border-left-color: var(--fill-color);\n",
              "      border-top-color: var(--fill-color);\n",
              "      border-right-color: var(--fill-color);\n",
              "    }\n",
              "    40% {\n",
              "      border-color: transparent;\n",
              "      border-right-color: var(--fill-color);\n",
              "      border-top-color: var(--fill-color);\n",
              "    }\n",
              "    60% {\n",
              "      border-color: transparent;\n",
              "      border-right-color: var(--fill-color);\n",
              "    }\n",
              "    80% {\n",
              "      border-color: transparent;\n",
              "      border-right-color: var(--fill-color);\n",
              "      border-bottom-color: var(--fill-color);\n",
              "    }\n",
              "    90% {\n",
              "      border-color: transparent;\n",
              "      border-bottom-color: var(--fill-color);\n",
              "    }\n",
              "  }\n",
              "</style>\n",
              "\n",
              "  <script>\n",
              "    async function quickchart(key) {\n",
              "      const quickchartButtonEl =\n",
              "        document.querySelector('#' + key + ' button');\n",
              "      quickchartButtonEl.disabled = true;  // To prevent multiple clicks.\n",
              "      quickchartButtonEl.classList.add('colab-df-spinner');\n",
              "      try {\n",
              "        const charts = await google.colab.kernel.invokeFunction(\n",
              "            'suggestCharts', [key], {});\n",
              "      } catch (error) {\n",
              "        console.error('Error during call to suggestCharts:', error);\n",
              "      }\n",
              "      quickchartButtonEl.classList.remove('colab-df-spinner');\n",
              "      quickchartButtonEl.classList.add('colab-df-quickchart-complete');\n",
              "    }\n",
              "    (() => {\n",
              "      let quickchartButtonEl =\n",
              "        document.querySelector('#df-b784f613-24bb-446f-b70c-2ddefc8686a1 button');\n",
              "      quickchartButtonEl.style.display =\n",
              "        google.colab.kernel.accessAllowed ? 'block' : 'none';\n",
              "    })();\n",
              "  </script>\n",
              "</div>\n",
              "\n",
              "  <div id=\"id_b0f29aec-ddf4-40f7-b68b-46b995627f69\">\n",
              "    <style>\n",
              "      .colab-df-generate {\n",
              "        background-color: #E8F0FE;\n",
              "        border: none;\n",
              "        border-radius: 50%;\n",
              "        cursor: pointer;\n",
              "        display: none;\n",
              "        fill: #1967D2;\n",
              "        height: 32px;\n",
              "        padding: 0 0 0 0;\n",
              "        width: 32px;\n",
              "      }\n",
              "\n",
              "      .colab-df-generate:hover {\n",
              "        background-color: #E2EBFA;\n",
              "        box-shadow: 0px 1px 2px rgba(60, 64, 67, 0.3), 0px 1px 3px 1px rgba(60, 64, 67, 0.15);\n",
              "        fill: #174EA6;\n",
              "      }\n",
              "\n",
              "      [theme=dark] .colab-df-generate {\n",
              "        background-color: #3B4455;\n",
              "        fill: #D2E3FC;\n",
              "      }\n",
              "\n",
              "      [theme=dark] .colab-df-generate:hover {\n",
              "        background-color: #434B5C;\n",
              "        box-shadow: 0px 1px 3px 1px rgba(0, 0, 0, 0.15);\n",
              "        filter: drop-shadow(0px 1px 2px rgba(0, 0, 0, 0.3));\n",
              "        fill: #FFFFFF;\n",
              "      }\n",
              "    </style>\n",
              "    <button class=\"colab-df-generate\" onclick=\"generateWithVariable('df_features')\"\n",
              "            title=\"Generate code using this dataframe.\"\n",
              "            style=\"display:none;\">\n",
              "\n",
              "  <svg xmlns=\"http://www.w3.org/2000/svg\" height=\"24px\"viewBox=\"0 0 24 24\"\n",
              "       width=\"24px\">\n",
              "    <path d=\"M7,19H8.4L18.45,9,17,7.55,7,17.6ZM5,21V16.75L18.45,3.32a2,2,0,0,1,2.83,0l1.4,1.43a1.91,1.91,0,0,1,.58,1.4,1.91,1.91,0,0,1-.58,1.4L9.25,21ZM18.45,9,17,7.55Zm-12,3A5.31,5.31,0,0,0,4.9,8.1,5.31,5.31,0,0,0,1,6.5,5.31,5.31,0,0,0,4.9,4.9,5.31,5.31,0,0,0,6.5,1,5.31,5.31,0,0,0,8.1,4.9,5.31,5.31,0,0,0,12,6.5,5.46,5.46,0,0,0,6.5,12Z\"/>\n",
              "  </svg>\n",
              "    </button>\n",
              "    <script>\n",
              "      (() => {\n",
              "      const buttonEl =\n",
              "        document.querySelector('#id_b0f29aec-ddf4-40f7-b68b-46b995627f69 button.colab-df-generate');\n",
              "      buttonEl.style.display =\n",
              "        google.colab.kernel.accessAllowed ? 'block' : 'none';\n",
              "\n",
              "      buttonEl.onclick = () => {\n",
              "        google.colab.notebook.generateWithVariable('df_features');\n",
              "      }\n",
              "      })();\n",
              "    </script>\n",
              "  </div>\n",
              "\n",
              "    </div>\n",
              "  </div>\n"
            ],
            "application/vnd.google.colaboratory.intrinsic+json": {
              "type": "dataframe",
              "variable_name": "df_features",
              "summary": "{\n  \"name\": \"df_features\",\n  \"rows\": 4760,\n  \"fields\": [\n    {\n      \"column\": \"Movie_Genre\",\n      \"properties\": {\n        \"dtype\": \"category\",\n        \"num_unique_values\": 1164,\n        \"samples\": [\n          \"Family Animation Adventure\",\n          \"Adventure Science Fiction Action\",\n          \"Action Crime Drama Romance Thriller\"\n        ],\n        \"semantic_type\": \"\",\n        \"description\": \"\"\n      }\n    },\n    {\n      \"column\": \"Movie_Keywords\",\n      \"properties\": {\n        \"dtype\": \"string\",\n        \"num_unique_values\": 4203,\n        \"samples\": [\n          \"canada nazis sequel spin off ancient evil\",\n          \"sex professor wedding woman director columbia university\",\n          \"prophecy sea beach gold small town\"\n        ],\n        \"semantic_type\": \"\",\n        \"description\": \"\"\n      }\n    },\n    {\n      \"column\": \"Movie_Tagline\",\n      \"properties\": {\n        \"dtype\": \"string\",\n        \"num_unique_values\": 3928,\n        \"samples\": [\n          \"The messenger must be silenced.\",\n          \"It's not the house that's haunted.\",\n          \"The final hunt begins.\"\n        ],\n        \"semantic_type\": \"\",\n        \"description\": \"\"\n      }\n    },\n    {\n      \"column\": \"Movie_Cast\",\n      \"properties\": {\n        \"dtype\": \"string\",\n        \"num_unique_values\": 4715,\n        \"samples\": [\n          \"Robin Tunney Fairuza Balk Neve Campbell Rachel True Skeet Ulrich\",\n          \"Peter Sellers Christopher Plummer Herbert Lom Catherine Schell Peter Arne\",\n          \"John Wayne Laraine Day Cedric Hardwicke Judith Anderson Anthony Quinn\"\n        ],\n        \"semantic_type\": \"\",\n        \"description\": \"\"\n      }\n    },\n    {\n      \"column\": \"Movie_Director\",\n      \"properties\": {\n        \"dtype\": \"category\",\n        \"num_unique_values\": 2332,\n        \"samples\": [\n          \"Rob McKittrick\",\n          \"Terron R. Parsons\",\n          \"Cyrus Nowrasteh\"\n        ],\n        \"semantic_type\": \"\",\n        \"description\": \"\"\n      }\n    }\n  ]\n}"
            }
          },
          "metadata": {},
          "execution_count": 12
        }
      ]
    },
    {
      "cell_type": "code",
      "source": [
        "x=df_features['Movie_Genre']+' '+df_features['Movie_Keywords']+' '+df_features['Movie_Tagline']+' '+df_features['Movie_Cast']+' '+df_features['Movie_Cast']"
      ],
      "metadata": {
        "id": "bkgVn9tDs2vB"
      },
      "execution_count": 13,
      "outputs": []
    },
    {
      "cell_type": "code",
      "source": [
        "x"
      ],
      "metadata": {
        "colab": {
          "base_uri": "https://localhost:8080/"
        },
        "id": "kAOMf2F5txuQ",
        "outputId": "ee8d38d2-938e-453c-fb66-7673dbd18661"
      },
      "execution_count": 14,
      "outputs": [
        {
          "output_type": "execute_result",
          "data": {
            "text/plain": [
              "0       Crime Comedy hotel new year's eve witch bet ho...\n",
              "1       Adventure Action Science Fiction android galax...\n",
              "2       Animation Family father son relationship harbo...\n",
              "3       Comedy Drama Romance vietnam veteran hippie me...\n",
              "4       Drama male nudity female nudity adultery midli...\n",
              "                              ...                        \n",
              "4755    Horror  The hot spot where Satan's waitin'. Li...\n",
              "4756    Comedy Family Drama  It’s better to stand out ...\n",
              "4757    Thriller Drama christian film sex trafficking ...\n",
              "4758                                           Family    \n",
              "4759    Documentary music actors legendary perfomer cl...\n",
              "Length: 4760, dtype: object"
            ]
          },
          "metadata": {},
          "execution_count": 14
        }
      ]
    },
    {
      "cell_type": "code",
      "source": [
        "x.shape"
      ],
      "metadata": {
        "colab": {
          "base_uri": "https://localhost:8080/"
        },
        "id": "iSu7VwJbt0SN",
        "outputId": "e45b5730-d342-44a0-db75-08dd63442c03"
      },
      "execution_count": 15,
      "outputs": [
        {
          "output_type": "execute_result",
          "data": {
            "text/plain": [
              "(4760,)"
            ]
          },
          "metadata": {},
          "execution_count": 15
        }
      ]
    },
    {
      "cell_type": "code",
      "source": [
        "from sklearn.feature_extraction.text import TfidfVectorizer"
      ],
      "metadata": {
        "id": "C1PqvfW9t4zJ"
      },
      "execution_count": 16,
      "outputs": []
    },
    {
      "cell_type": "code",
      "source": [
        "tfidf=TfidfVectorizer()"
      ],
      "metadata": {
        "id": "FHTCKqxFuG3_"
      },
      "execution_count": 17,
      "outputs": []
    },
    {
      "cell_type": "code",
      "source": [
        "x=tfidf.fit_transform(x)"
      ],
      "metadata": {
        "id": "ajMwoKwxuPyz"
      },
      "execution_count": 19,
      "outputs": []
    },
    {
      "cell_type": "code",
      "source": [
        "x.shape"
      ],
      "metadata": {
        "colab": {
          "base_uri": "https://localhost:8080/"
        },
        "id": "RHg9ZYbdufzQ",
        "outputId": "385abc56-a327-498d-dcdf-bdc94c626f4b"
      },
      "execution_count": 20,
      "outputs": [
        {
          "output_type": "execute_result",
          "data": {
            "text/plain": [
              "(4760, 15808)"
            ]
          },
          "metadata": {},
          "execution_count": 20
        }
      ]
    },
    {
      "cell_type": "code",
      "source": [
        "print(x)"
      ],
      "metadata": {
        "colab": {
          "base_uri": "https://localhost:8080/"
        },
        "id": "HpxmzIgkuiow",
        "outputId": "dc2bf45d-8a4e-4176-f978-9684516b4d50"
      },
      "execution_count": 21,
      "outputs": [
        {
          "output_type": "stream",
          "name": "stdout",
          "text": [
            "  (0, 14123)\t0.23928026792632423\n",
            "  (0, 8869)\t0.2322727063475686\n",
            "  (0, 8674)\t0.27100681419305445\n",
            "  (0, 1285)\t0.2759045048942808\n",
            "  (0, 7199)\t0.16067312058993427\n",
            "  (0, 1130)\t0.22777587424645485\n",
            "  (0, 683)\t0.2237706411224259\n",
            "  (0, 12013)\t0.24335982366307243\n",
            "  (0, 14073)\t0.18432854313045138\n",
            "  (0, 8297)\t0.07076583487538293\n",
            "  (0, 10210)\t0.051025828287927594\n",
            "  (0, 15373)\t0.1441228499078979\n",
            "  (0, 5183)\t0.07023614900390786\n",
            "  (0, 15338)\t0.08726995233168286\n",
            "  (0, 7269)\t0.10896821747230916\n",
            "  (0, 13946)\t0.08000749306634201\n",
            "  (0, 10284)\t0.059413213910697\n",
            "  (0, 3580)\t0.09795056652173295\n",
            "  (0, 5082)\t0.09350675599580133\n",
            "  (0, 6500)\t0.16182300149564394\n",
            "  (0, 6858)\t0.12037800282992717\n",
            "  (0, 1384)\t0.16092679581498134\n",
            "  (0, 8442)\t0.12659963148245448\n",
            "  (0, 10286)\t0.06745584079072893\n",
            "  (0, 579)\t0.06239153692375835\n",
            "  :\t:\n",
            "  (4757, 12687)\t0.11020101222178362\n",
            "  (4757, 12596)\t0.10012775474710814\n",
            "  (4757, 10017)\t0.2508717359554759\n",
            "  (4757, 5040)\t0.08363659987530472\n",
            "  (4757, 2725)\t0.11206703839360328\n",
            "  (4757, 7779)\t0.15749513345198218\n",
            "  (4757, 6379)\t0.11441371850799384\n",
            "  (4757, 7702)\t0.2377174666547059\n",
            "  (4757, 14025)\t0.051249674196711295\n",
            "  (4757, 14099)\t0.06534315783239765\n",
            "  (4757, 7047)\t0.07686036695474832\n",
            "  (4757, 9974)\t0.09739578405244616\n",
            "  (4757, 4145)\t0.03799891149231154\n",
            "  (4758, 4847)\t1.0\n",
            "  (4759, 10305)\t0.5926098149920908\n",
            "  (4759, 10714)\t0.2963049074960454\n",
            "  (4759, 203)\t0.2826136938120612\n",
            "  (4759, 8175)\t0.26536480449858424\n",
            "  (4759, 12876)\t0.2826136938120612\n",
            "  (4759, 2811)\t0.24551719574300046\n",
            "  (4759, 6556)\t0.23059796717544284\n",
            "  (4759, 5256)\t0.18899255627175512\n",
            "  (4759, 4019)\t0.1597844579276466\n",
            "  (4759, 14138)\t0.37003082657772657\n",
            "  (4759, 9762)\t0.13867711358374898\n"
          ]
        }
      ]
    },
    {
      "cell_type": "code",
      "source": [
        "from sklearn.metrics.pairwise import cosine_similarity"
      ],
      "metadata": {
        "id": "GbpJtfHcu70b"
      },
      "execution_count": 23,
      "outputs": []
    },
    {
      "cell_type": "code",
      "source": [
        "similarity_score=cosine_similarity(x)"
      ],
      "metadata": {
        "id": "PXttY-blvqpB"
      },
      "execution_count": 24,
      "outputs": []
    },
    {
      "cell_type": "code",
      "source": [
        "similarity_score"
      ],
      "metadata": {
        "colab": {
          "base_uri": "https://localhost:8080/"
        },
        "id": "bLK22QbMvx9e",
        "outputId": "f1c59203-a456-4a79-aee6-faf7bedaba87"
      },
      "execution_count": 25,
      "outputs": [
        {
          "output_type": "execute_result",
          "data": {
            "text/plain": [
              "array([[1.        , 0.00792062, 0.02118304, ..., 0.        , 0.        ,\n",
              "        0.        ],\n",
              "       [0.00792062, 1.        , 0.00420942, ..., 0.        , 0.        ,\n",
              "        0.        ],\n",
              "       [0.02118304, 0.00420942, 1.        , ..., 0.        , 0.05824737,\n",
              "        0.        ],\n",
              "       ...,\n",
              "       [0.        , 0.        , 0.        , ..., 1.        , 0.        ,\n",
              "        0.        ],\n",
              "       [0.        , 0.        , 0.05824737, ..., 0.        , 1.        ,\n",
              "        0.        ],\n",
              "       [0.        , 0.        , 0.        , ..., 0.        , 0.        ,\n",
              "        1.        ]])"
            ]
          },
          "metadata": {},
          "execution_count": 25
        }
      ]
    },
    {
      "cell_type": "code",
      "source": [
        "similarity_score.shape"
      ],
      "metadata": {
        "colab": {
          "base_uri": "https://localhost:8080/"
        },
        "id": "XZfkkuiSv4FS",
        "outputId": "9e2144f6-da16-4d0a-d21b-bab4ea00221c"
      },
      "execution_count": 26,
      "outputs": [
        {
          "output_type": "execute_result",
          "data": {
            "text/plain": [
              "(4760, 4760)"
            ]
          },
          "metadata": {},
          "execution_count": 26
        }
      ]
    },
    {
      "cell_type": "code",
      "source": [
        "Favourite_Movie_Name=input('enter your favorite movie name:')\n"
      ],
      "metadata": {
        "colab": {
          "base_uri": "https://localhost:8080/"
        },
        "id": "h3sQBUdXv8w2",
        "outputId": "5ad369b8-7308-444b-8b1b-a8897a59318e"
      },
      "execution_count": 35,
      "outputs": [
        {
          "name": "stdout",
          "output_type": "stream",
          "text": [
            "enter your favorite movie name:avtaar\n"
          ]
        }
      ]
    },
    {
      "cell_type": "code",
      "source": [
        "All_Movies_Title_Lists=df['Movie_Title'].tolist()"
      ],
      "metadata": {
        "id": "cZZipNFPwVon"
      },
      "execution_count": 32,
      "outputs": []
    },
    {
      "cell_type": "code",
      "source": [
        "import difflib"
      ],
      "metadata": {
        "id": "ji2KTfq0wm5e"
      },
      "execution_count": 33,
      "outputs": []
    },
    {
      "cell_type": "code",
      "source": [
        "Movie_Recommendation=difflib.get_close_matches(Favourite_Movie_Name,All_Movies_Title_Lists)\n",
        "print(Movie_Recommendation)"
      ],
      "metadata": {
        "colab": {
          "base_uri": "https://localhost:8080/"
        },
        "id": "z-UHyuBZw8nc",
        "outputId": "92b65e7f-1aac-474f-cd79-ec5c6e6bd78b"
      },
      "execution_count": 36,
      "outputs": [
        {
          "output_type": "stream",
          "name": "stdout",
          "text": [
            "['Avatar', 'Gattaca']\n"
          ]
        }
      ]
    },
    {
      "cell_type": "code",
      "source": [
        "Close_Match=Movie_Recommendation[0]\n",
        "print(Close_Match)"
      ],
      "metadata": {
        "colab": {
          "base_uri": "https://localhost:8080/"
        },
        "id": "hTZ69KUGxknh",
        "outputId": "a82cb608-11ed-4219-f524-fb437fcb701d"
      },
      "execution_count": 37,
      "outputs": [
        {
          "output_type": "stream",
          "name": "stdout",
          "text": [
            "Avatar\n"
          ]
        }
      ]
    },
    {
      "cell_type": "code",
      "source": [
        "Index_of_Close_Match=df[df.Movie_Title==Close_Match]['Movie_ID'].values[0]\n",
        "print(Index_of_Close_Match)"
      ],
      "metadata": {
        "colab": {
          "base_uri": "https://localhost:8080/"
        },
        "id": "0pUwwyphx72Z",
        "outputId": "a2517ef4-a6f6-4737-bc98-df71ddef1067"
      },
      "execution_count": 38,
      "outputs": [
        {
          "output_type": "stream",
          "name": "stdout",
          "text": [
            "2692\n"
          ]
        }
      ]
    },
    {
      "cell_type": "code",
      "source": [
        "Recommendation_Score=list(enumerate(similarity_score[Index_of_Close_Match]))\n",
        "print(Recommendation_Score)"
      ],
      "metadata": {
        "colab": {
          "base_uri": "https://localhost:8080/"
        },
        "id": "p9btx1MWySKr",
        "outputId": "572d58ba-75c1-44c0-8192-df318d8e3b60"
      },
      "execution_count": 39,
      "outputs": [
        {
          "output_type": "stream",
          "name": "stdout",
          "text": [
            "[(0, 0.005600132658779098), (1, 0.0), (2, 0.0), (3, 0.004105949970641846), (4, 0.0011924863442812344), (5, 0.0045632372395618785), (6, 0.0024079622302274374), (7, 0.00623291663952929), (8, 0.0012638292570573482), (9, 0.0030476888114246794), (10, 0.0035138621503243866), (11, 0.0013049731555616207), (12, 0.0012609519451986413), (13, 0.006879686406764784), (14, 0.0), (15, 0.011857991477931238), (16, 0.0026499490762925803), (17, 0.0), (18, 0.006658228418109757), (19, 0.004125528796913186), (20, 0.001272868150105697), (21, 0.00768082747404668), (22, 0.003139425710494819), (23, 0.001234495171711255), (24, 0.0009588731807374837), (25, 0.043589765356661085), (26, 0.001138149483214144), (27, 0.0022598050303308395), (28, 0.0), (29, 0.010461000425631936), (30, 0.0020972739749145434), (31, 0.003277439391704465), (32, 0.0037387628425684764), (33, 0.008066373000248173), (34, 0.0033621818120675474), (35, 0.003018899832939057), (36, 0.0), (37, 0.0), (38, 0.0036643397284452997), (39, 0.0022903900352620236), (40, 0.006936230806932241), (41, 0.0013068819344917541), (42, 0.0033292299440877615), (43, 0.0073448937716194245), (44, 0.018496637769552876), (45, 0.04701468886846363), (46, 0.00869440172717937), (47, 0.005269148502261747), (48, 0.007068704685301852), (49, 0.0), (50, 0.0035589931734076635), (51, 0.006769883204224676), (52, 0.006961683757045119), (53, 0.0), (54, 0.0), (55, 0.0), (56, 0.003158088428822781), (57, 0.004862322854816407), (58, 0.0), (59, 0.0), (60, 0.003861954556525643), (61, 0.008217416480206482), (62, 0.030888920128776254), (63, 0.0032377893024545922), (64, 0.0), (65, 0.015099088395388446), (66, 0.0011950942957851898), (67, 0.022551076588360225), (68, 0.010896674111344606), (69, 0.0024077633989901992), (70, 0.006153225509463849), (71, 0.0012361862536227528), (72, 0.0056430667409842015), (73, 0.0), (74, 0.0012334342122199474), (75, 0.006949831672562761), (76, 0.0018018327242390296), (77, 0.0018447891640510179), (78, 0.005003968838380503), (79, 0.004316273215406792), (80, 0.002104470514948136), (81, 0.0033408447349494814), (82, 0.006577511046852762), (83, 0.00865361067638561), (84, 0.06869616094918114), (85, 0.007337408744594533), (86, 0.006236900919744437), (87, 0.00710582363430576), (88, 0.011650513946322156), (89, 0.0590330660728482), (90, 0.0021432761125685924), (91, 0.0), (92, 0.0011414002052065988), (93, 0.002203264261344704), (94, 0.0021557183292119893), (95, 0.0022051599545965606), (96, 0.004412889229032932), (97, 0.0010991386093866923), (98, 0.0012161283869715554), (99, 0.004910916308859677), (100, 0.0), (101, 0.0), (102, 0.0022871295064797437), (103, 0.0009825965806816881), (104, 0.004315240010674033), (105, 0.0042281496723135786), (106, 0.009508502951994072), (107, 0.003949611311587485), (108, 0.020607345375504068), (109, 0.019055449492395946), (110, 0.15606391710871428), (111, 0.0045864190746190345), (112, 0.013394729255911987), (113, 0.0038746411016065737), (114, 0.0012364220471588676), (115, 0.0012414089005194765), (116, 0.011785789757162657), (117, 0.0), (118, 0.0021340983993097533), (119, 0.004461932886753508), (120, 0.0044539158775941225), (121, 0.0011444465400657986), (122, 0.0032463229580745414), (123, 0.008837566085244955), (124, 0.012324831901341721), (125, 0.005954217449152), (126, 0.019074389273085236), (127, 0.0011661606621587606), (128, 0.002417182752171752), (129, 0.0009307485814518996), (130, 0.005694485514099559), (131, 0.003247142140133215), (132, 0.001034656905852978), (133, 0.0), (134, 0.0), (135, 0.0021823813251873165), (136, 0.0011587212040223961), (137, 0.02563581803298054), (138, 0.04705826097237901), (139, 0.003418875670465201), (140, 0.0010069370849732225), (141, 0.0), (142, 0.0109058562315224), (143, 0.003452307100610006), (144, 0.008457547892992821), (145, 0.009085699236508423), (146, 0.0), (147, 0.00933928735876297), (148, 0.005208849217835673), (149, 0.0058171971120448826), (150, 0.0), (151, 0.0), (152, 0.002175338840202275), (153, 0.0), (154, 0.0012392769720058604), (155, 0.0026003623730611303), (156, 0.003485964459412464), (157, 0.0009792477384735646), (158, 0.0010927996833602362), (159, 0.003235198926214196), (160, 0.008931332371255988), (161, 0.007265335815240881), (162, 0.003693937138194828), (163, 0.0), (164, 0.004011994202754455), (165, 0.0009673431575640332), (166, 0.017091692161469017), (167, 0.001233203254071104), (168, 0.0023464028651489144), (169, 0.0011950658055658442), (170, 0.005043718333344316), (171, 0.0), (172, 0.01786989967402703), (173, 0.007984507560972326), (174, 0.05326048802587749), (175, 0.011531002524001226), (176, 0.046901658540654784), (177, 0.002526695463785858), (178, 0.0012291522842275866), (179, 0.014318120796442622), (180, 0.0036239230398473136), (181, 0.00685140579114139), (182, 0.0045663459988453375), (183, 0.004006975130142502), (184, 0.001138342281344781), (185, 0.07412077960056895), (186, 0.0), (187, 0.00194516749530776), (188, 0.0), (189, 0.0021397343888650147), (190, 0.005215965538783476), (191, 0.001917515862596387), (192, 0.001271747541585782), (193, 0.01468142192217091), (194, 0.0010829077114305372), (195, 0.0010102039919702224), (196, 0.0010858275404125085), (197, 0.003583188828230933), (198, 0.0012321074129090577), (199, 0.009609017029540824), (200, 0.003033798696032446), (201, 0.005770524088807693), (202, 0.0008482675999461509), (203, 0.008676836280161452), (204, 0.009402689382557991), (205, 0.0), (206, 0.00497316117564227), (207, 0.006377233233545171), (208, 0.006672809350074579), (209, 0.007708353611480501), (210, 0.04910329975579378), (211, 0.0012243237162879769), (212, 0.008407968352472608), (213, 0.024179665646682117), (214, 0.0), (215, 0.0012525040088116385), (216, 0.00483028618879181), (217, 0.003434733691806276), (218, 0.00837518142714287), (219, 0.0), (220, 0.0021653434799505326), (221, 0.0011055378758275856), (222, 0.009144797258486596), (223, 0.0), (224, 0.0030724272706467055), (225, 0.0), (226, 0.0011287996016814265), (227, 0.023727552940060122), (228, 0.001044469881309652), (229, 0.0011240127029588484), (230, 0.0031505370332845627), (231, 0.0064827114021530395), (232, 0.0032262685182098527), (233, 0.002070338159081572), (234, 0.0019036175391264763), (235, 0.001386642734394968), (236, 0.0062722659946244964), (237, 0.0), (238, 0.003554431241023355), (239, 0.002305157612897257), (240, 0.049821967136735784), (241, 0.00215486036495436), (242, 0.0037388141903543213), (243, 0.0049752862567992275), (244, 0.005659894876737662), (245, 0.0), (246, 0.0012992686470006786), (247, 0.0011762308490408614), (248, 0.0029091203204535017), (249, 0.0011783030794965212), (250, 0.05161112205460647), (251, 0.0072398556716949496), (252, 0.006008144272253668), (253, 0.0012444393084032623), (254, 0.0932518717137873), (255, 0.003551116781824129), (256, 0.0033441717960882847), (257, 0.0), (258, 0.0), (259, 0.0), (260, 0.0020361017241682295), (261, 0.010887978156061243), (262, 0.0011660381391093197), (263, 0.0031086518407603065), (264, 0.0), (265, 0.0), (266, 0.005387404858186952), (267, 0.0009924031502663272), (268, 0.0010314007118877473), (269, 0.01261287152174815), (270, 0.004810509360142629), (271, 0.005327781996178654), (272, 0.0), (273, 0.005106386090650547), (274, 0.004750769585221677), (275, 0.0), (276, 0.006703024988913949), (277, 0.021272562398925728), (278, 0.0011438359316321388), (279, 0.008416347776224378), (280, 0.007907681554773718), (281, 0.004942490502113413), (282, 0.0169058309922557), (283, 0.003686677627704457), (284, 0.04911560975639876), (285, 0.004333393687875539), (286, 0.0011663252188369815), (287, 0.007100271209572765), (288, 0.00437090198977216), (289, 0.001751443568937711), (290, 0.001721295671613655), (291, 0.005123222515746898), (292, 0.024420501540787835), (293, 0.0008181265722706059), (294, 0.001712613381601257), (295, 0.0017507315648857067), (296, 0.006731012586313873), (297, 0.0), (298, 0.0), (299, 0.0), (300, 0.0031679809594317896), (301, 0.0033337075845404334), (302, 0.0), (303, 0.0023259198538159685), (304, 0.005670596794375465), (305, 0.0021632412950797915), (306, 0.0019861321752694706), (307, 0.004494303297750767), (308, 0.0013225988539144861), (309, 0.003784250337590552), (310, 0.0020257571132448696), (311, 0.003063504563251636), (312, 0.0), (313, 0.005396785885081069), (314, 0.0018466760602647272), (315, 0.00206945567304159), (316, 0.0019219996014695245), (317, 0.00678721332158322), (318, 0.0013857578482273567), (319, 0.0), (320, 0.00231123166212964), (321, 0.004778121437994174), (322, 0.005005449413502368), (323, 0.002054586429630518), (324, 0.001173833152016683), (325, 0.0011978228588539973), (326, 0.0013577853497375935), (327, 0.005052378329209855), (328, 0.021168911281542947), (329, 0.009610596088115004), (330, 0.011020060211877285), (331, 0.0), (332, 0.007157268400223545), (333, 0.005386636060156195), (334, 0.01582449738257794), (335, 0.0), (336, 0.002565432610445244), (337, 0.0), (338, 0.0), (339, 0.0), (340, 0.0033399040702271755), (341, 0.005451441207542474), (342, 0.00811555427281068), (343, 0.007310319430781272), (344, 0.0), (345, 0.01225597236992772), (346, 0.004471146162552709), (347, 0.0022084807319485986), (348, 0.001204899716828312), (349, 0.0012521185795311782), (350, 0.00372804963894047), (351, 0.001028871953981462), (352, 0.0), (353, 0.004578545755956405), (354, 0.004902707327207484), (355, 0.0011453486818881697), (356, 0.006365095456352702), (357, 0.0010294784672822373), (358, 0.006887347045875808), (359, 0.0011072275039440806), (360, 0.021482743115380547), (361, 0.0), (362, 0.0), (363, 0.003401701869444211), (364, 0.009123034569897458), (365, 0.0), (366, 0.0), (367, 0.003413753042816628), (368, 0.0038860091556325175), (369, 0.0028698917679196544), (370, 0.007030305641147731), (371, 0.013244140748779349), (372, 0.0010896844229389279), (373, 0.001257148479914957), (374, 0.007367007451045729), (375, 0.0021524243187832502), (376, 0.0), (377, 0.0012056393523199457), (378, 0.0011154302098972026), (379, 0.0), (380, 0.002313622804955203), (381, 0.013140103993464719), (382, 0.0), (383, 0.040544308996648175), (384, 0.056143737074059244), (385, 0.0036672710560851176), (386, 0.0033211327989376756), (387, 0.016269039396021368), (388, 0.0011888899473345247), (389, 0.002194589928800577), (390, 0.0), (391, 0.0), (392, 0.0), (393, 0.0), (394, 0.0), (395, 0.0012861480807025165), (396, 0.003965839096750191), (397, 0.0020936904123552307), (398, 0.04468953306322146), (399, 0.0010833478111307146), (400, 0.0011490018405828917), (401, 0.0), (402, 0.0049801349318777865), (403, 0.003675551805160616), (404, 0.0), (405, 0.0), (406, 0.005738786255421181), (407, 0.0063741300346691395), (408, 0.07286630327980333), (409, 0.008487776379424432), (410, 0.0011499167991200607), (411, 0.0), (412, 0.022977884866996343), (413, 0.0033782357361912953), (414, 0.0025264117601716796), (415, 0.0), (416, 0.0011126266369182365), (417, 0.005507744003655237), (418, 0.005802961178212754), (419, 0.0012813562153539775), (420, 0.00221672809774145), (421, 0.06322630521912286), (422, 0.0032417600742109557), (423, 0.0), (424, 0.05084045509099878), (425, 0.0023763654709443222), (426, 0.0021047453175518397), (427, 0.0), (428, 0.003894930475922099), (429, 0.006444915493872401), (430, 0.053397590263232986), (431, 0.0012916062414197419), (432, 0.0011055384622914567), (433, 0.00868502401846945), (434, 0.004311535529452202), (435, 0.004547857301654655), (436, 0.0037939668060878668), (437, 0.006403227176753886), (438, 0.021511424983991004), (439, 0.0), (440, 0.0), (441, 0.003656940434272085), (442, 0.010279859143823098), (443, 0.0038481458570278453), (444, 0.0012908131306637069), (445, 0.0037780453119083575), (446, 0.004051340839263007), (447, 0.007082034135394187), (448, 0.0014138542740490998), (449, 0.003998764339912111), (450, 0.006636709669791437), (451, 0.0021995879598661378), (452, 0.005657319052471807), (453, 0.0008895708380724468), (454, 0.0), (455, 0.0563919534892137), (456, 0.0013266757814519032), (457, 0.0012043085429868086), (458, 0.007139834470942942), (459, 0.04756213304217662), (460, 0.00226707611039348), (461, 0.00402849277008276), (462, 0.0), (463, 0.009786006410424156), (464, 0.0038318811629295133), (465, 0.013418684300883913), (466, 0.0011355294406981491), (467, 0.0021849014170434934), (468, 0.005002213094016493), (469, 0.0017916361530947575), (470, 0.006343509575262949), (471, 0.001049975090723899), (472, 0.004490528568198665), (473, 0.0011435631720059464), (474, 0.0036023310862518965), (475, 0.001980023124843848), (476, 0.001272296854213353), (477, 0.0026993119042827037), (478, 0.0012102241342121633), (479, 0.07817075235365212), (480, 0.0009964061243055709), (481, 0.007710469192465776), (482, 0.006395915946407378), (483, 0.00444466515126053), (484, 0.0), (485, 0.00470845423862752), (486, 0.0), (487, 0.0010871475088794099), (488, 0.0010841003401382589), (489, 0.0013309814392290322), (490, 0.0012306013882403817), (491, 0.0), (492, 0.0), (493, 0.0035975142070743295), (494, 0.003399623673169333), (495, 0.001008310361203825), (496, 0.006868008526310036), (497, 0.002881943540998255), (498, 0.0), (499, 0.0012832331249703855), (500, 0.005498700256002729), (501, 0.005344257061113198), (502, 0.007038861884135696), (503, 0.003157310326455128), (504, 0.0011537586583113494), (505, 0.0011469977261728168), (506, 0.0), (507, 0.0011702042980671567), (508, 0.0012882516867754469), (509, 0.0036658515852847156), (510, 0.0070594567604855), (511, 0.008125832815990157), (512, 0.002622630947710553), (513, 0.0023557519727943296), (514, 0.0021795182200731534), (515, 0.011067118727948244), (516, 0.0), (517, 0.0), (518, 0.0012706108290521509), (519, 0.05299086360983773), (520, 0.0), (521, 0.0032160921250123436), (522, 0.0011957504903839444), (523, 0.005451767725043299), (524, 0.0011760037206630107), (525, 0.0), (526, 0.0013427350346305118), (527, 0.005826918800639698), (528, 0.0), (529, 0.0), (530, 0.014692672356635461), (531, 0.0), (532, 0.005419652655101333), (533, 0.0070234096049349454), (534, 0.006568459617234232), (535, 0.0), (536, 0.0), (537, 0.005802024560303756), (538, 0.00575643837720195), (539, 0.0035169640175683136), (540, 0.016996564264754817), (541, 0.0012312464397825496), (542, 0.00563210964612775), (543, 0.007350733604323017), (544, 0.004725503824816992), (545, 0.0066048692328364075), (546, 0.0), (547, 0.0433229551603167), (548, 0.0), (549, 0.0), (550, 0.0024336822161714323), (551, 0.007529334145044064), (552, 0.0), (553, 0.010324811051816297), (554, 0.0), (555, 0.00521580902482971), (556, 0.0), (557, 0.0), (558, 0.0042031202438811985), (559, 0.0019033831363551663), (560, 0.005767013304411914), (561, 0.002447901907230068), (562, 0.0029606767392704693), (563, 0.003433570808985298), (564, 0.001231134749400578), (565, 0.0), (566, 0.009419278002960168), (567, 0.0), (568, 0.0028313848506403795), (569, 0.0), (570, 0.0), (571, 0.0030478497983892046), (572, 0.0), (573, 0.0), (574, 0.0), (575, 0.0), (576, 0.0013188247753247123), (577, 0.0), (578, 0.01607426147028513), (579, 0.0011532122344659647), (580, 0.0035169896259323015), (581, 0.0033052439978867856), (582, 0.0037097235210361745), (583, 0.0029283087581639857), (584, 0.006792261089459135), (585, 0.0), (586, 0.00789024574029734), (587, 0.0012014419730813999), (588, 0.001246566916348273), (589, 0.0011807374909913486), (590, 0.031400919506051235), (591, 0.0), (592, 0.0), (593, 0.05179909261438472), (594, 0.0011207114154886072), (595, 0.002286677690970181), (596, 0.0012743133638308032), (597, 0.0038697586438516396), (598, 0.00119695801424744), (599, 0.0), (600, 0.003275480712318496), (601, 0.0), (602, 0.0), (603, 0.0), (604, 0.006112101925990173), (605, 0.001110777703365133), (606, 0.003677195237575048), (607, 0.0009467987565539966), (608, 0.0029362621938294345), (609, 0.006269705557139968), (610, 0.0), (611, 0.001858175888256457), (612, 0.0012591529925905167), (613, 0.01019923988323558), (614, 0.0013747036780211593), (615, 0.07714537772458528), (616, 0.003744192137030896), (617, 0.0031771967201259304), (618, 0.05429892560237314), (619, 0.0022559678946104337), (620, 0.0076601622146064705), (621, 0.004782027614904009), (622, 0.0073272630859189496), (623, 0.001254986781724432), (624, 0.0010101929319630747), (625, 0.0019990722825605875), (626, 0.0011134293182043311), (627, 0.00197520523510646), (628, 0.04100624167214985), (629, 0.013758008170632118), (630, 0.0), (631, 0.004333918416269913), (632, 0.06817770401889627), (633, 0.0021898723167959717), (634, 0.0020660077875793662), (635, 0.005527566345509811), (636, 0.0036183789443582958), (637, 0.07201923661746776), (638, 0.008601714725107594), (639, 0.002050140646913086), (640, 0.0020123324013817255), (641, 0.002996860382519132), (642, 0.0031864408521777533), (643, 0.009958843884904553), (644, 0.0030032970450226282), (645, 0.0009255348641349101), (646, 0.0010480696995180836), (647, 0.001027650137896152), (648, 0.006109401716781534), (649, 0.0), (650, 0.0), (651, 0.004059009057493557), (652, 0.0074652279097453264), (653, 0.006612035878232248), (654, 0.005699172674818714), (655, 0.0010980240991562615), (656, 0.0), (657, 0.01226122689889329), (658, 0.0), (659, 0.0011430628666593936), (660, 0.0034855074166973777), (661, 0.002226901271515347), (662, 0.0), (663, 0.0), (664, 0.006306642125938936), (665, 0.0), (666, 0.002441741825261233), (667, 0.005760316514108527), (668, 0.0050728743005404135), (669, 0.009326556148890261), (670, 0.01249384645987724), (671, 0.003258239516788389), (672, 0.03977486764006374), (673, 0.007156808235008512), (674, 0.0), (675, 0.02794834751625833), (676, 0.007072831263565067), (677, 0.008033736087048061), (678, 0.006047696496468346), (679, 0.0), (680, 0.0013612982680041373), (681, 0.0), (682, 0.05725583384823583), (683, 0.005045839283331819), (684, 0.006500453010971125), (685, 0.0022451854119270812), (686, 0.0), (687, 0.002308902187360295), (688, 0.003689516044748496), (689, 0.008560407567266611), (690, 0.0022032176336126154), (691, 0.011143368039679002), (692, 0.007946602375336386), (693, 0.0010707643248227755), (694, 0.016152930110686872), (695, 0.004828665279288708), (696, 0.0033117011948877086), (697, 0.00425601521940918), (698, 0.0011844731089740847), (699, 0.0), (700, 0.0), (701, 0.00710290323534778), (702, 0.0), (703, 0.0011735562456426597), (704, 0.0), (705, 0.004183859918808626), (706, 0.012112434977084056), (707, 0.0009592323361749342), (708, 0.0), (709, 0.0), (710, 0.019081350236344836), (711, 0.0), (712, 0.0011265346912215795), (713, 0.0), (714, 0.0), (715, 0.004573139586016081), (716, 0.0035958207412610703), (717, 0.001209388412144088), (718, 0.0), (719, 0.0055066816276061435), (720, 0.0), (721, 0.05134403977065911), (722, 0.0010075046064580621), (723, 0.0020553601494151933), (724, 0.0), (725, 0.0), (726, 0.0), (727, 0.003524711203317565), (728, 0.003573244655693884), (729, 0.0037668388297395754), (730, 0.0), (731, 0.0012486231608534984), (732, 0.006163039684782842), (733, 0.005786801187984667), (734, 0.0039654045221370225), (735, 0.0014245121660650182), (736, 0.0), (737, 0.00467945787589664), (738, 0.002052218217732552), (739, 0.0013288127461717257), (740, 0.000981305575756098), (741, 0.0), (742, 0.00613358728694832), (743, 0.0034373887985977205), (744, 0.003295497194425739), (745, 0.0031158269737182756), (746, 0.0), (747, 0.0), (748, 0.0033875213441566954), (749, 0.0012548863767677329), (750, 0.003453279504630889), (751, 0.0), (752, 0.003307409804561045), (753, 0.00581190976473385), (754, 0.0), (755, 0.001191204690602067), (756, 0.0019858684673955585), (757, 0.009822438635824212), (758, 0.003036162889096679), (759, 0.001160662348972761), (760, 0.006079642340405601), (761, 0.044311605091645626), (762, 0.0075356720415144535), (763, 0.00972661512754926), (764, 0.0), (765, 0.00233063595646097), (766, 0.0036962205700308247), (767, 0.0011203275153318201), (768, 0.008838679645998899), (769, 0.0034935027997987146), (770, 0.0), (771, 0.0), (772, 0.0), (773, 0.0), (774, 0.0012908824716531422), (775, 0.006814942681617749), (776, 0.007945378653210424), (777, 0.0012950665435589865), (778, 0.0029761813579301795), (779, 0.008787503215171077), (780, 0.0), (781, 0.0), (782, 0.003962549008476908), (783, 0.0010576198247778238), (784, 0.0), (785, 0.0), (786, 0.0), (787, 0.008262489021100267), (788, 0.05276800690003826), (789, 0.0), (790, 0.005332884155066208), (791, 0.0012309968105773475), (792, 0.004872880971949047), (793, 0.002370821961965807), (794, 0.007452033589431295), (795, 0.006846670835702387), (796, 0.008262209837369005), (797, 0.0), (798, 0.0011644983098665475), (799, 0.006166114513248317), (800, 0.005862682315233774), (801, 0.005220072725989261), (802, 0.002291109179986548), (803, 0.0020336669731263824), (804, 0.0032294396615406493), (805, 0.0011708024102863842), (806, 0.00477010865918702), (807, 0.0), (808, 0.009310289235794574), (809, 0.005325332747508374), (810, 0.0020870141799881245), (811, 0.0020658153006472614), (812, 0.04943846321378252), (813, 0.0012862183544632133), (814, 0.006197805974271783), (815, 0.001132503816591008), (816, 0.0039080297722712196), (817, 0.00414920034215995), (818, 0.016932231530641103), (819, 0.0), (820, 0.0), (821, 0.002963189221343023), (822, 0.0), (823, 0.0012774346613712699), (824, 0.013560702105377067), (825, 0.005403237905212221), (826, 0.0011194990683691174), (827, 0.004915269299858381), (828, 0.004315586789297353), (829, 0.006598777840038766), (830, 0.016585720056649624), (831, 0.002461613998111803), (832, 0.01159855974327807), (833, 0.0064483246957670005), (834, 0.0031869712104674454), (835, 0.0031327930118994875), (836, 0.014381075841790669), (837, 0.0), (838, 0.0036362458209731963), (839, 0.0), (840, 0.0), (841, 0.0), (842, 0.00644800876167805), (843, 0.0037758780589319937), (844, 0.005759132111127028), (845, 0.003655331322022259), (846, 0.0), (847, 0.004653689042770685), (848, 0.00116839620052178), (849, 0.00211543704219329), (850, 0.0045315480120214574), (851, 0.004244420198697993), (852, 0.0012378465829099524), (853, 0.008517333013126191), (854, 0.0012242311391095365), (855, 0.002374534126438323), (856, 0.0011939014512464272), (857, 0.001317233061690626), (858, 0.04215595209750857), (859, 0.0), (860, 0.007208964979949306), (861, 0.002557429563838137), (862, 0.003100776372945642), (863, 0.003012402778947762), (864, 0.015147151121993292), (865, 0.0013038624603667866), (866, 0.00637401632693557), (867, 0.007719815278559451), (868, 0.0035091122795074367), (869, 0.0033460956394186646), (870, 0.00945442859381361), (871, 0.0012036607974711979), (872, 0.0012450439534377185), (873, 0.024218995363926396), (874, 0.006715619951034208), (875, 0.005938893447633121), (876, 0.007441937136132851), (877, 0.02842339024134984), (878, 0.006859050883424736), (879, 0.007113885083158083), (880, 0.0033730115382881523), (881, 0.0), (882, 0.0), (883, 0.0012016102185128214), (884, 0.0012820174758964545), (885, 0.04659034809611401), (886, 0.0011151554516252399), (887, 0.0013068470049962166), (888, 0.006381771149159609), (889, 0.0014009785204517186), (890, 0.0012882981815106613), (891, 0.0022138395890057114), (892, 0.0), (893, 0.0020378573448879417), (894, 0.004455059695752481), (895, 0.007907141616928973), (896, 0.007224310866750229), (897, 0.0041374984150599654), (898, 0.001994659742605695), (899, 0.0072133715655426055), (900, 0.00582876663854958), (901, 0.0011045944245435353), (902, 0.0022149840460128772), (903, 0.04623432685335844), (904, 0.05766488902163568), (905, 0.005628038486294265), (906, 0.006492560727042822), (907, 0.0011002380023150391), (908, 0.0033141031049553466), (909, 0.0), (910, 0.0032499091752101928), (911, 0.018489303021881183), (912, 0.0), (913, 0.0), (914, 0.0), (915, 0.0055120050922707435), (916, 0.008474891664770733), (917, 0.03797015190754271), (918, 0.005607399408985199), (919, 0.002369516712120864), (920, 0.0), (921, 0.004236650862822592), (922, 0.0012532922079657987), (923, 0.0031774742098495895), (924, 0.0035245630846965368), (925, 0.0011660739242143514), (926, 0.0), (927, 0.0019158922465302242), (928, 0.0058892663157869545), (929, 0.007636158548553434), (930, 0.003541767519511449), (931, 0.005624310741810851), (932, 0.0020366257790000175), (933, 0.0010135673025476882), (934, 0.007333011109714927), (935, 0.01525506069741639), (936, 0.00632175781999479), (937, 0.007566010938515658), (938, 0.0), (939, 0.004423389437614475), (940, 0.003504697125864413), (941, 0.0009259521393868194), (942, 0.010832198759458785), (943, 0.0), (944, 0.0011382366187587087), (945, 0.0), (946, 0.0), (947, 0.008074439599648753), (948, 0.004161132080889446), (949, 0.004942159145676387), (950, 0.0), (951, 0.0009798958192938371), (952, 0.014301602649148638), (953, 0.002908411656395216), (954, 0.0), (955, 0.0), (956, 0.0), (957, 0.007100178181196166), (958, 0.002996395291544424), (959, 0.0012385722391273857), (960, 0.0), (961, 0.0), (962, 0.004497717257024583), (963, 0.0059246942384507785), (964, 0.0), (965, 0.0), (966, 0.004409784163467893), (967, 0.012138978436367017), (968, 0.007596092788128346), (969, 0.001243093168432281), (970, 0.0050466714438628345), (971, 0.0), (972, 0.0), (973, 0.0012101005787495242), (974, 0.0019531052085540524), (975, 0.0010400318727347869), (976, 0.013231013572092963), (977, 0.0), (978, 0.0), (979, 0.004531172771790609), (980, 0.003433858392735686), (981, 0.003318203281088989), (982, 0.0), (983, 0.0), (984, 0.0011246532924941732), (985, 0.001335298387850632), (986, 0.005782947325165377), (987, 0.00126779152897699), (988, 0.007088941577162066), (989, 0.0068920654878697), (990, 0.0), (991, 0.003191770779282955), (992, 0.002174213534538723), (993, 0.001176728423449263), (994, 0.004878290980756782), (995, 0.0), (996, 0.0024536520096843234), (997, 0.002119602591659287), (998, 0.0012596873780261937), (999, 0.0013148743818168632), (1000, 0.006354243753936715), (1001, 0.0033633693303501714), (1002, 0.0012369801659813644), (1003, 0.010034351562074646), (1004, 0.00111511827318995), (1005, 0.005978360316713237), (1006, 0.004269498986553414), (1007, 0.0012827904162585997), (1008, 0.0), (1009, 0.0060860300584747624), (1010, 0.0), (1011, 0.0), (1012, 0.005035192255390371), (1013, 0.0), (1014, 0.0034940047967459403), (1015, 0.011063638604368466), (1016, 0.0), (1017, 0.01017062619275414), (1018, 0.008248879608826865), (1019, 0.004681735704877736), (1020, 0.004060036678115846), (1021, 0.1017064349259572), (1022, 0.0), (1023, 0.02114962907837315), (1024, 0.05707975362027471), (1025, 0.0), (1026, 0.0012149509083051833), (1027, 0.0012382855907524107), (1028, 0.0), (1029, 0.0), (1030, 0.06059879408965188), (1031, 0.0), (1032, 0.0010650244730380483), (1033, 0.009744376720804686), (1034, 0.0012132514815399282), (1035, 0.005986784944644021), (1036, 0.0011528558863179263), (1037, 0.003434491340818219), (1038, 0.0), (1039, 0.0), (1040, 0.0009234610365766539), (1041, 0.0031200912185169547), (1042, 0.0009535194056163669), (1043, 0.013716283661637383), (1044, 0.0033555480239063863), (1045, 0.007127139946063076), (1046, 0.01404466680226167), (1047, 0.005899453022612031), (1048, 0.0043243302298380535), (1049, 0.001221323755799989), (1050, 0.004224797236205019), (1051, 0.0), (1052, 0.009305159459412465), (1053, 0.005240158498650981), (1054, 0.005158504229368074), (1055, 0.0), (1056, 0.0), (1057, 0.0), (1058, 0.006021217691319707), (1059, 0.052575260581941806), (1060, 0.0012230007618206358), (1061, 0.005499034157222091), (1062, 0.0), (1063, 0.0491025458551484), (1064, 0.008256795174178943), (1065, 0.0026598462267386604), (1066, 0.0), (1067, 0.0), (1068, 0.015804056451360862), (1069, 0.0034651082478449878), (1070, 0.03721622880540161), (1071, 0.003400801202283611), (1072, 0.001082823586881279), (1073, 0.0), (1074, 0.008706203975182042), (1075, 0.004077179266270655), (1076, 0.0032701581346772394), (1077, 0.00425341883780787), (1078, 0.0037814293926956817), (1079, 0.0011477538016988447), (1080, 0.001099313089553427), (1081, 0.0), (1082, 0.0021724806763143687), (1083, 0.003428957831470142), (1084, 0.0011747106356856567), (1085, 0.07408982945758973), (1086, 0.0), (1087, 0.004446922586640897), (1088, 0.0011412513028265113), (1089, 0.0), (1090, 0.006005262157982248), (1091, 0.0), (1092, 0.00472950580125039), (1093, 0.0), (1094, 0.00318365183468426), (1095, 0.04599504919570409), (1096, 0.003974667548686222), (1097, 0.0), (1098, 0.03744135061499131), (1099, 0.005626027555242442), (1100, 0.0011155383436781158), (1101, 0.0), (1102, 0.09140377163800534), (1103, 0.0), (1104, 0.005708042925417722), (1105, 0.0), (1106, 0.0), (1107, 0.006904726630465038), (1108, 0.0), (1109, 0.0012933651666468835), (1110, 0.001192592593455523), (1111, 0.0032412667361665713), (1112, 0.008580033537096599), (1113, 0.0), (1114, 0.007251381381143883), (1115, 0.008217301031400845), (1116, 0.0066249230559903595), (1117, 0.0011590691502761604), (1118, 0.07135014516169284), (1119, 0.007263192828107412), (1120, 0.00206962460941868), (1121, 0.001402351205157461), (1122, 0.0012831333457471248), (1123, 0.0033158144981491134), (1124, 0.004354446922113009), (1125, 0.003311545673011576), (1126, 0.0), (1127, 0.0021857997763806577), (1128, 0.006495030703958588), (1129, 0.008449812734242505), (1130, 0.0), (1131, 0.0012772444946069744), (1132, 0.009866450861067078), (1133, 0.0), (1134, 0.06603668678187039), (1135, 0.0), (1136, 0.003984953981451775), (1137, 0.0431763835461576), (1138, 0.003437221670443653), (1139, 0.0), (1140, 0.0036121890385319285), (1141, 0.0101792285467678), (1142, 0.0), (1143, 0.0), (1144, 0.003336734827826965), (1145, 0.0013784057534472018), (1146, 0.04955438516839313), (1147, 0.0), (1148, 0.02223395162953403), (1149, 0.0), (1150, 0.002323150020323498), (1151, 0.0), (1152, 0.006773851723808165), (1153, 0.0017320672431482425), (1154, 0.002096718722901263), (1155, 0.0), (1156, 0.0), (1157, 0.0060558012022142935), (1158, 0.0021703748279098102), (1159, 0.0), (1160, 0.00391279062659608), (1161, 0.001126197843374289), (1162, 0.012832104479164318), (1163, 0.0011258723023374491), (1164, 0.002045329154677585), (1165, 0.0), (1166, 0.0), (1167, 0.002206071144077579), (1168, 0.0015001671766572417), (1169, 0.0013831035157463652), (1170, 0.0012267211970992489), (1171, 0.0), (1172, 0.003245556395907449), (1173, 0.015080502766419156), (1174, 0.003425949978662338), (1175, 0.0089131325255325), (1176, 0.0012384543508690258), (1177, 0.0029738594281739166), (1178, 0.0), (1179, 0.0034913392973478295), (1180, 0.0), (1181, 0.0021038369278662183), (1182, 0.004585770349566666), (1183, 0.005944145831341909), (1184, 0.00770782051676559), (1185, 0.006096565875096199), (1186, 0.046428968278845746), (1187, 0.0013031605200010915), (1188, 0.003561472488508379), (1189, 0.0), (1190, 0.0), (1191, 0.003507971486453645), (1192, 0.0070345528482100746), (1193, 0.0), (1194, 0.006068638633061146), (1195, 0.05470854185709284), (1196, 0.0), (1197, 0.0019721611284718335), (1198, 0.0), (1199, 0.0011616394448062844), (1200, 0.0), (1201, 0.0), (1202, 0.009417092224435436), (1203, 0.02059542016974504), (1204, 0.001228261254557262), (1205, 0.0), (1206, 0.00423252404617857), (1207, 0.0020775135141523036), (1208, 0.0013652671440877796), (1209, 0.0009555873741230157), (1210, 0.00177523341869965), (1211, 0.002015281815933768), (1212, 0.0), (1213, 0.0032485681278928485), (1214, 0.0029762637710123124), (1215, 0.005334386379565162), (1216, 0.00827659349180214), (1217, 0.0011353984687367882), (1218, 0.0), (1219, 0.0011706080962811157), (1220, 0.006673779778584357), (1221, 0.0), (1222, 0.0), (1223, 0.0033744238516504503), (1224, 0.00722177884105831), (1225, 0.003542201486190299), (1226, 0.009189204506854065), (1227, 0.0), (1228, 0.0), (1229, 0.003598608380236874), (1230, 0.005672569518596087), (1231, 0.003168249943123437), (1232, 0.007592113279421274), (1233, 0.0), (1234, 0.004804089359337883), (1235, 0.0), (1236, 0.005134046328023082), (1237, 0.006012938616885758), (1238, 0.002939363697998837), (1239, 0.005817307866460273), (1240, 0.0), (1241, 0.04916154775792427), (1242, 0.0), (1243, 0.026301046843798866), (1244, 0.0), (1245, 0.008538208232422873), (1246, 0.0), (1247, 0.0012099629511135215), (1248, 0.021893409655759574), (1249, 0.005672300042604733), (1250, 0.003074599594340452), (1251, 0.0011898739073647158), (1252, 0.0073059420648486206), (1253, 0.0), (1254, 0.007817470686231183), (1255, 0.006443453052387613), (1256, 0.0), (1257, 0.009328084346455066), (1258, 0.0), (1259, 0.004848005645029835), (1260, 0.0036043033174662864), (1261, 0.010102042769450158), (1262, 0.004907037644943806), (1263, 0.0), (1264, 0.0045806220591647715), (1265, 0.0), (1266, 0.005311989412441561), (1267, 0.002945484913104259), (1268, 0.0), (1269, 0.0), (1270, 0.010064868444662168), (1271, 0.0), (1272, 0.017800933168016314), (1273, 0.0011147623250379955), (1274, 0.008398296434211593), (1275, 0.007585100276086786), (1276, 0.004372014602514674), (1277, 0.0010296100852370373), (1278, 0.00781533397699147), (1279, 0.004814574381592628), (1280, 0.002224920140449954), (1281, 0.0020957585696346763), (1282, 0.0034958184857939102), (1283, 0.044851589148859144), (1284, 0.0012359570814714823), (1285, 0.0), (1286, 0.001170230151460165), (1287, 0.0), (1288, 0.0), (1289, 0.0), (1290, 0.007220387968877608), (1291, 0.0), (1292, 0.021641372614701306), (1293, 0.006302491675510744), (1294, 0.0012561345902369324), (1295, 0.0), (1296, 0.0), (1297, 0.0), (1298, 0.0012528064947722615), (1299, 0.0), (1300, 0.005161579096781775), (1301, 0.001156181354889067), (1302, 0.021157496098332083), (1303, 0.006036406668689871), (1304, 0.0012070902053720849), (1305, 0.001123832545958684), (1306, 0.003540665033159888), (1307, 0.0031364555726224783), (1308, 0.00408567213770821), (1309, 0.001996336996071976), (1310, 0.0060112819518080285), (1311, 0.015832853342229856), (1312, 0.003985004334791523), (1313, 0.0011769680039293124), (1314, 0.01227754809819696), (1315, 0.0), (1316, 0.002642285423747976), (1317, 0.007107977921426029), (1318, 0.0011501508838735715), (1319, 0.0012313147643491216), (1320, 0.017340899843951946), (1321, 0.0), (1322, 0.0), (1323, 0.0), (1324, 0.0012302451889493846), (1325, 0.007261125748748497), (1326, 0.0), (1327, 0.0028859858769336006), (1328, 0.0), (1329, 0.0031886806930531684), (1330, 0.0031395218422986047), (1331, 0.007035648747805284), (1332, 0.0022658188290961335), (1333, 0.0), (1334, 0.004847532931792617), (1335, 0.0069968690222038665), (1336, 0.0), (1337, 0.007102311111575124), (1338, 0.004384136577931989), (1339, 0.004696398424259221), (1340, 0.0010765338518266803), (1341, 0.040030153493334525), (1342, 0.006554881542990873), (1343, 0.006373919301845842), (1344, 0.003037276253758554), (1345, 0.0031211668115188355), (1346, 0.0), (1347, 0.00199297325604856), (1348, 0.004902859249705905), (1349, 0.001376908081672076), (1350, 0.0011117891139203367), (1351, 0.0467894311116091), (1352, 0.001032988597316186), (1353, 0.0), (1354, 0.0), (1355, 0.0012931525704233263), (1356, 0.0030730881035353624), (1357, 0.0011508331760992703), (1358, 0.056463745185418725), (1359, 0.0041902652027258945), (1360, 0.0063239330842761905), (1361, 0.007459679911974251), (1362, 0.01218567852845225), (1363, 0.014633438011775043), (1364, 0.0012587922144976188), (1365, 0.008977936841345307), (1366, 0.0010957182462253202), (1367, 0.017186785954716184), (1368, 0.0), (1369, 0.04676466570584653), (1370, 0.0009902937414043634), (1371, 0.003706092678440802), (1372, 0.0011772065596010884), (1373, 0.0), (1374, 0.0030708195947307033), (1375, 0.0033949000984140622), (1376, 0.006226806923960256), (1377, 0.008617919653104676), (1378, 0.0011500480643860552), (1379, 0.017411733817487913), (1380, 0.0022407520384260136), (1381, 0.002387065877931933), (1382, 0.004515580802552148), (1383, 0.08003837829685134), (1384, 0.009684086233527924), (1385, 0.009483748387438104), (1386, 0.008509221263059344), (1387, 0.00460055931673312), (1388, 0.003236656407479214), (1389, 0.016621950887973615), (1390, 0.0), (1391, 0.002181130180320289), (1392, 0.0010988692586685568), (1393, 0.020664614005184368), (1394, 0.00116225448168492), (1395, 0.0018699390631304615), (1396, 0.005258388410108857), (1397, 0.03555081756725473), (1398, 0.04783650873381591), (1399, 0.0), (1400, 0.0035373897105397), (1401, 0.006380788584258944), (1402, 0.0012407255194004398), (1403, 0.009027879523662227), (1404, 0.0011837468453346827), (1405, 0.014659338681628477), (1406, 0.005682049089150038), (1407, 0.00543930419035887), (1408, 0.0011426769647905242), (1409, 0.0012678278608375215), (1410, 0.0011382159292587328), (1411, 0.0012242352422389517), (1412, 0.011206406238141975), (1413, 0.00690694597425456), (1414, 0.0031296813330796034), (1415, 0.0009676329317449884), (1416, 0.001207981762988227), (1417, 0.008144000793881783), (1418, 0.005256887586078212), (1419, 0.005945098652999026), (1420, 0.0049982004558978815), (1421, 0.003669923957268932), (1422, 0.001217473732487302), (1423, 0.0010681671085055837), (1424, 0.0), (1425, 0.003163400077862447), (1426, 0.0022218214747800617), (1427, 0.0010613403167863736), (1428, 0.0020212858581265384), (1429, 0.003757215005157696), (1430, 0.002048676860206618), (1431, 0.002132285959591101), (1432, 0.005555106812972096), (1433, 0.0033017906091819616), (1434, 0.0009329102551857636), (1435, 0.0022154761430530387), (1436, 0.006115789259273672), (1437, 0.0), (1438, 0.004320730837150811), (1439, 0.0011939156403905048), (1440, 0.004603440081002522), (1441, 0.0), (1442, 0.004790702741387319), (1443, 0.008803333802491752), (1444, 0.0), (1445, 0.007639864103912554), (1446, 0.00411815105290632), (1447, 0.0), (1448, 0.003320107372061608), (1449, 0.0020051280450370285), (1450, 0.0011062245345944484), (1451, 0.0019918990478641966), (1452, 0.002065475113198666), (1453, 0.0027946625814285466), (1454, 0.0037925610466681527), (1455, 0.005522528591856153), (1456, 0.001235103765522151), (1457, 0.0), (1458, 0.00217149042873553), (1459, 0.0), (1460, 0.0), (1461, 0.006704693441527118), (1462, 0.0030489690597078137), (1463, 0.0011678312133108948), (1464, 0.01691746935905145), (1465, 0.006502490243359466), (1466, 0.0), (1467, 0.0), (1468, 0.0), (1469, 0.002269219134341185), (1470, 0.0), (1471, 0.010536534522134273), (1472, 0.0034671701355956344), (1473, 0.0), (1474, 0.0013475959279090812), (1475, 0.0042495981932484566), (1476, 0.0011685237153427643), (1477, 0.004263149545634171), (1478, 0.006753360206148829), (1479, 0.0013141958114438852), (1480, 0.002059874038906181), (1481, 0.006847273367886999), (1482, 0.0), (1483, 0.006668705797125531), (1484, 0.0034255460964230104), (1485, 0.0), (1486, 0.003385009808440061), (1487, 0.0), (1488, 0.003557258188202588), (1489, 0.003886816451735131), (1490, 0.0), (1491, 0.0), (1492, 0.011038350340243098), (1493, 0.007887907506383119), (1494, 0.004453169025603826), (1495, 0.0), (1496, 0.0), (1497, 0.0012661750132522095), (1498, 0.003680749770371623), (1499, 0.001192694835114318), (1500, 0.013626853557063483), (1501, 0.0031310231568618617), (1502, 0.0021282983558881053), (1503, 0.0012175903282489577), (1504, 0.0030827927068436335), (1505, 0.010650666951949064), (1506, 0.023612985353690667), (1507, 0.0035494033741117676), (1508, 0.0), (1509, 0.008346380225762541), (1510, 0.009694541533102572), (1511, 0.0), (1512, 0.006959101226682383), (1513, 0.004495718492462373), (1514, 0.004164457117378201), (1515, 0.01025323773526434), (1516, 0.0012102991467753137), (1517, 0.0), (1518, 0.0013339996271885342), (1519, 0.005979163380546307), (1520, 0.0), (1521, 0.0), (1522, 0.0), (1523, 0.008286547994060348), (1524, 0.0), (1525, 0.0), (1526, 0.003098976601549094), (1527, 0.018902265861964085), (1528, 0.0011357284418581869), (1529, 0.0), (1530, 0.0019326117856763997), (1531, 0.0022450420661329746), (1532, 0.0), (1533, 0.001277990175834333), (1534, 0.0), (1535, 0.0), (1536, 0.0033900836164195308), (1537, 0.0035962578622761587), (1538, 0.004149660921036945), (1539, 0.0036913891808905137), (1540, 0.0037564270632204555), (1541, 0.0), (1542, 0.00556776289083377), (1543, 0.0011004910937589833), (1544, 0.01215091633215521), (1545, 0.0), (1546, 0.0017932015630828613), (1547, 0.0013297815547173054), (1548, 0.0), (1549, 0.0), (1550, 0.001193007471302261), (1551, 0.005085060605458884), (1552, 0.0029719972016631234), (1553, 0.003654071848344076), (1554, 0.0022717557042911305), (1555, 0.0032965126619345616), (1556, 0.0), (1557, 0.0), (1558, 0.0011466299575151277), (1559, 0.001965505198074458), (1560, 0.0), (1561, 0.0), (1562, 0.0021144811474815796), (1563, 0.0), (1564, 0.0), (1565, 0.001083690024528482), (1566, 0.002028329820548377), (1567, 0.006108082402238575), (1568, 0.015538491778359642), (1569, 0.0), (1570, 0.0011397751197458753), (1571, 0.003594202064261607), (1572, 0.011999965508303841), (1573, 0.002042412120164791), (1574, 0.0012505656274284912), (1575, 0.0022812292877320414), (1576, 0.001985315605905489), (1577, 0.0), (1578, 0.0), (1579, 0.008726213429916767), (1580, 0.0013439390276033317), (1581, 0.0), (1582, 0.004530668797578323), (1583, 0.0030686656430969884), (1584, 0.0), (1585, 0.011151400412126958), (1586, 0.0), (1587, 0.0021809851274208385), (1588, 0.002200857620675942), (1589, 0.0), (1590, 0.002050828475947434), (1591, 0.005595222633902714), (1592, 0.0), (1593, 0.0012262775326328781), (1594, 0.0013419887722078538), (1595, 0.006540924161489863), (1596, 0.0), (1597, 0.0011934078785447802), (1598, 0.0011738636746882868), (1599, 0.0), (1600, 0.0), (1601, 0.0), (1602, 0.0), (1603, 0.0), (1604, 0.0), (1605, 0.0010813878917833278), (1606, 0.0), (1607, 0.0), (1608, 0.0032917625515728388), (1609, 0.0073256579668542635), (1610, 0.0), (1611, 0.0), (1612, 0.004629357241003034), (1613, 0.0), (1614, 0.002364834735473648), (1615, 0.0), (1616, 0.001113649315362538), (1617, 0.001185014733255197), (1618, 0.0), (1619, 0.004121032920166788), (1620, 0.00447554193095575), (1621, 0.006421109442072612), (1622, 0.002096138607841242), (1623, 0.0018606272326662833), (1624, 0.001093273918785089), (1625, 0.0010058769733637667), (1626, 0.0), (1627, 0.0031335872147051184), (1628, 0.0011374013401709202), (1629, 0.010186942346439914), (1630, 0.005107098835459316), (1631, 0.001949096332314702), (1632, 0.0020161159628733277), (1633, 0.001992579825538407), (1634, 0.0011462000230364104), (1635, 0.0020395512500806564), (1636, 0.0), (1637, 0.0012775230660199443), (1638, 0.0), (1639, 0.0), (1640, 0.0), (1641, 0.0012141305803663547), (1642, 0.0011344173148780492), (1643, 0.003646332183045742), (1644, 0.003303958118622693), (1645, 0.0011702103679325949), (1646, 0.0), (1647, 0.16710523209724176), (1648, 0.015726152179505504), (1649, 0.0), (1650, 0.004040383982384732), (1651, 0.0), (1652, 0.04111000376658554), (1653, 0.003234597725695504), (1654, 0.005905618312815659), (1655, 0.004286069407619761), (1656, 0.0012835067590395068), (1657, 0.04087865350710346), (1658, 0.004581270864927297), (1659, 0.0023014512801022855), (1660, 0.0012022196295445417), (1661, 0.0023995673561760977), (1662, 0.005094122090492547), (1663, 0.0012220891782266563), (1664, 0.002981454071339266), (1665, 0.006089992542841911), (1666, 0.0012909591274604694), (1667, 0.0062315852253467165), (1668, 0.0), (1669, 0.0), (1670, 0.001179123592826825), (1671, 0.009762801737532628), (1672, 0.0010750017493404735), (1673, 0.0), (1674, 0.0038883896389629424), (1675, 0.04873838289555078), (1676, 0.018098385185041782), (1677, 0.0010461788000205386), (1678, 0.010582677630653502), (1679, 0.0), (1680, 0.006263508414348748), (1681, 0.005747126622284807), (1682, 0.00722784391903384), (1683, 0.0010900182208463602), (1684, 0.002728634124143614), (1685, 0.0041137836129354725), (1686, 0.0), (1687, 0.006960706103821318), (1688, 0.004425879698377041), (1689, 0.0), (1690, 0.00391508993544898), (1691, 0.0011090259030670671), (1692, 0.0029219344336985486), (1693, 0.0011885382290476108), (1694, 0.005395928645304626), (1695, 0.0027568472117024552), (1696, 0.005463715544252365), (1697, 0.0), (1698, 0.0), (1699, 0.00192318410253739), (1700, 0.0), (1701, 0.004855298801143404), (1702, 0.0), (1703, 0.0012232637384246565), (1704, 0.0), (1705, 0.0036354165007543475), (1706, 0.0011566323395643232), (1707, 0.011433808569033001), (1708, 0.004612134359764395), (1709, 0.0), (1710, 0.0041952837829491805), (1711, 0.001385744864850026), (1712, 0.004616912670607795), (1713, 0.005625081293361537), (1714, 0.006321826796532526), (1715, 0.0027582435211654923), (1716, 0.007191634428246961), (1717, 0.001180231281560336), (1718, 0.003134761848063328), (1719, 0.0011588279925899548), (1720, 0.05108966889031431), (1721, 0.012477776497555836), (1722, 0.0011720802418806072), (1723, 0.005143851583680614), (1724, 0.0022328998608856254), (1725, 0.0), (1726, 0.0), (1727, 0.004514140626383251), (1728, 0.0), (1729, 0.0), (1730, 0.004027098530120705), (1731, 0.0), (1732, 0.0023060045654872854), (1733, 0.0013277340686545062), (1734, 0.0), (1735, 0.0033675648085231846), (1736, 0.00500276066295623), (1737, 0.0031365850370523463), (1738, 0.003375258251190224), (1739, 0.005990136236151545), (1740, 0.006564713529529314), (1741, 0.007571291759274), (1742, 0.0012442876002121523), (1743, 0.0039169615569108465), (1744, 0.0011176284615463537), (1745, 0.0), (1746, 0.00293227013761543), (1747, 0.003823304244326556), (1748, 0.0013922774815883423), (1749, 0.043015394355423606), (1750, 0.015122094457147413), (1751, 0.0), (1752, 0.006506248440767104), (1753, 0.001850802123252905), (1754, 0.004905327031571768), (1755, 0.0), (1756, 0.0), (1757, 0.04630158337386679), (1758, 0.0), (1759, 0.008247492486818), (1760, 0.0033435539037596877), (1761, 0.005541343161700669), (1762, 0.0038483652732646083), (1763, 0.045099445770774356), (1764, 0.004077866540416502), (1765, 0.0013057970203702064), (1766, 0.0), (1767, 0.0), (1768, 0.0012109199967901341), (1769, 0.0), (1770, 0.0032032598143939815), (1771, 0.0), (1772, 0.0021017933591024334), (1773, 0.00474357079523227), (1774, 0.008487666474170522), (1775, 0.0), (1776, 0.004197625245311997), (1777, 0.0), (1778, 0.0), (1779, 0.006857595189498404), (1780, 0.0009626285647047529), (1781, 0.005190318119444643), (1782, 0.0011947801646806698), (1783, 0.0), (1784, 0.002045739488409942), (1785, 0.0), (1786, 0.0), (1787, 0.006129165189172132), (1788, 0.013891599997786443), (1789, 0.005162785774168772), (1790, 0.003164247358709281), (1791, 0.0021464033536060623), (1792, 0.0013640078856614122), (1793, 0.004222079260187346), (1794, 0.0), (1795, 0.01410720576623531), (1796, 0.006639767068151383), (1797, 0.0033640649798286526), (1798, 0.004555705399297318), (1799, 0.0056491076248539485), (1800, 0.0), (1801, 0.0010847460067343001), (1802, 0.006422478702360921), (1803, 0.0), (1804, 0.0), (1805, 0.001237497793014228), (1806, 0.0037148740367912002), (1807, 0.004048839390503416), (1808, 0.0011903577658891247), (1809, 0.08109325462574694), (1810, 0.0), (1811, 0.003384074032280455), (1812, 0.005390037792416754), (1813, 0.0012073922033651824), (1814, 0.0011717835547085276), (1815, 0.006283240929116465), (1816, 0.003221065535943173), (1817, 0.009931546001046123), (1818, 0.0030919962468587405), (1819, 0.003151445259828396), (1820, 0.0), (1821, 0.020573710759052084), (1822, 0.0012436933257293822), (1823, 0.0), (1824, 0.0), (1825, 0.0), (1826, 0.0009613375670832204), (1827, 0.0011145721114334314), (1828, 0.0011461881737987998), (1829, 0.002305049676387332), (1830, 0.0011104617929372975), (1831, 0.0012224106455042988), (1832, 0.0051918920898740605), (1833, 0.004170099072152183), (1834, 0.0), (1835, 0.0), (1836, 0.0), (1837, 0.0), (1838, 0.009658766420538388), (1839, 0.0), (1840, 0.0020846852361795644), (1841, 0.0035683661103055302), (1842, 0.0), (1843, 0.007913864064303082), (1844, 0.0), (1845, 0.013979407155834319), (1846, 0.002025785160748658), (1847, 0.012755942140042038), (1848, 0.0012716297442720286), (1849, 0.0031548447051839056), (1850, 0.02056493986890545), (1851, 0.001223950762436436), (1852, 0.005028994811896064), (1853, 0.006917647962507333), (1854, 0.004363410390844747), (1855, 0.0), (1856, 0.0), (1857, 0.001983758535992332), (1858, 0.004938653161258674), (1859, 0.0022661194691510618), (1860, 0.00452765028422728), (1861, 0.009683394908739075), (1862, 0.0012174788798185957), (1863, 0.0026490577373541693), (1864, 0.006259524971447253), (1865, 0.012020143263878135), (1866, 0.00359741494540532), (1867, 0.0032047923071274755), (1868, 0.013944022661188063), (1869, 0.0011200135481677503), (1870, 0.005763829819676567), (1871, 0.022638480350164105), (1872, 0.008873699813927003), (1873, 0.0053180955216434326), (1874, 0.004641762587206886), (1875, 0.0038450698327908445), (1876, 0.006710413466911818), (1877, 0.0011100693537430988), (1878, 0.008215016512078057), (1879, 0.0), (1880, 0.007644754805689354), (1881, 0.0023889921044243693), (1882, 0.0011809050955448501), (1883, 0.0), (1884, 0.001026554181452149), (1885, 0.05586571324247816), (1886, 0.12775794201551902), (1887, 0.0013103318743826486), (1888, 0.0), (1889, 0.0), (1890, 0.0013241123367867718), (1891, 0.0011728466021198787), (1892, 0.00277860982945899), (1893, 0.0012402796500471985), (1894, 0.0), (1895, 0.00779538408118125), (1896, 0.0013069932801521454), (1897, 0.006984290547647622), (1898, 0.0), (1899, 0.0), (1900, 0.0036459326069419908), (1901, 0.0022053209290617765), (1902, 0.0033835021746107152), (1903, 0.003016919959603799), (1904, 0.0021179704418938993), (1905, 0.001127252978949291), (1906, 0.007327148374460205), (1907, 0.001276062077598966), (1908, 0.003287195822050694), (1909, 0.0012280303228334637), (1910, 0.002072773751746861), (1911, 0.003320546350539693), (1912, 0.0), (1913, 0.0030172195017932335), (1914, 0.0019512410269666625), (1915, 0.0), (1916, 0.0011982600052187619), (1917, 0.0), (1918, 0.0035942628407125716), (1919, 0.00820227681959614), (1920, 0.004225945820736722), (1921, 0.0012033316514460841), (1922, 0.004631607394669564), (1923, 0.004722699646888522), (1924, 0.0038915052625434), (1925, 0.0020702119619835442), (1926, 0.0), (1927, 0.008851542292749783), (1928, 0.0), (1929, 0.001206472346892544), (1930, 0.002137199705364464), (1931, 0.003430387291251536), (1932, 0.0), (1933, 0.002137663358184693), (1934, 0.006021989766552816), (1935, 0.012260988679899614), (1936, 0.004385841490977354), (1937, 0.008959187367948481), (1938, 0.0), (1939, 0.00253274882787802), (1940, 0.002343320678506033), (1941, 0.0023753756961204246), (1942, 0.009624223410060535), (1943, 0.0011287720520428463), (1944, 0.0), (1945, 0.006571958560353747), (1946, 0.0011776200396137859), (1947, 0.0012751981007804371), (1948, 0.005034032705293563), (1949, 0.005505774081608529), (1950, 0.0036858123522761775), (1951, 0.004250836800413106), (1952, 0.0023509421369893673), (1953, 0.001998056427989711), (1954, 0.0010568256908398302), (1955, 0.0), (1956, 0.0), (1957, 0.005267556478685427), (1958, 0.005860219675577975), (1959, 0.001286954859572103), (1960, 0.003699159785420112), (1961, 0.0), (1962, 0.002294906049792492), (1963, 0.0), (1964, 0.0031444736020207692), (1965, 0.0), (1966, 0.0), (1967, 0.0068800237654604475), (1968, 0.0038778073289821727), (1969, 0.0012300458472340816), (1970, 0.012674233965153107), (1971, 0.0043771227909273295), (1972, 0.0), (1973, 0.003487732576172235), (1974, 0.0), (1975, 0.0020895077929372315), (1976, 0.049568840567074945), (1977, 0.13943549782430106), (1978, 0.0), (1979, 0.0), (1980, 0.0011753718625887688), (1981, 0.0030490728843296077), (1982, 0.08893300146384893), (1983, 0.007410252483163592), (1984, 0.0), (1985, 0.009386437083785535), (1986, 0.006477733105590993), (1987, 0.0029578942862846214), (1988, 0.005738471010540128), (1989, 0.005905846562526626), (1990, 0.04897268928783974), (1991, 0.017364905109025403), (1992, 0.005162772628574024), (1993, 0.00211040003679173), (1994, 0.08525681046650467), (1995, 0.0011399030433153691), (1996, 0.010351972506485053), (1997, 0.010696522531391134), (1998, 0.0023206144460345894), (1999, 0.050852600725715714), (2000, 0.006576356900341419), (2001, 0.0), (2002, 0.0), (2003, 0.0), (2004, 0.0011576684005796044), (2005, 0.00589286224802591), (2006, 0.0), (2007, 0.0), (2008, 0.006559690734408773), (2009, 0.0), (2010, 0.0009075694570007611), (2011, 0.011910092439481825), (2012, 0.0024126835182133235), (2013, 0.03729239050734073), (2014, 0.014923884165202423), (2015, 0.00227686057490719), (2016, 0.004782148826946673), (2017, 0.0), (2018, 0.03793950362835088), (2019, 0.0), (2020, 0.03874752379709366), (2021, 0.0), (2022, 0.0027363785345793515), (2023, 0.01475032075097566), (2024, 0.006151400567438808), (2025, 0.0), (2026, 0.025732018775323544), (2027, 0.007549204484928924), (2028, 0.0), (2029, 0.004288866569551999), (2030, 0.0), (2031, 0.003010947049397461), (2032, 0.0), (2033, 0.0), (2034, 0.0008880874538455028), (2035, 0.009046509006814947), (2036, 0.0), (2037, 0.01431664666377657), (2038, 0.0), (2039, 0.001106271556971899), (2040, 0.009983034827508504), (2041, 0.0), (2042, 0.0), (2043, 0.0), (2044, 0.0022636813412202157), (2045, 0.00653165049669913), (2046, 0.0), (2047, 0.001153812175788406), (2048, 0.001106645293176837), (2049, 0.004393511570033122), (2050, 0.0), (2051, 0.0045374250182113485), (2052, 0.00558234884206634), (2053, 0.007119148441780422), (2054, 0.0), (2055, 0.010201457425134832), (2056, 0.0028285534596488833), (2057, 0.005417249380919772), (2058, 0.003014937038897698), (2059, 0.0), (2060, 0.001248973541073035), (2061, 0.0035013697091614256), (2062, 0.00528977723341713), (2063, 0.0), (2064, 0.0025389243958884406), (2065, 0.00417177777085772), (2066, 0.006209312860292728), (2067, 0.0012449298364924952), (2068, 0.0012551079812037885), (2069, 0.003377076035772471), (2070, 0.009398408523925691), (2071, 0.0), (2072, 0.0012092516863541345), (2073, 0.0011663915186860383), (2074, 0.005131474033157727), (2075, 0.0038482014681872775), (2076, 0.004385620932446828), (2077, 0.0037293931713006613), (2078, 0.0018505255737985681), (2079, 0.0), (2080, 0.0037899708100209255), (2081, 0.0), (2082, 0.051045465599377345), (2083, 0.0012853384228568032), (2084, 0.0021935765732889246), (2085, 0.0), (2086, 0.0), (2087, 0.0039276565500090755), (2088, 0.00349633882943352), (2089, 0.003607298370070957), (2090, 0.0), (2091, 0.0035553936638457687), (2092, 0.0), (2093, 0.008907308921710669), (2094, 0.012724250076500344), (2095, 0.002944180391474299), (2096, 0.010730221565386826), (2097, 0.004967910585501989), (2098, 0.0028201845830101795), (2099, 0.0011384035621840082), (2100, 0.0), (2101, 0.0032506030144864315), (2102, 0.049809166473774424), (2103, 0.004394069600034532), (2104, 0.003620011906386391), (2105, 0.0012383282933111374), (2106, 0.0), (2107, 0.0), (2108, 0.001295090345808303), (2109, 0.004455994703205197), (2110, 0.008097769833868059), (2111, 0.0012236747462676227), (2112, 0.0860399200283427), (2113, 0.0026917894911755824), (2114, 0.015260528495443428), (2115, 0.0), (2116, 0.004436997780592822), (2117, 0.0011564230145946644), (2118, 0.0), (2119, 0.008911688058600528), (2120, 0.0), (2121, 0.005782193510772405), (2122, 0.01626500617385153), (2123, 0.015700698685914605), (2124, 0.0), (2125, 0.0), (2126, 0.004780374845547593), (2127, 0.00097095132473124), (2128, 0.0), (2129, 0.0010866527863171848), (2130, 0.0022446737587938324), (2131, 0.0011206387225560373), (2132, 0.0009644078651022166), (2133, 0.024303172699276034), (2134, 0.0012278980059370066), (2135, 0.0), (2136, 0.002246099584319779), (2137, 0.0013397111818406718), (2138, 0.0), (2139, 0.0019562850849261957), (2140, 0.0), (2141, 0.0012888389345041364), (2142, 0.0012799015560719402), (2143, 0.004408728031813605), (2144, 0.004351707053876316), (2145, 0.005841512872123289), (2146, 0.0009958961832465996), (2147, 0.015893992482575597), (2148, 0.0011477355998084594), (2149, 0.007056348982261748), (2150, 0.0), (2151, 0.020772589295369886), (2152, 0.0), (2153, 0.0), (2154, 0.011957107063191426), (2155, 0.019230526034278602), (2156, 0.0028735169726001324), (2157, 0.04412784975863941), (2158, 0.0037238341791780843), (2159, 0.0011538678475927064), (2160, 0.0031510038649649346), (2161, 0.0084466108832023), (2162, 0.0048378021987640855), (2163, 0.0011127123655219453), (2164, 0.0), (2165, 0.0), (2166, 0.0012681958300364159), (2167, 0.008873181976385397), (2168, 0.0), (2169, 0.001194847542929405), (2170, 0.0), (2171, 0.0), (2172, 0.0), (2173, 0.0010022168117615454), (2174, 0.009304566840757372), (2175, 0.0031338000275198366), (2176, 0.0012849151303251758), (2177, 0.0067016167777211606), (2178, 0.00522838349009876), (2179, 0.0), (2180, 0.0), (2181, 0.0023568000919844995), (2182, 0.0), (2183, 0.0), (2184, 0.0032149634963690543), (2185, 0.002807895121094397), (2186, 0.0), (2187, 0.016459331299142378), (2188, 0.003506230843205807), (2189, 0.0014187162566921833), (2190, 0.0011992079689225601), (2191, 0.023490677274663967), (2192, 0.0012834909330555267), (2193, 0.0042190961735830606), (2194, 0.0), (2195, 0.0011713065712062225), (2196, 0.007117393443919038), (2197, 0.004558909409156735), (2198, 0.04693967425639266), (2199, 0.0013732700305901203), (2200, 0.0), (2201, 0.0011418869453078367), (2202, 0.0031034371812637433), (2203, 0.00296523868079962), (2204, 0.0), (2205, 0.003048518926960035), (2206, 0.004850381444419629), (2207, 0.008160461495703984), (2208, 0.002272029508331459), (2209, 0.004483473638090937), (2210, 0.010242812350121767), (2211, 0.0038858127130911094), (2212, 0.05315227405170626), (2213, 0.0011260273151355435), (2214, 0.02133258979576888), (2215, 0.0), (2216, 0.00703595269316421), (2217, 0.0), (2218, 0.0), (2219, 0.0), (2220, 0.0), (2221, 0.014749072190125456), (2222, 0.0), (2223, 0.0013318551619998843), (2224, 0.006554293949390283), (2225, 0.0), (2226, 0.001197641422360035), (2227, 0.0), (2228, 0.003768052786779912), (2229, 0.006672927219158588), (2230, 0.001208133485647816), (2231, 0.00211090099695195), (2232, 0.002122828616859374), (2233, 0.0), (2234, 0.0), (2235, 0.005639098450519905), (2236, 0.004052887425983457), (2237, 0.008352839882157313), (2238, 0.0), (2239, 0.003205189053446736), (2240, 0.0011635289380148251), (2241, 0.0), (2242, 0.0012106136949940707), (2243, 0.0), (2244, 0.004074385641605945), (2245, 0.002188604764584245), (2246, 0.002139761680346961), (2247, 0.0), (2248, 0.020969520034655322), (2249, 0.0), (2250, 0.004636146911851244), (2251, 0.001314232084400235), (2252, 0.00552166641795314), (2253, 0.0), (2254, 0.00753754113527282), (2255, 0.0036011482338132), (2256, 0.0), (2257, 0.001263197977904294), (2258, 0.007716585950760251), (2259, 0.0), (2260, 0.0012092020799575219), (2261, 0.0), (2262, 0.0), (2263, 0.0), (2264, 0.004000997731458965), (2265, 0.003553322302900566), (2266, 0.0013367846750002672), (2267, 0.0), (2268, 0.001191711957347282), (2269, 0.0012909586840859943), (2270, 0.0011330835742744724), (2271, 0.0), (2272, 0.0), (2273, 0.0022551718702760793), (2274, 0.0), (2275, 0.005903067876666347), (2276, 0.012503060232810961), (2277, 0.0042135213127922014), (2278, 0.0021823111396162814), (2279, 0.004495736060860052), (2280, 0.00504442613732063), (2281, 0.0), (2282, 0.0), (2283, 0.0022062466872930326), (2284, 0.006479253197690476), (2285, 0.004078617001520214), (2286, 0.0014205951234799931), (2287, 0.0010040305921921251), (2288, 0.001011324653866651), (2289, 0.0009699456633462876), (2290, 0.0073662591912388815), (2291, 0.0028764415440999174), (2292, 0.0011813886431055389), (2293, 0.0011912451451399893), (2294, 0.06110027118721092), (2295, 0.006802609700907001), (2296, 0.0), (2297, 0.0), (2298, 0.007258596037766498), (2299, 0.001645089587197167), (2300, 0.0), (2301, 0.009988050029372596), (2302, 0.0012123725583075727), (2303, 0.004302471185093788), (2304, 0.003336802862721773), (2305, 0.0), (2306, 0.004818528933805833), (2307, 0.0), (2308, 0.01705743426878935), (2309, 0.004204152346533901), (2310, 0.0012985962216641703), (2311, 0.0), (2312, 0.0), (2313, 0.001293166713090099), (2314, 0.002166901238974261), (2315, 0.0), (2316, 0.05552369067594693), (2317, 0.0011167902388537025), (2318, 0.07958283631159382), (2319, 0.0012530034674248464), (2320, 0.001371851264823051), (2321, 0.0191726483988546), (2322, 0.0), (2323, 0.001090075002747397), (2324, 0.0025272532531543713), (2325, 0.0), (2326, 0.001732485770085036), (2327, 0.0), (2328, 0.0022080850735648632), (2329, 0.0), (2330, 0.002061737045223963), (2331, 0.0), (2332, 0.0), (2333, 0.0), (2334, 0.007097374861947616), (2335, 0.002865953856937195), (2336, 0.005232312475729826), (2337, 0.0), (2338, 0.0011060597480872139), (2339, 0.003448306353630716), (2340, 0.0012232018729689364), (2341, 0.0), (2342, 0.0), (2343, 0.0), (2344, 0.002935664786783103), (2345, 0.0), (2346, 0.004434163110122813), (2347, 0.008033393346800017), (2348, 0.0033062638754215046), (2349, 0.0014015601867446077), (2350, 0.0012609772539343542), (2351, 0.0), (2352, 0.0), (2353, 0.006591428408215577), (2354, 0.0011967859575053802), (2355, 0.003007239746136647), (2356, 0.0012512715594675448), (2357, 0.0), (2358, 0.0), (2359, 0.0011009291781555477), (2360, 0.0), (2361, 0.0011267264765047753), (2362, 0.008137772993415861), (2363, 0.003368805943204996), (2364, 0.0), (2365, 0.05823791287549542), (2366, 0.007125014664316578), (2367, 0.0011282674144527998), (2368, 0.008321747075484462), (2369, 0.0), (2370, 0.0011794492946424506), (2371, 0.0), (2372, 0.0), (2373, 0.0), (2374, 0.022770643687937943), (2375, 0.01638220122926081), (2376, 0.00791194121566041), (2377, 0.0), (2378, 0.0011926470380568236), (2379, 0.001368030318117712), (2380, 0.0), (2381, 0.0), (2382, 0.0010959268713279537), (2383, 0.005652681005670822), (2384, 0.0), (2385, 0.001265796488304269), (2386, 0.001209368227548469), (2387, 0.001219780162751078), (2388, 0.0025529262802837754), (2389, 0.0), (2390, 0.001240564473316072), (2391, 0.0011585698389117525), (2392, 0.0013364922671336085), (2393, 0.0012737620526892964), (2394, 0.001015090466245286), (2395, 0.0), (2396, 0.0011631196939152644), (2397, 0.0011716197659103207), (2398, 0.0), (2399, 0.0011247035160687458), (2400, 0.001206119200112056), (2401, 0.001045797480211695), (2402, 0.0012056110556622926), (2403, 0.004803434819956984), (2404, 0.0013479870445629795), (2405, 0.0011260897582155227), (2406, 0.006976894184884759), (2407, 0.0013127311658089034), (2408, 0.0), (2409, 0.0), (2410, 0.0012838794409967122), (2411, 0.001173140054730538), (2412, 0.005834166832430238), (2413, 0.05367989319087796), (2414, 0.0), (2415, 0.0012921931879305761), (2416, 0.0011644113495131558), (2417, 0.00430585474235317), (2418, 0.004280674288399045), (2419, 0.001254636963868919), (2420, 0.0), (2421, 0.005419977035557725), (2422, 0.0011700442856351146), (2423, 0.001186580648335109), (2424, 0.0028004779805086057), (2425, 0.0012227429494168), (2426, 0.002396592678002363), (2427, 0.003620025476395576), (2428, 0.003278850900083007), (2429, 0.004958661017171845), (2430, 0.0012129243845523923), (2431, 0.0), (2432, 0.0019690453908043533), (2433, 0.0), (2434, 0.0012388289003672913), (2435, 0.0), (2436, 0.004565872946277792), (2437, 0.001217046850915142), (2438, 0.0013397797803010884), (2439, 0.0024320989116376596), (2440, 0.009501101028557904), (2441, 0.0010626600468637499), (2442, 0.0020774253893129165), (2443, 0.01679292301809622), (2444, 0.0029172206150122064), (2445, 0.0), (2446, 0.0010968217867198021), (2447, 0.006255684392533035), (2448, 0.0012731940704789684), (2449, 0.04540213521981706), (2450, 0.0), (2451, 0.0), (2452, 0.0), (2453, 0.0011376235176467507), (2454, 0.0011400304367098462), (2455, 0.0), (2456, 0.0), (2457, 0.0010738351499553164), (2458, 0.0), (2459, 0.0038058591391829906), (2460, 0.006435430687222545), (2461, 0.001176778519515886), (2462, 0.0), (2463, 0.003924590817759181), (2464, 0.004389546287375072), (2465, 0.0), (2466, 0.0011358289061460182), (2467, 0.0470628227557403), (2468, 0.00616609138555135), (2469, 0.00917215399107727), (2470, 0.0), (2471, 0.0), (2472, 0.0), (2473, 0.004101247780312792), (2474, 0.006484903241564378), (2475, 0.001036984795587352), (2476, 0.002169072481467202), (2477, 0.003539229840266972), (2478, 0.0012172563766120685), (2479, 0.0), (2480, 0.0048475517907817355), (2481, 0.014279661546190106), (2482, 0.0012007469102112782), (2483, 0.0), (2484, 0.012452609480168728), (2485, 0.0), (2486, 0.00602797713782198), (2487, 0.014029069842701051), (2488, 0.001364465328478744), (2489, 0.004421930410852877), (2490, 0.0013399745300738397), (2491, 0.0), (2492, 0.001176654262982857), (2493, 0.0), (2494, 0.004241975761642256), (2495, 0.0011945527742912054), (2496, 0.0031407387838801753), (2497, 0.0), (2498, 0.0), (2499, 0.0), (2500, 0.0), (2501, 0.009190901016889281), (2502, 0.0011008913786079166), (2503, 0.00314938613945298), (2504, 0.0), (2505, 0.004248392106252144), (2506, 0.0021172761226988697), (2507, 0.0012193059233776228), (2508, 0.0), (2509, 0.0010161658077978161), (2510, 0.0034574117411842443), (2511, 0.0), (2512, 0.004535001623511883), (2513, 0.008709788328043038), (2514, 0.0), (2515, 0.0), (2516, 0.0), (2517, 0.052816181447514474), (2518, 0.0), (2519, 0.003390795125569578), (2520, 0.0009659736746209898), (2521, 0.0), (2522, 0.007324374189615644), (2523, 0.0), (2524, 0.009846707654170526), (2525, 0.0011727267029920444), (2526, 0.0009707613896286127), (2527, 0.0011280733881886028), (2528, 0.0011878227796484023), (2529, 0.0014015613824074212), (2530, 0.001393051631893307), (2531, 0.0011370905071837537), (2532, 0.0), (2533, 0.0011588999897514355), (2534, 0.0006972504887079611), (2535, 0.0012287476670320356), (2536, 0.0), (2537, 0.0013391468939843235), (2538, 0.03904284932582714), (2539, 0.0), (2540, 0.01809228426933552), (2541, 0.0018919774812051439), (2542, 0.0), (2543, 0.0), (2544, 0.0011972985747353293), (2545, 0.004120169515967035), (2546, 0.004687182043768616), (2547, 0.0), (2548, 0.0), (2549, 0.0), (2550, 0.026659038254086997), (2551, 0.0), (2552, 0.0011801794363448088), (2553, 0.008689364904907326), (2554, 0.0011211569160201782), (2555, 0.005160225997107713), (2556, 0.0009660635751425584), (2557, 0.0013278811068622503), (2558, 0.038637203717112024), (2559, 0.0013462773937584248), (2560, 0.010296227405135971), (2561, 0.0012592966992202351), (2562, 0.0), (2563, 0.003938281795271647), (2564, 0.0), (2565, 0.004416715155684905), (2566, 0.0), (2567, 0.0024153773315071037), (2568, 0.007688290964735027), (2569, 0.0011998567763592117), (2570, 0.001300629675207254), (2571, 0.0010974783434961474), (2572, 0.004284890643234954), (2573, 0.0019066172118341184), (2574, 0.0), (2575, 0.0), (2576, 0.002453805882704764), (2577, 0.0), (2578, 0.0), (2579, 0.07677799186872054), (2580, 0.00319086672833316), (2581, 0.0035459498720234552), (2582, 0.00949776935230237), (2583, 0.0), (2584, 0.0), (2585, 0.0013334026309908286), (2586, 0.0), (2587, 0.004157517869362529), (2588, 0.0), (2589, 0.0), (2590, 0.0), (2591, 0.0010729601380423065), (2592, 0.0012753835943779828), (2593, 0.001111899283083095), (2594, 0.0), (2595, 0.0012657606309388959), (2596, 0.0), (2597, 0.0), (2598, 0.010612276569758855), (2599, 0.002077794356689829), (2600, 0.0036083794358944456), (2601, 0.0045201462543857165), (2602, 0.004959573755700075), (2603, 0.003596093923762788), (2604, 0.0), (2605, 0.0), (2606, 0.003308102859709963), (2607, 0.008215846038162247), (2608, 0.0), (2609, 0.001293137728161143), (2610, 0.0012912851751904861), (2611, 0.0011285040447888291), (2612, 0.0011609685039606112), (2613, 0.0011088088241536559), (2614, 0.0027434724422831518), (2615, 0.0), (2616, 0.0), (2617, 0.006174668671399358), (2618, 0.007856918594379435), (2619, 0.001304482261137683), (2620, 0.0), (2621, 0.015779896435254463), (2622, 0.019377676963623747), (2623, 0.0011726189758102194), (2624, 0.0012170738982589515), (2625, 0.005194958647386193), (2626, 0.002421937766779723), (2627, 0.0), (2628, 0.0013572556957730329), (2629, 0.0012898305301569557), (2630, 0.07919576705817641), (2631, 0.0), (2632, 0.006127700198335177), (2633, 0.004583389048345554), (2634, 0.0011028952633678455), (2635, 0.003494345807430934), (2636, 0.0010465847624284937), (2637, 0.0), (2638, 0.009793894591143654), (2639, 0.007336230722060003), (2640, 0.0044894471684488926), (2641, 0.0), (2642, 0.0011301025949083377), (2643, 0.0012308050434449013), (2644, 0.0067066905069966135), (2645, 0.008861389538462262), (2646, 0.043096683417382396), (2647, 0.011245516173927637), (2648, 0.0), (2649, 0.009709564804133354), (2650, 0.00881290301339123), (2651, 0.0011810577494774054), (2652, 0.0012183884658029682), (2653, 0.022840857279374592), (2654, 0.007584499932680309), (2655, 0.003657042079737976), (2656, 0.0), (2657, 0.0), (2658, 0.0), (2659, 0.0), (2660, 0.0022476662382137046), (2661, 0.0012416118037439116), (2662, 0.0), (2663, 0.0), (2664, 0.0011587135736822235), (2665, 0.0027888460279217532), (2666, 0.0), (2667, 0.0), (2668, 0.010471801787785177), (2669, 0.0), (2670, 0.0), (2671, 0.0), (2672, 0.0), (2673, 0.0012229625338822806), (2674, 0.0009269503559649041), (2675, 0.0), (2676, 0.0), (2677, 0.0), (2678, 0.0017332565738736928), (2679, 0.001050257869596597), (2680, 0.00498606074955839), (2681, 0.0), (2682, 0.0020955902706411163), (2683, 0.002170485921523846), (2684, 0.0), (2685, 0.0), (2686, 0.0), (2687, 0.04575862410809145), (2688, 0.005474745793736855), (2689, 0.01158021034162771), (2690, 0.0), (2691, 0.0032179506957575187), (2692, 1.0000000000000002), (2693, 0.0), (2694, 0.018404021274872714), (2695, 0.006607316036241414), (2696, 0.0013701596964650032), (2697, 0.005845140335468643), (2698, 0.004291956488390821), (2699, 0.0), (2700, 0.0020197759848052535), (2701, 0.0), (2702, 0.0012640485064690345), (2703, 0.0), (2704, 0.0), (2705, 0.00112727527657898), (2706, 0.04561204634031915), (2707, 0.0011030652171228244), (2708, 0.0029929923053267802), (2709, 0.0), (2710, 0.05585894019553771), (2711, 0.0022015767908591787), (2712, 0.0071796595549348755), (2713, 0.0), (2714, 0.0038422673084765073), (2715, 0.0), (2716, 0.01695182390939583), (2717, 0.0), (2718, 0.049265124717212075), (2719, 0.0), (2720, 0.0013555989956143442), (2721, 0.0011084861550594092), (2722, 0.0013756482769547197), (2723, 0.053669897269875574), (2724, 0.0032400198434681038), (2725, 0.0011995098272729243), (2726, 0.003019835246234218), (2727, 0.005565329445556823), (2728, 0.0011985868906822024), (2729, 0.0), (2730, 0.0), (2731, 0.0012811103278795595), (2732, 0.0031299755152610713), (2733, 0.002215965270133702), (2734, 0.0), (2735, 0.0010151151495563268), (2736, 0.00903582380145048), (2737, 0.0), (2738, 0.0013245605934607617), (2739, 0.00454795765178771), (2740, 0.004444572601766413), (2741, 0.0009737551267033906), (2742, 0.008052909041585643), (2743, 0.0010122830952331117), (2744, 0.004514047319085541), (2745, 0.00907979126500324), (2746, 0.001201293608618578), (2747, 0.0009674252242999497), (2748, 0.001079986755458485), (2749, 0.0), (2750, 0.0), (2751, 0.014564447215227207), (2752, 0.004453947109817496), (2753, 0.0011247256491021308), (2754, 0.0), (2755, 0.0012095524602586318), (2756, 0.0), (2757, 0.0014218048947906646), (2758, 0.001065715758078114), (2759, 0.004870327241392466), (2760, 0.040240491069177445), (2761, 0.0011319650022012706), (2762, 0.013810255768461652), (2763, 0.0), (2764, 0.0013771985330384053), (2765, 0.0012014777089461315), (2766, 0.0010606922187353898), (2767, 0.039906231820845996), (2768, 0.007777714525859786), (2769, 0.00502550945442182), (2770, 0.0), (2771, 0.006323585703635169), (2772, 0.001166153153374806), (2773, 0.0), (2774, 0.002820376348077027), (2775, 0.0014632604473499584), (2776, 0.0012298166924896686), (2777, 0.009676273619033438), (2778, 0.003279286111814968), (2779, 0.0011050145138645387), (2780, 0.005582781612234887), (2781, 0.0), (2782, 0.05503581797740747), (2783, 0.0012101169910247187), (2784, 0.006879523172628042), (2785, 0.0), (2786, 0.0011152672789606821), (2787, 0.0021043756815418545), (2788, 0.005354561097999545), (2789, 0.004526483305433248), (2790, 0.0022579178129420964), (2791, 0.0131223162840267), (2792, 0.00121006147100166), (2793, 0.0), (2794, 0.0), (2795, 0.007837308214589497), (2796, 0.0011838317333746282), (2797, 0.0013057188273997305), (2798, 0.004494739234127278), (2799, 0.0), (2800, 0.0011591919283026257), (2801, 0.002058877021640691), (2802, 0.0012805896183962794), (2803, 0.006623931099318217), (2804, 0.0), (2805, 0.006485329364954175), (2806, 0.0), (2807, 0.01594478599975876), (2808, 0.010157499508367532), (2809, 0.0024416000769678313), (2810, 0.0), (2811, 0.0), (2812, 0.004024683983481839), (2813, 0.0), (2814, 0.0), (2815, 0.006380873352773308), (2816, 0.00286470836156757), (2817, 0.0), (2818, 0.0), (2819, 0.002198003894171764), (2820, 0.005191380398072194), (2821, 0.0010486939040185448), (2822, 0.0), (2823, 0.008430197106768091), (2824, 0.0), (2825, 0.0031152731123707377), (2826, 0.001214126301027828), (2827, 0.0), (2828, 0.0), (2829, 0.0), (2830, 0.0013093339797797684), (2831, 0.0038865542834231074), (2832, 0.0014958892721773347), (2833, 0.003277274467745337), (2834, 0.0013612980131423595), (2835, 0.0), (2836, 0.0), (2837, 0.0), (2838, 0.001366339081301758), (2839, 0.0), (2840, 0.0035445662874762415), (2841, 0.01186423907180659), (2842, 0.0), (2843, 0.006320689809232395), (2844, 0.003824203986108515), (2845, 0.001189642821130107), (2846, 0.017757967713202562), (2847, 0.002230969593790342), (2848, 0.0012928933064671577), (2849, 0.0038879197711328634), (2850, 0.0), (2851, 0.0), (2852, 0.0), (2853, 0.0011365727380480673), (2854, 0.003629566175841269), (2855, 0.0), (2856, 0.0), (2857, 0.0013233105343063442), (2858, 0.0013317803070537313), (2859, 0.01948339777503557), (2860, 0.0), (2861, 0.0013683732584413453), (2862, 0.0011057355065773634), (2863, 0.0012433178801469448), (2864, 0.0), (2865, 0.0), (2866, 0.0), (2867, 0.010000946887826653), (2868, 0.04848641681792904), (2869, 0.018055161321394866), (2870, 0.0013636243508599703), (2871, 0.0049093775985291094), (2872, 0.0012159199345127627), (2873, 0.0032242527787788213), (2874, 0.006268392349065453), (2875, 0.0), (2876, 0.014644902720540358), (2877, 0.0), (2878, 0.001305076965372479), (2879, 0.003487768508835024), (2880, 0.0), (2881, 0.0034360347589006135), (2882, 0.0012520886539631529), (2883, 0.0013492954471716553), (2884, 0.0013220616892527766), (2885, 0.03296079872472167), (2886, 0.0038299432388414585), (2887, 0.047642969277438656), (2888, 0.001270001106605911), (2889, 0.0013068979496652625), (2890, 0.001049199869088403), (2891, 0.0), (2892, 0.0011348152754036963), (2893, 0.080670946913126), (2894, 0.0012296862978399062), (2895, 0.0012906543339332131), (2896, 0.0), (2897, 0.0033137189811766896), (2898, 0.0), (2899, 0.0032095047713981053), (2900, 0.000977734522082091), (2901, 0.0013085436257718962), (2902, 0.0009483624183512695), (2903, 0.045145285499775555), (2904, 0.0012294602017107214), (2905, 0.0), (2906, 0.0), (2907, 0.00103253751573679), (2908, 0.01731554614964841), (2909, 0.0012443814645083685), (2910, 0.00691327339875682), (2911, 0.0011962145756959433), (2912, 0.001153578697143507), (2913, 0.00573317758611699), (2914, 0.0012376595166240958), (2915, 0.0044299429974637245), (2916, 0.001010775723965594), (2917, 0.008002217420168576), (2918, 0.005075022241798741), (2919, 0.007157132528900899), (2920, 0.050148108865049265), (2921, 0.0), (2922, 0.0), (2923, 0.001342859139080423), (2924, 0.0012906412961413106), (2925, 0.005700367252639156), (2926, 0.0012280097257104845), (2927, 0.0), (2928, 0.0), (2929, 0.004655165100160284), (2930, 0.0), (2931, 0.007702145898595002), (2932, 0.009373924925775953), (2933, 0.0034205240399007336), (2934, 0.004152696756366102), (2935, 0.0028094674085298115), (2936, 0.004413873772788743), (2937, 0.0014211262894390081), (2938, 0.0), (2939, 0.0058803382549839625), (2940, 0.0012271154062641768), (2941, 0.0), (2942, 0.0037163070120942265), (2943, 0.0010969586304671027), (2944, 0.062143023928085746), (2945, 0.0011705435170270748), (2946, 0.001035584126374765), (2947, 0.0022130463958085363), (2948, 0.0036887271919647745), (2949, 0.0031862282850289164), (2950, 0.0), (2951, 0.0), (2952, 0.0), (2953, 0.0011718937154643518), (2954, 0.0010392876281215663), (2955, 0.0), (2956, 0.0), (2957, 0.0012800906323499094), (2958, 0.0), (2959, 0.0021135105703955046), (2960, 0.0023238411097223316), (2961, 0.005965963464346573), (2962, 0.0035423464687020442), (2963, 0.0056834341465971435), (2964, 0.004364394229816866), (2965, 0.0011675945357237797), (2966, 0.0011608142094483077), (2967, 0.0), (2968, 0.0), (2969, 0.006139853193960512), (2970, 0.001158957419247913), (2971, 0.04112660632825181), (2972, 0.0011661384252672404), (2973, 0.0), (2974, 0.0011856468707332282), (2975, 0.003970241548276391), (2976, 0.000974422120921271), (2977, 0.004512644663632125), (2978, 0.0059458908910543645), (2979, 0.0), (2980, 0.0043682363960749265), (2981, 0.055859786329676045), (2982, 0.0), (2983, 0.0), (2984, 0.0019060186150958358), (2985, 0.02699383202438202), (2986, 0.0011527695663216076), (2987, 0.0012915243135067104), (2988, 0.006586169023438275), (2989, 0.0013646977962719845), (2990, 0.0), (2991, 0.001962334719144024), (2992, 0.004850256609573243), (2993, 0.001133521348838528), (2994, 0.0030268777063513995), (2995, 0.009262482284219206), (2996, 0.007357391103192473), (2997, 0.0009559482502533626), (2998, 0.0015014257358786911), (2999, 0.0011242541745878827), (3000, 0.00828573148339202), (3001, 0.0), (3002, 0.0), (3003, 0.0012752622989913327), (3004, 0.05231581612294179), (3005, 0.0020739574229404487), (3006, 0.0), (3007, 0.0011644746233860851), (3008, 0.003418034285303868), (3009, 0.0), (3010, 0.04543556608611377), (3011, 0.0020999734593529825), (3012, 0.006188108912724357), (3013, 0.0012858376959748088), (3014, 0.0011000278149041886), (3015, 0.0012640704298409234), (3016, 0.001098621830842121), (3017, 0.046674901628993175), (3018, 0.0035678385930607488), (3019, 0.006664706776985061), (3020, 0.001217101106699687), (3021, 0.0), (3022, 0.0023668171169066226), (3023, 0.07629714225998813), (3024, 0.0009433887184722625), (3025, 0.0), (3026, 0.0013422543397462196), (3027, 0.0011697072272554608), (3028, 0.0011613535471194324), (3029, 0.0), (3030, 0.001315127636641977), (3031, 0.0012954184100599617), (3032, 0.003386670592969179), (3033, 0.0030428396102634057), (3034, 0.0), (3035, 0.002794974483941479), (3036, 0.008293939622834687), (3037, 0.0010288341211906772), (3038, 0.0), (3039, 0.00306692834913548), (3040, 0.0013316129142034569), (3041, 0.0), (3042, 0.00130662865063414), (3043, 0.007809552232652544), (3044, 0.0011298137401962594), (3045, 0.017956566676773904), (3046, 0.004447449342160939), (3047, 0.0), (3048, 0.0), (3049, 0.0023836689492096382), (3050, 0.0010408449459440574), (3051, 0.0013967505446590975), (3052, 0.0012822440618784267), (3053, 0.14772132835171273), (3054, 0.0), (3055, 0.0014178343316128953), (3056, 0.0009902698907460446), (3057, 0.000988725601357866), (3058, 0.0), (3059, 0.0), (3060, 0.0), (3061, 0.0), (3062, 0.0011059981421211243), (3063, 0.0), (3064, 0.001215286395316085), (3065, 0.004910235825461726), (3066, 0.0031784496302350246), (3067, 0.004003735892601058), (3068, 0.0), (3069, 0.0011701958468060103), (3070, 0.00477847842877084), (3071, 0.001160347187945466), (3072, 0.001232808748245132), (3073, 0.0), (3074, 0.001220923834437117), (3075, 0.0010804976278574118), (3076, 0.005227173228823149), (3077, 0.0), (3078, 0.0), (3079, 0.0018607341430145878), (3080, 0.0), (3081, 0.0012428678503442249), (3082, 0.0), (3083, 0.04392906595340725), (3084, 0.001197578005462498), (3085, 0.008462115518783592), (3086, 0.006553386347868241), (3087, 0.0), (3088, 0.0), (3089, 0.0), (3090, 0.0), (3091, 0.008464200755193649), (3092, 0.0), (3093, 0.0010503717345886618), (3094, 0.0046590753226421365), (3095, 0.00923792783450306), (3096, 0.004019782720995556), (3097, 0.008251318506323907), (3098, 0.008282764746201318), (3099, 0.005190939608844904), (3100, 0.0021830250626162432), (3101, 0.0012522947011982183), (3102, 0.01600147659371646), (3103, 0.0), (3104, 0.0), (3105, 0.0), (3106, 0.0), (3107, 0.0), (3108, 0.006559760513910298), (3109, 0.0), (3110, 0.005891764974650833), (3111, 0.009104197705935435), (3112, 0.0031652151553936457), (3113, 0.0011307391690789977), (3114, 0.002873847422332195), (3115, 0.0), (3116, 0.0012444926313915775), (3117, 0.00212699356491492), (3118, 0.004644253385421741), (3119, 0.004850529122123082), (3120, 0.004235984159073931), (3121, 0.0), (3122, 0.003511873011800248), (3123, 0.0034167055283886314), (3124, 0.002236929825774624), (3125, 0.003206519895234698), (3126, 0.0020776245689574616), (3127, 0.01808717518509256), (3128, 0.0013032940818136576), (3129, 0.008682729020901786), (3130, 0.0), (3131, 0.002279754427053696), (3132, 0.0), (3133, 0.0022068379791088917), (3134, 0.002334390638500093), (3135, 0.0020677073702435093), (3136, 0.0020280910716550995), (3137, 0.01699308252101326), (3138, 0.0), (3139, 0.0013511788276503937), (3140, 0.0013664790317760474), (3141, 0.0), (3142, 0.005671062330502546), (3143, 0.0020521231290371905), (3144, 0.009649217126153279), (3145, 0.0), (3146, 0.04868732946319958), (3147, 0.0011008243752977985), (3148, 0.0013029665204189133), (3149, 0.003352022781807392), (3150, 0.0012467745484981098), (3151, 0.0040926351052914655), (3152, 0.003115209332579333), (3153, 0.011310233132688918), (3154, 0.011339331260997874), (3155, 0.003976677145211973), (3156, 0.04378026704866589), (3157, 0.013339998984315616), (3158, 0.0022844363310576955), (3159, 0.0013700515366910377), (3160, 0.0019332971708886605), (3161, 0.0023112054528067927), (3162, 0.0), (3163, 0.0023180554713826576), (3164, 0.0028547187337978827), (3165, 0.001130191985296718), (3166, 0.0013623805396606836), (3167, 0.04922297080447376), (3168, 0.002282795890740764), (3169, 0.0), (3170, 0.0010276517591860086), (3171, 0.0037360363002622637), (3172, 0.0), (3173, 0.001119024152994554), (3174, 0.0011685713749015887), (3175, 0.0), (3176, 0.0), (3177, 0.0), (3178, 0.0015166331352059925), (3179, 0.002233878129237327), (3180, 0.0023879615780125207), (3181, 0.0), (3182, 0.0013145379978122243), (3183, 0.0011946073225066157), (3184, 0.0012045414652125718), (3185, 0.002664297948876148), (3186, 0.0013539106747786187), (3187, 0.0011850416784867151), (3188, 0.0), (3189, 0.0), (3190, 0.0), (3191, 0.002301717641541276), (3192, 0.0034448547607766255), (3193, 0.0), (3194, 0.0012591554043653766), (3195, 0.003121371940681607), (3196, 0.0036905515716355356), (3197, 0.0), (3198, 0.001121821502408583), (3199, 0.0009276513872874883), (3200, 0.0009727855728132914), (3201, 0.0), (3202, 0.0), (3203, 0.07476681027537194), (3204, 0.0), (3205, 0.0026540467304524092), (3206, 0.0013696536296789077), (3207, 0.0), (3208, 0.0), (3209, 0.018605023976984988), (3210, 0.006396557534910922), (3211, 0.0009946423060791959), (3212, 0.0), (3213, 0.008521984723029943), (3214, 0.0010558990167386262), (3215, 0.004510011944532153), (3216, 0.0011809739795961634), (3217, 0.0), (3218, 0.004720532238120595), (3219, 0.0014170374609117778), (3220, 0.0011921917601883409), (3221, 0.0), (3222, 0.009317053705309657), (3223, 0.0), (3224, 0.001196680263062478), (3225, 0.00116525455791415), (3226, 0.008460793281049631), (3227, 0.0035795718045354146), (3228, 0.006828780478627313), (3229, 0.0), (3230, 0.0013322238661171153), (3231, 0.0), (3232, 0.005369515935441), (3233, 0.003578717578697571), (3234, 0.0012177088330728452), (3235, 0.0011576870403314347), (3236, 0.0), (3237, 0.004343186602491904), (3238, 0.0011510430330831161), (3239, 0.0012814583447340307), (3240, 0.005276730783732517), (3241, 0.0011707948022058893), (3242, 0.001109324485220612), (3243, 0.0010992740159473404), (3244, 0.002817659837083489), (3245, 0.003428319976282571), (3246, 0.004085117413628195), (3247, 0.0021837178187792392), (3248, 0.10211566382263289), (3249, 0.0175921542691527), (3250, 0.0), (3251, 0.0), (3252, 0.0010717237180799624), (3253, 0.007388799218836997), (3254, 0.0009804419642850568), (3255, 0.05229123962043021), (3256, 0.003461165629558837), (3257, 0.0015738523559590246), (3258, 0.001071096638392443), (3259, 0.0034337182465219744), (3260, 0.049172935487833205), (3261, 0.0), (3262, 0.0013087901257410363), (3263, 0.0022457293190274374), (3264, 0.004247731461806826), (3265, 0.0030776904247895257), (3266, 0.0), (3267, 0.004297537620043311), (3268, 0.0010471314264674234), (3269, 0.0011492373374234282), (3270, 0.0), (3271, 0.0012755645606834093), (3272, 0.0), (3273, 0.001155501090939962), (3274, 0.0011784254306174337), (3275, 0.007431168100952357), (3276, 0.18885212832278617), (3277, 0.0), (3278, 0.001021064433724574), (3279, 0.00830009470126471), (3280, 0.017518009078958514), (3281, 0.0), (3282, 0.0013460827154250974), (3283, 0.0012545072026519204), (3284, 0.009490241261864341), (3285, 0.011507140522566992), (3286, 0.0), (3287, 0.0), (3288, 0.003100618257249196), (3289, 0.0011833048089662397), (3290, 0.001252968701124509), (3291, 0.0014414706528762971), (3292, 0.0013253063333218663), (3293, 0.00354236012226101), (3294, 0.0222187655807725), (3295, 0.0062818308116861345), (3296, 0.0011053053890144884), (3297, 0.004658829403249968), (3298, 0.001145315843905014), (3299, 0.007347857943474267), (3300, 0.001160614852647357), (3301, 0.0010635004347874031), (3302, 0.0014565627472452082), (3303, 0.00340316410805596), (3304, 0.0010500294886687524), (3305, 0.0), (3306, 0.00741323876948719), (3307, 0.0011392300037354737), (3308, 0.0013638135229617641), (3309, 0.0029070829843081034), (3310, 0.0), (3311, 0.0010690169530365781), (3312, 0.005579884447360454), (3313, 0.0145193222637567), (3314, 0.0012367366972548793), (3315, 0.0012023134685426294), (3316, 0.003465845177484184), (3317, 0.004844279873672492), (3318, 0.006462803368825915), (3319, 0.04136039133953244), (3320, 0.0), (3321, 0.0), (3322, 0.0012865219493737171), (3323, 0.0), (3324, 0.0), (3325, 0.008921502849321045), (3326, 0.0011812991344043499), (3327, 0.0010401066930290507), (3328, 0.0074738638816708326), (3329, 0.0039884460962920955), (3330, 0.052786435907111184), (3331, 0.00281485313332236), (3332, 0.0), (3333, 0.0), (3334, 0.005370843584133762), (3335, 0.001145183353300139), (3336, 0.001145927218420116), (3337, 0.00123227473269401), (3338, 0.0018937270361967433), (3339, 0.002056774283579551), (3340, 0.0), (3341, 0.0011625578358993617), (3342, 0.0029715107698892254), (3343, 0.0), (3344, 0.014090910807952993), (3345, 0.009696100145337283), (3346, 0.0044312658764824415), (3347, 0.0009314260586463916), (3348, 0.0010288689087251744), (3349, 0.0027601406683237517), (3350, 0.0), (3351, 0.016828308863213078), (3352, 0.009441898108913875), (3353, 0.001095177994588163), (3354, 0.0012182827477426764), (3355, 0.001270912056381323), (3356, 0.0073869027225976856), (3357, 0.001350632133359785), (3358, 0.001359751724775229), (3359, 0.0011494234847185744), (3360, 0.023979222278847592), (3361, 0.002003473036236467), (3362, 0.05213135319147505), (3363, 0.0012527527276890867), (3364, 0.001284058471112969), (3365, 0.0008965828468183485), (3366, 0.0), (3367, 0.0022905538034039886), (3368, 0.0), (3369, 0.001076046401020673), (3370, 0.006742839614969864), (3371, 0.0), (3372, 0.001169991627696521), (3373, 0.004910577088566046), (3374, 0.020738727157023924), (3375, 0.006966342657110586), (3376, 0.015807053237841512), (3377, 0.013725987833313424), (3378, 0.0), (3379, 0.0011831586914473346), (3380, 0.001090114530301561), (3381, 0.0012467262013466389), (3382, 0.004429856476629305), (3383, 0.0), (3384, 0.00958239086891133), (3385, 0.09955808923275619), (3386, 0.004141761086078281), (3387, 0.005498490003238668), (3388, 0.0012324359957745566), (3389, 0.003954240683235093), (3390, 0.0011705072321480747), (3391, 0.002593906194775919), (3392, 0.0008672006326076406), (3393, 0.0011216131896109565), (3394, 0.0), (3395, 0.009378051877576359), (3396, 0.0013117810342398114), (3397, 0.0), (3398, 0.0022915524418599446), (3399, 0.00394246219702164), (3400, 0.0), (3401, 0.0), (3402, 0.0011240088578906792), (3403, 0.009521179095945222), (3404, 0.002112985657504855), (3405, 0.0018859372867787215), (3406, 0.0012523800623917382), (3407, 0.007180195834509972), (3408, 0.07160041504442492), (3409, 0.0034177407484068407), (3410, 0.003796760749974231), (3411, 0.0), (3412, 0.0011584716581323252), (3413, 0.0013284110101907012), (3414, 0.0012895611977905039), (3415, 0.0), (3416, 0.009153261031198866), (3417, 0.0011672740112426692), (3418, 0.004672949967716009), (3419, 0.0014960607010286557), (3420, 0.02046462669447209), (3421, 0.00779297666574821), (3422, 0.0), (3423, 0.0042586282359182315), (3424, 0.0), (3425, 0.0012175236335034338), (3426, 0.004788990689432464), (3427, 0.080353126997115), (3428, 0.04898157763080008), (3429, 0.0012490913478400423), (3430, 0.04285975506469223), (3431, 0.0008486801254052811), (3432, 0.002202325852329781), (3433, 0.010391452937374698), (3434, 0.0011223646128828745), (3435, 0.0034523753665664817), (3436, 0.003397481360504816), (3437, 0.006810931667058833), (3438, 0.0021573114759711994), (3439, 0.0), (3440, 0.0023534530154495346), (3441, 0.001194621993740323), (3442, 0.0), (3443, 0.0021023964455010153), (3444, 0.0), (3445, 0.0012455333633335428), (3446, 0.010879539888873335), (3447, 0.01321854017286125), (3448, 0.0023942668514888394), (3449, 0.0012846488711171634), (3450, 0.011751616103478923), (3451, 0.002353969674315066), (3452, 0.0032327211385680295), (3453, 0.0035403295896671455), (3454, 0.0), (3455, 0.001081281420070358), (3456, 0.004059404793322638), (3457, 0.0034827645014836347), (3458, 0.0033467945280176263), (3459, 0.0), (3460, 0.0034154953689703375), (3461, 0.0), (3462, 0.09078241854572375), (3463, 0.0176818629602122), (3464, 0.0035045644482430203), (3465, 0.06872714394618552), (3466, 0.017102590178346946), (3467, 0.0), (3468, 0.002313275367014397), (3469, 0.010192707347845758), (3470, 0.05725781955025976), (3471, 0.00937482865790721), (3472, 0.0), (3473, 0.0), (3474, 0.0030172548563238187), (3475, 0.0), (3476, 0.0), (3477, 0.0011624007764338108), (3478, 0.0011842963574963828), (3479, 0.0013332720707574768), (3480, 0.0839798967177449), (3481, 0.0), (3482, 0.0), (3483, 0.010832081749769774), (3484, 0.0020263798612450063), (3485, 0.0), (3486, 0.016698069312283716), (3487, 0.003164348723962495), (3488, 0.04452902532691451), (3489, 0.0), (3490, 0.0), (3491, 0.00118047731076627), (3492, 0.010264995308476695), (3493, 0.0013167690904437451), (3494, 0.0), (3495, 0.0018775873734905581), (3496, 0.0012358181858040465), (3497, 0.001321942982234801), (3498, 0.01764653749611095), (3499, 0.0035073023603517115), (3500, 0.0009751185256966121), (3501, 0.0033715290098971693), (3502, 0.0023500498817654886), (3503, 0.0012202348670820396), (3504, 0.009140446316426914), (3505, 0.0), (3506, 0.0014803445384787923), (3507, 0.005740271372026592), (3508, 0.009981844975938979), (3509, 0.0028044294664511197), (3510, 0.0), (3511, 0.0012218414812444661), (3512, 0.0015751205489124352), (3513, 0.0021343419158284006), (3514, 0.003650173836420406), (3515, 0.003266386334401819), (3516, 0.003520215653851545), (3517, 0.001229853422013486), (3518, 0.02139027300161377), (3519, 0.0), (3520, 0.0021896240567400517), (3521, 0.0032112414569873786), (3522, 0.0), (3523, 0.0014323246249090549), (3524, 0.004743143318026924), (3525, 0.0), (3526, 0.001055115672642211), (3527, 0.0010298135175377363), (3528, 0.008646431370009585), (3529, 0.0), (3530, 0.0), (3531, 0.0033193818675292894), (3532, 0.0), (3533, 0.0), (3534, 0.0019453569397499748), (3535, 0.006680515816455342), (3536, 0.004300455490431926), (3537, 0.0015228248867027272), (3538, 0.001055743794634766), (3539, 0.0), (3540, 0.0013377725660963715), (3541, 0.00710035780428943), (3542, 0.0010979014929387468), (3543, 0.0), (3544, 0.0012424247536901543), (3545, 0.0), (3546, 0.000977198254873155), (3547, 0.0), (3548, 0.000892268867783007), (3549, 0.0), (3550, 0.0), (3551, 0.001167022428318653), (3552, 0.06362787564235416), (3553, 0.008474188832772404), (3554, 0.0), (3555, 0.0021899601728417304), (3556, 0.01626694026896156), (3557, 0.0010499222620837397), (3558, 0.006520620804626518), (3559, 0.04578847395020345), (3560, 0.00126748212477052), (3561, 0.0014310280289000896), (3562, 0.0), (3563, 0.0011793692499738008), (3564, 0.0012972804177798958), (3565, 0.0011937076496738917), (3566, 0.003032840806814207), (3567, 0.0), (3568, 0.0), (3569, 0.0011004479008812082), (3570, 0.0031755599259600097), (3571, 0.003503990793264002), (3572, 0.05416760498356858), (3573, 0.0), (3574, 0.06187344738862871), (3575, 0.000996439920464918), (3576, 0.0019954976283879243), (3577, 0.001397741812766601), (3578, 0.0), (3579, 0.0036295337946698975), (3580, 0.0069604848947039995), (3581, 0.0), (3582, 0.00522678812700705), (3583, 0.002115279790158666), (3584, 0.002326677804361675), (3585, 0.0), (3586, 0.0035348474868672646), (3587, 0.0013221564306971157), (3588, 0.002255704014457339), (3589, 0.0), (3590, 0.0010251932503883168), (3591, 0.0), (3592, 0.0), (3593, 0.0012993384827366622), (3594, 0.002913413119801258), (3595, 0.0), (3596, 0.0042085763302579125), (3597, 0.01326788991137706), (3598, 0.002745073803800951), (3599, 0.004514521284020082), (3600, 0.0), (3601, 0.0011354824195180726), (3602, 0.002258516660590638), (3603, 0.0), (3604, 0.0023246941808949466), (3605, 0.051775112855779966), (3606, 0.001314516609930254), (3607, 0.0), (3608, 0.0006434757765539307), (3609, 0.0), (3610, 0.0), (3611, 0.0013251042648205408), (3612, 0.004690912340840574), (3613, 0.0012213032476530734), (3614, 0.0011489720057833118), (3615, 0.0009742192881030193), (3616, 0.00136217919299371), (3617, 0.0), (3618, 0.003464320871729807), (3619, 0.0019355500269009767), (3620, 0.0012892388520956148), (3621, 0.001300745092655087), (3622, 0.0), (3623, 0.003584455123926486), (3624, 0.0033361324055592905), (3625, 0.0), (3626, 0.0010233192019494118), (3627, 0.001172749670341732), (3628, 0.0), (3629, 0.001055533508674554), (3630, 0.0065578286660711365), (3631, 0.0), (3632, 0.00301808163375148), (3633, 0.0), (3634, 0.003909299826457508), (3635, 0.003684921784284749), (3636, 0.0011012718341337027), (3637, 0.005708954311974593), (3638, 0.003957416367236498), (3639, 0.0012977705251137198), (3640, 0.007344357907500871), (3641, 0.0012016898605685354), (3642, 0.0070747196508249), (3643, 0.0042987864001701355), (3644, 0.0), (3645, 0.0035458587719846175), (3646, 0.0011312193958467691), (3647, 0.0011088006119937502), (3648, 0.0032590705347781334), (3649, 0.0), (3650, 0.0), (3651, 0.0011191829555632874), (3652, 0.04364000117956528), (3653, 0.0034012708997851575), (3654, 0.0012658010189571926), (3655, 0.025578623594013805), (3656, 0.055423662603292775), (3657, 0.0010164169660327785), (3658, 0.003059446322548916), (3659, 0.00587583797057666), (3660, 0.006693146220031473), (3661, 0.0066269404456785206), (3662, 0.0), (3663, 0.0), (3664, 0.00205862869670103), (3665, 0.009854054809869338), (3666, 0.003081277512412707), (3667, 0.004565769938542229), (3668, 0.0009334329129576155), (3669, 0.0009904942154483583), (3670, 0.006702499993499417), (3671, 0.0), (3672, 0.0015592614834133882), (3673, 0.0012227925179483649), (3674, 0.005060735518611892), (3675, 0.006280236521665521), (3676, 0.0), (3677, 0.0012440468514178335), (3678, 0.0011577277146344656), (3679, 0.01650601797771404), (3680, 0.003264210014901795), (3681, 0.0), (3682, 0.0), (3683, 0.0), (3684, 0.013410134944382786), (3685, 0.0), (3686, 0.0), (3687, 0.0012064049562605338), (3688, 0.0), (3689, 0.004560951567293876), (3690, 0.0), (3691, 0.0011763815877813642), (3692, 0.010954909160322757), (3693, 0.0), (3694, 0.007288740565811087), (3695, 0.0), (3696, 0.0034776460383770715), (3697, 0.0), (3698, 0.0), (3699, 0.007362516792099947), (3700, 0.0), (3701, 0.001252441521969277), (3702, 0.0), (3703, 0.0), (3704, 0.003123598204726522), (3705, 0.003237391618251739), (3706, 0.0011317394466387612), (3707, 0.001042642117550904), (3708, 0.005383604163447554), (3709, 0.0), (3710, 0.002322731593835708), (3711, 0.013014188866769708), (3712, 0.0), (3713, 0.0064639587268828964), (3714, 0.0011490490906651578), (3715, 0.002462755948783182), (3716, 0.0), (3717, 0.0), (3718, 0.0), (3719, 0.0010989101172449748), (3720, 0.052737359987572896), (3721, 0.0025177105658976996), (3722, 0.0), (3723, 0.0019233661063720402), (3724, 0.0), (3725, 0.0012283754336985888), (3726, 0.0), (3727, 0.0032359066373572384), (3728, 0.025335754420903116), (3729, 0.0012107987981721156), (3730, 0.0), (3731, 0.05107811694446921), (3732, 0.0), (3733, 0.004325257999397804), (3734, 0.0030542453400558968), (3735, 0.0), (3736, 0.0), (3737, 0.001296020772800522), (3738, 0.0), (3739, 0.0012353516494372952), (3740, 0.0), (3741, 0.006599157590345485), (3742, 0.0011068575931949937), (3743, 0.0), (3744, 0.002402455973516152), (3745, 0.0013639869116623292), (3746, 0.0), (3747, 0.005479121654886346), (3748, 0.0026711079970945), (3749, 0.0011644743463808667), (3750, 0.006491052291144026), (3751, 0.049379877090086226), (3752, 0.002586393201112621), (3753, 0.08176046791850768), (3754, 0.0012119418868398327), (3755, 0.0009909964389405374), (3756, 0.005934553085263362), (3757, 0.0012522888644242512), (3758, 0.0), (3759, 0.0), (3760, 0.0), (3761, 0.0), (3762, 0.001291095802859101), (3763, 0.001323524801834145), (3764, 0.0), (3765, 0.0012188734697403062), (3766, 0.007509435617945441), (3767, 0.044483909784625936), (3768, 0.00526338059318793), (3769, 0.0022908215601517594), (3770, 0.0011917539967296698), (3771, 0.0036829060438415846), (3772, 0.0012580911059178652), (3773, 0.0), (3774, 0.0024090502688133134), (3775, 0.005398188254617088), (3776, 0.0018112999996238498), (3777, 0.006896834659302678), (3778, 0.010030387116524188), (3779, 0.08878027693879874), (3780, 0.0035529286154970204), (3781, 0.001191233536619663), (3782, 0.00235065208682846), (3783, 0.0), (3784, 0.004044295642816285), (3785, 0.0), (3786, 0.0), (3787, 0.0021963244938491976), (3788, 0.0018649831805384643), (3789, 0.0), (3790, 0.0), (3791, 0.0), (3792, 0.001245720659640011), (3793, 0.07597844386461733), (3794, 0.005449711396078792), (3795, 0.0010397296210952363), (3796, 0.0), (3797, 0.007296045009601071), (3798, 0.0), (3799, 0.001014253681106032), (3800, 0.0), (3801, 0.012606090285382648), (3802, 0.002016259458062297), (3803, 0.0), (3804, 0.0011935362958347554), (3805, 0.0), (3806, 0.0017267208630159393), (3807, 0.007557253506799067), (3808, 0.0), (3809, 0.0011441046406668847), (3810, 0.010310241294679898), (3811, 0.0011583581744133672), (3812, 0.0), (3813, 0.0011421973019909175), (3814, 0.0020839795422615912), (3815, 0.0020579958214108356), (3816, 0.0), (3817, 0.0), (3818, 0.0), (3819, 0.006670787551037952), (3820, 0.0), (3821, 0.0035114501194921256), (3822, 0.004555325819840654), (3823, 0.00212653459778397), (3824, 0.0019196611485293971), (3825, 0.002740322391457921), (3826, 0.004360770850065636), (3827, 0.0009319369148244125), (3828, 0.007157525565980259), (3829, 0.0044415798961957515), (3830, 0.0), (3831, 0.0), (3832, 0.0012172038633620228), (3833, 0.0021134342055776838), (3834, 0.0), (3835, 0.010044618282265603), (3836, 0.0), (3837, 0.0), (3838, 0.0), (3839, 0.010585835043774406), (3840, 0.0), (3841, 0.0031295856434921778), (3842, 0.0029027783772278266), (3843, 0.0), (3844, 0.0022999473430299487), (3845, 0.0012411335906505362), (3846, 0.0), (3847, 0.0), (3848, 0.0012190477205236308), (3849, 0.005612080278577182), (3850, 0.05588448040516969), (3851, 0.0), (3852, 0.04774868501507261), (3853, 0.008939891449595358), (3854, 0.05052960889863277), (3855, 0.001078069866333849), (3856, 0.0), (3857, 0.008668234359505063), (3858, 0.0), (3859, 0.0), (3860, 0.005258399258272491), (3861, 0.006656400211178753), (3862, 0.007505477446937674), (3863, 0.0010982800901247652), (3864, 0.0030377754404172915), (3865, 0.00300645173320982), (3866, 0.0013167543338599862), (3867, 0.001264972059660773), (3868, 0.04626166864451654), (3869, 0.0), (3870, 0.0), (3871, 0.051119404640177404), (3872, 0.0), (3873, 0.0012433125908764106), (3874, 0.0012440287726316719), (3875, 0.009466686305983242), (3876, 0.003386462241551036), (3877, 0.0013116348531140673), (3878, 0.0014720514446683668), (3879, 0.0), (3880, 0.0037232583173233682), (3881, 0.002239931564635364), (3882, 0.001268486235523912), (3883, 0.006719795575605517), (3884, 0.0011327104605254766), (3885, 0.0), (3886, 0.002035162326094205), (3887, 0.0), (3888, 0.004757486732267137), (3889, 0.001134984034019102), (3890, 0.001143235635747057), (3891, 0.0), (3892, 0.0012645240196456945), (3893, 0.0012528203121607876), (3894, 0.001100246382031549), (3895, 0.007788493975587097), (3896, 0.0), (3897, 0.0022842335907360986), (3898, 0.000953640116256377), (3899, 0.003276969853282152), (3900, 0.0010631593641610361), (3901, 0.003672606953552205), (3902, 0.0011912814532755236), (3903, 0.004896944373602165), (3904, 0.04286223149413435), (3905, 0.0036386150632100565), (3906, 0.0012063058240136962), (3907, 0.0022005302942758485), (3908, 0.0020034703982365), (3909, 0.002855173497457094), (3910, 0.003038401709593311), (3911, 0.0014207541648852632), (3912, 0.0), (3913, 0.0414400275151547), (3914, 0.0), (3915, 0.0013355470260012112), (3916, 0.0), (3917, 0.0010272553513946884), (3918, 0.0), (3919, 0.004531031890640469), (3920, 0.0011381088876610797), (3921, 0.0), (3922, 0.0012425601683678012), (3923, 0.04139692697500694), (3924, 0.004651812081054012), (3925, 0.0014903233844339185), (3926, 0.0032304013762014215), (3927, 0.00878898086519737), (3928, 0.0008864308852316089), (3929, 0.0), (3930, 0.0), (3931, 0.0), (3932, 0.00228325201069039), (3933, 0.0), (3934, 0.008781227446315654), (3935, 0.0013542599346812562), (3936, 0.0), (3937, 0.0), (3938, 0.0022185316889641146), (3939, 0.00124305466111378), (3940, 0.0026375699268599553), (3941, 0.0045300895923564375), (3942, 0.0022666335078175026), (3943, 0.0), (3944, 0.0017185360219813888), (3945, 0.03283252513305729), (3946, 0.03153059109252051), (3947, 0.055441911062948504), (3948, 0.0), (3949, 0.003924324572686365), (3950, 0.0), (3951, 0.004281022337626805), (3952, 0.0011257633824062964), (3953, 0.0010951467790313286), (3954, 0.004270176366992475), (3955, 0.018780302998608417), (3956, 0.00429321072879171), (3957, 0.005459503570080369), (3958, 0.006251745676348216), (3959, 0.012570279106944506), (3960, 0.0038780978835587683), (3961, 0.01530830675183285), (3962, 0.0011670020393344319), (3963, 0.0), (3964, 0.0), (3965, 0.0), (3966, 0.0020821949772008223), (3967, 0.0012593106673380557), (3968, 0.0), (3969, 0.0), (3970, 0.0021244313707887226), (3971, 0.0), (3972, 0.0), (3973, 0.017670906149004302), (3974, 0.02252747577454735), (3975, 0.0023648138896525256), (3976, 0.007178344851285725), (3977, 0.0), (3978, 0.010012941815992236), (3979, 0.0), (3980, 0.0), (3981, 0.0), (3982, 0.0), (3983, 0.060182814197130244), (3984, 0.004576584324216994), (3985, 0.0), (3986, 0.0010161970154697164), (3987, 0.001210358835423591), (3988, 0.0), (3989, 0.0018837984430447512), (3990, 0.0013172437559411283), (3991, 0.0), (3992, 0.004540664438442057), (3993, 0.005307033309362157), (3994, 0.0), (3995, 0.0021429272221067655), (3996, 0.0), (3997, 0.0023312135132715316), (3998, 0.003120990990258862), (3999, 0.004708804055732366), (4000, 0.006606413754586477), (4001, 0.003390268290337146), (4002, 0.0011963703661141663), (4003, 0.0), (4004, 0.014039763804334575), (4005, 0.05657862917872046), (4006, 0.0), (4007, 0.008314597911146481), (4008, 0.0034446934557168566), (4009, 0.00278623478770961), (4010, 0.0), (4011, 0.0011084909038070196), (4012, 0.00924455075155073), (4013, 0.003112707627730662), (4014, 0.0009691907053273823), (4015, 0.001150659208599019), (4016, 0.009606245006106063), (4017, 0.0013908931347103156), (4018, 0.0), (4019, 0.001356444068483821), (4020, 0.0011835846611534114), (4021, 0.0), (4022, 0.0), (4023, 0.017847986171623528), (4024, 0.0011363751645201467), (4025, 0.00435711586892658), (4026, 0.0), (4027, 0.0), (4028, 0.007535581977288637), (4029, 0.0), (4030, 0.001132105807793271), (4031, 0.0), (4032, 0.004931416232429511), (4033, 0.004700458208077393), (4034, 0.0), (4035, 0.05090674720350084), (4036, 0.0012583347414534352), (4037, 0.0), (4038, 0.003695455199942634), (4039, 0.002258869462075645), (4040, 0.0), (4041, 0.0), (4042, 0.0011290585661999457), (4043, 0.002029533806561036), (4044, 0.001909187327245794), (4045, 0.003597646055887432), (4046, 0.0036353070649636533), (4047, 0.0022870109737800205), (4048, 0.004183188141080945), (4049, 0.0011878452686255262), (4050, 0.009503029219265538), (4051, 0.0013022789445357433), (4052, 0.004254265122618648), (4053, 0.011705812712015099), (4054, 0.001247877741133391), (4055, 0.002971443760226972), (4056, 0.0011757919442768813), (4057, 0.0025093956334372126), (4058, 0.0), (4059, 0.0010922561565762999), (4060, 0.0038976312167490817), (4061, 0.003224799597834186), (4062, 0.02459854689176972), (4063, 0.0), (4064, 0.0), (4065, 0.0), (4066, 0.0010263215746200518), (4067, 0.0), (4068, 0.006662829199910021), (4069, 0.0011968089405522799), (4070, 0.0), (4071, 0.0020698813677604406), (4072, 0.0), (4073, 0.0), (4074, 0.0011134971476631042), (4075, 0.0012707278470689583), (4076, 0.0024677819506596843), (4077, 0.003559553819441375), (4078, 0.0), (4079, 0.0010446864557181906), (4080, 0.000969686556793172), (4081, 0.008175018776692675), (4082, 0.0015276256260676924), (4083, 0.0012868410778897263), (4084, 0.0), (4085, 0.0011288415005933962), (4086, 0.0), (4087, 0.001203097969015553), (4088, 0.009596272295568958), (4089, 0.00363407072667946), (4090, 0.0023742195404220542), (4091, 0.002229607102813613), (4092, 0.003168508253673613), (4093, 0.003729426227596004), (4094, 0.003280668653798611), (4095, 0.005758315258299609), (4096, 0.004967223333203209), (4097, 0.0), (4098, 0.003495406768441524), (4099, 0.0032450063683296224), (4100, 0.0), (4101, 0.0013162635395793437), (4102, 0.0013518573467229068), (4103, 0.002321161634861248), (4104, 0.04948245933018804), (4105, 0.0038407503871598888), (4106, 0.004954340609929978), (4107, 0.0013963627922082714), (4108, 0.0), (4109, 0.0), (4110, 0.0030413667848664004), (4111, 0.0011516222495368941), (4112, 0.0), (4113, 0.0013740941307588952), (4114, 0.0), (4115, 0.0), (4116, 0.05638474948679337), (4117, 0.0012899247185543914), (4118, 0.003258085613844706), (4119, 0.0023699376664416804), (4120, 0.0022284220150053965), (4121, 0.006314181183092976), (4122, 0.003854492861684809), (4123, 0.007355967977690579), (4124, 0.006715138765546584), (4125, 0.0), (4126, 0.0011331846372309247), (4127, 0.0), (4128, 0.04326368542476417), (4129, 0.0011475461211899098), (4130, 0.0013353771096149612), (4131, 0.0), (4132, 0.0013233229635214575), (4133, 0.0031842749966900816), (4134, 0.007811936445905304), (4135, 0.0012725496398077634), (4136, 0.001176547202509787), (4137, 0.07599432543071215), (4138, 0.0011790429182715488), (4139, 0.0012710443719659262), (4140, 0.0012635011541754916), (4141, 0.013042228822342398), (4142, 0.0020658154846325298), (4143, 0.0012710971407306865), (4144, 0.0), (4145, 0.0012441406336271173), (4146, 0.0), (4147, 0.0013055785372535925), (4148, 0.005311731546227598), (4149, 0.007843211266794402), (4150, 0.0), (4151, 0.0018163726003439821), (4152, 0.0012538093252058887), (4153, 0.0), (4154, 0.0035096721102083357), (4155, 0.0011643277746151894), (4156, 0.009118995963100875), (4157, 0.0), (4158, 0.004763954944204228), (4159, 0.0), (4160, 0.001171807858951888), (4161, 0.0011175083183940246), (4162, 0.0023157484572227743), (4163, 0.0032853337696123874), (4164, 0.0050644817993021965), (4165, 0.05272128875696361), (4166, 0.0), (4167, 0.0), (4168, 0.0), (4169, 0.00118981843983236), (4170, 0.0), (4171, 0.0008615840038457435), (4172, 0.001343949435464739), (4173, 0.0), (4174, 0.00118452535297085), (4175, 0.001194222710339495), (4176, 0.009958988320222507), (4177, 0.012166824510064898), (4178, 0.007173821087426443), (4179, 0.0), (4180, 0.0), (4181, 0.0), (4182, 0.0036384885332975936), (4183, 0.0011492811774893523), (4184, 0.00326350517498122), (4185, 0.0), (4186, 0.0), (4187, 0.00514115208879626), (4188, 0.0), (4189, 0.009845561732078921), (4190, 0.0), (4191, 0.0), (4192, 0.004628036066348271), (4193, 0.001846761593778916), (4194, 0.0), (4195, 0.0), (4196, 0.003364626693005213), (4197, 0.0012470640896074477), (4198, 0.0), (4199, 0.0), (4200, 0.0010934046125368722), (4201, 0.0), (4202, 0.0013688667242330824), (4203, 0.007993112723539432), (4204, 0.0), (4205, 0.00414357408755346), (4206, 0.0011566221563921737), (4207, 0.0), (4208, 0.0024394016522726056), (4209, 0.0012308118558540448), (4210, 0.003190659613351186), (4211, 0.002232716857621105), (4212, 0.0), (4213, 0.0009857407200859782), (4214, 0.0), (4215, 0.0), (4216, 0.005416267468453245), (4217, 0.0028918942409747587), (4218, 0.0), (4219, 0.0022939107280463326), (4220, 0.0010491880151024926), (4221, 0.0012741347123311133), (4222, 0.0013090065026689884), (4223, 0.0), (4224, 0.0), (4225, 0.0010935179515792085), (4226, 0.00298805852807934), (4227, 0.005615024079887472), (4228, 0.0009383724252868822), (4229, 0.0), (4230, 0.0012449007262566878), (4231, 0.0060254483819425185), (4232, 0.0038183204773911362), (4233, 0.003514880671031588), (4234, 0.0), (4235, 0.004857138764942021), (4236, 0.0027148208165656915), (4237, 0.0), (4238, 0.0), (4239, 0.0), (4240, 0.0023319152605944583), (4241, 0.0), (4242, 0.011119273356586391), (4243, 0.0011242276506476332), (4244, 0.006759631070600242), (4245, 0.0012651366770707858), (4246, 0.007607271806128148), (4247, 0.0010396819861223678), (4248, 0.0022097697553928914), (4249, 0.0032564735161537636), (4250, 0.0), (4251, 0.0020350347866731917), (4252, 0.02861513831720705), (4253, 0.0), (4254, 0.0009605718095025913), (4255, 0.006457366990416666), (4256, 0.0), (4257, 0.004633684610878435), (4258, 0.0), (4259, 0.0012202019479464177), (4260, 0.0), (4261, 0.0026274567825254973), (4262, 0.0011820119894539072), (4263, 0.0012595795705241202), (4264, 0.001982905768275003), (4265, 0.005511347244031342), (4266, 0.001083179331814516), (4267, 0.0013425529388303185), (4268, 0.02172078800543307), (4269, 0.0011607629754620305), (4270, 0.0), (4271, 0.0), (4272, 0.002831928671484225), (4273, 0.0011548261689224553), (4274, 0.00203897008466411), (4275, 0.0022017745414019013), (4276, 0.0), (4277, 0.0010797307969539697), (4278, 0.0), (4279, 0.0), (4280, 0.001325663574417339), (4281, 0.009958472805743059), (4282, 0.0032110504312893003), (4283, 0.012773822968154599), (4284, 0.0032367347347117903), (4285, 0.0021460696070668642), (4286, 0.0012086410573372702), (4287, 0.0011228353837713344), (4288, 0.009140400782904581), (4289, 0.0033695773985530563), (4290, 0.0019486341760366747), (4291, 0.0), (4292, 0.0018935165541075342), (4293, 0.004498867689974253), (4294, 0.0), (4295, 0.0012485894329901897), (4296, 0.0009348072140654147), (4297, 0.0), (4298, 0.0012310808232911124), (4299, 0.0033055341490854885), (4300, 0.0), (4301, 0.0007367846206952972), (4302, 0.0), (4303, 0.0031949220018624475), (4304, 0.0010931857846120327), (4305, 0.0), (4306, 0.0013126024243339449), (4307, 0.0022081988234417004), (4308, 0.0011375739805501372), (4309, 0.003179999582365124), (4310, 0.0019851232433045107), (4311, 0.0008087602140977656), (4312, 0.0022129676645157264), (4313, 0.0), (4314, 0.006989528394250579), (4315, 0.0), (4316, 0.0), (4317, 0.0), (4318, 0.0010821423066167627), (4319, 0.0), (4320, 0.0011154377127833037), (4321, 0.008871235086199908), (4322, 0.0019104591602053852), (4323, 0.0), (4324, 0.0), (4325, 0.00530045847878291), (4326, 0.001023203764148555), (4327, 0.0), (4328, 0.0021491608176361816), (4329, 0.0), (4330, 0.0011212264425053946), (4331, 0.0021821525530135778), (4332, 0.0), (4333, 0.0012613657021461164), (4334, 0.0011766241797677693), (4335, 0.0037880759004887284), (4336, 0.0041180028800953065), (4337, 0.005285795794322234), (4338, 0.0), (4339, 0.001948647812739784), (4340, 0.0011576127595635708), (4341, 0.0), (4342, 0.002616126881051116), (4343, 0.0009568631265527051), (4344, 0.006148727610082869), (4345, 0.0011659062809195558), (4346, 0.0), (4347, 0.0), (4348, 0.001040377898037642), (4349, 0.008188815197855933), (4350, 0.001136721495264951), (4351, 0.0031787857836239448), (4352, 0.0), (4353, 0.0), (4354, 0.0011689795078502908), (4355, 0.0013132023669500505), (4356, 0.0012223111452370897), (4357, 0.0011480955994044493), (4358, 0.0), (4359, 0.001081243809915868), (4360, 0.002138225479818143), (4361, 0.0010621769164827735), (4362, 0.016050217224371662), (4363, 0.0011527708849965038), (4364, 0.0), (4365, 0.002151032891770627), (4366, 0.004786915338226329), (4367, 0.0030970562380356575), (4368, 0.0012035358333908313), (4369, 0.0012186963640845876), (4370, 0.0), (4371, 0.0044791493250003825), (4372, 0.0), (4373, 0.002412119286646237), (4374, 0.0064081536572749296), (4375, 0.044484210272205574), (4376, 0.0022335892204196606), (4377, 0.0022004182101624044), (4378, 0.020418873881694784), (4379, 0.007251099336278913), (4380, 0.008484733352585904), (4381, 0.0011260189007065878), (4382, 0.009373571125146748), (4383, 0.002077373603437986), (4384, 0.0022119113379446774), (4385, 0.0027016914341765784), (4386, 0.0010071412675702349), (4387, 0.006556244634487285), (4388, 0.00325975321777604), (4389, 0.10011422687299674), (4390, 0.0030258816665567744), (4391, 0.0010460895109518592), (4392, 0.002259337558222205), (4393, 0.0), (4394, 0.0011627810304427216), (4395, 0.01004912232753882), (4396, 0.01662342228765878), (4397, 0.0012719949977706344), (4398, 0.008994726369980277), (4399, 0.00820701017973063), (4400, 0.0012447828506306719), (4401, 0.0012636967365055832), (4402, 0.05133538993304508), (4403, 0.01683110606652351), (4404, 0.0), (4405, 0.0), (4406, 0.0), (4407, 0.001461108583206534), (4408, 0.0), (4409, 0.0010646572261294588), (4410, 0.0), (4411, 0.0010676639260997869), (4412, 0.0036592034535972754), (4413, 0.0), (4414, 0.0), (4415, 0.0), (4416, 0.0012357839973496942), (4417, 0.0), (4418, 0.0012964041889790298), (4419, 0.0010419050134103291), (4420, 0.0012876362716606163), (4421, 0.0), (4422, 0.0011635659859822844), (4423, 0.0013074504978294408), (4424, 0.0), (4425, 0.0), (4426, 0.0017617607975553523), (4427, 0.0011457541925560455), (4428, 0.0012950124043565718), (4429, 0.0010183205959554882), (4430, 0.0033756688658749074), (4431, 0.0030676949116835396), (4432, 0.0030554446853123594), (4433, 0.0), (4434, 0.0), (4435, 0.004692438689180928), (4436, 0.008350594679449725), (4437, 0.0), (4438, 0.0020612417704409377), (4439, 0.0), (4440, 0.007182517268227209), (4441, 0.0019882210813655754), (4442, 0.004552180436989418), (4443, 0.05240700829175728), (4444, 0.0037629892216234184), (4445, 0.0008903598312785326), (4446, 0.001297361163712505), (4447, 0.0), (4448, 0.0011615251454748499), (4449, 0.0), (4450, 0.012980314985480045), (4451, 0.0), (4452, 0.0), (4453, 0.0), (4454, 0.0), (4455, 0.0), (4456, 0.02017883243229979), (4457, 0.0), (4458, 0.0011853145989362606), (4459, 0.003082997364668363), (4460, 0.0), (4461, 0.00102807663020968), (4462, 0.002422258801255769), (4463, 0.0), (4464, 0.0024051244553137834), (4465, 0.008539876280506708), (4466, 0.009309384901668513), (4467, 0.003015723674508971), (4468, 0.001987237075578934), (4469, 0.004428479954444841), (4470, 0.0034404330655946856), (4471, 0.0012466260574963712), (4472, 0.0011289921027209857), (4473, 0.0010926741493775566), (4474, 0.006522810080722777), (4475, 0.006003159206058784), (4476, 0.0009944483451674365), (4477, 0.004810258523622089), (4478, 0.0), (4479, 0.001180713847109344), (4480, 0.0), (4481, 0.005778613977154047), (4482, 0.00694734196388699), (4483, 0.0), (4484, 0.0013916339969665377), (4485, 0.0), (4486, 0.006424357847418631), (4487, 0.0011637821870532647), (4488, 0.07115508809026713), (4489, 0.0012547970635336436), (4490, 0.003534405325071541), (4491, 0.0), (4492, 0.009266859382907746), (4493, 0.0), (4494, 0.0037466423576233486), (4495, 0.0013018902322700276), (4496, 0.0), (4497, 0.0011535763592884275), (4498, 0.0), (4499, 0.0), (4500, 0.0), (4501, 0.001161543616006065), (4502, 0.004247106646130577), (4503, 0.0066448255547073894), (4504, 0.008058178674715746), (4505, 0.0011359581716235577), (4506, 0.0), (4507, 0.0011922747334308984), (4508, 0.0), (4509, 0.0), (4510, 0.005667021046311513), (4511, 0.00399690671353428), (4512, 0.0051637845877460006), (4513, 0.001749652881917898), (4514, 0.002034983185833867), (4515, 0.0020670067333383936), (4516, 0.00125563005402028), (4517, 0.0033318222992773407), (4518, 0.002343595297873564), (4519, 0.0), (4520, 0.0011324760312047496), (4521, 0.00121410969750901), (4522, 0.002957686589496721), (4523, 0.0036159090235842522), (4524, 0.005608888210527267), (4525, 0.0), (4526, 0.0), (4527, 0.002336102940449582), (4528, 0.001147244634892422), (4529, 0.0014201361038536748), (4530, 0.0012228861484977292), (4531, 0.007529973650252838), (4532, 0.0), (4533, 0.049374583488468904), (4534, 0.0097963065901529), (4535, 0.001318217138417115), (4536, 0.0010833800645111327), (4537, 0.0022294157688630832), (4538, 0.0), (4539, 0.0), (4540, 0.0010028008465717286), (4541, 0.0), (4542, 0.0), (4543, 0.004856872261940801), (4544, 0.0012478359236923109), (4545, 0.001196460631696755), (4546, 0.003928051826445432), (4547, 0.0), (4548, 0.001909846363826983), (4549, 0.0), (4550, 0.0012577461618565185), (4551, 0.004734172715000406), (4552, 0.002196761885798013), (4553, 0.0047816201466151075), (4554, 0.01081150359568874), (4555, 0.0017548002198791493), (4556, 0.0), (4557, 0.003673386526740625), (4558, 0.0), (4559, 0.0), (4560, 0.0), (4561, 0.0), (4562, 0.0), (4563, 0.0011851752492634709), (4564, 0.0030577828456702814), (4565, 0.0), (4566, 0.0012222396941678167), (4567, 0.001107328534591292), (4568, 0.0), (4569, 0.0), (4570, 0.0), (4571, 0.0015015135059090734), (4572, 0.0012495456883693857), (4573, 0.0009838087411761568), (4574, 0.0012601721432725934), (4575, 0.001216668172882123), (4576, 0.006619058985655568), (4577, 0.0), (4578, 0.0), (4579, 0.003083817513142866), (4580, 0.0), (4581, 0.003426598745376445), (4582, 0.0019293054723014673), (4583, 0.0070833841704851675), (4584, 0.0013135336178411471), (4585, 0.0020152811897493584), (4586, 0.0020792182370914995), (4587, 0.0019104997022276634), (4588, 0.07235683295850938), (4589, 0.0012158504024936225), (4590, 0.05034046148223645), (4591, 0.0033167366809061316), (4592, 0.0), (4593, 0.003267463656342676), (4594, 0.0011900887327086177), (4595, 0.0021674420965035954), (4596, 0.005681164880883104), (4597, 0.0), (4598, 0.0010171815413111077), (4599, 0.0), (4600, 0.0), (4601, 0.003536686159900648), (4602, 0.05480856814049267), (4603, 0.003664150386399862), (4604, 0.0010689443264557837), (4605, 0.004762354334008804), (4606, 0.0013249445716837715), (4607, 0.0016120502750993201), (4608, 0.03819340786895929), (4609, 0.0), (4610, 0.006351388141032855), (4611, 0.001288606446962497), (4612, 0.004013265631104176), (4613, 0.0), (4614, 0.045999625069154636), (4615, 0.0), (4616, 0.0009637352855400698), (4617, 0.005002608315130461), (4618, 0.0), (4619, 0.0045050011570608095), (4620, 0.0010880252001048316), (4621, 0.0021837195261235373), (4622, 0.0), (4623, 0.005289529497330801), (4624, 0.0036640890449791312), (4625, 0.0011644017595245854), (4626, 0.0009330687308527025), (4627, 0.007662676734955525), (4628, 0.0), (4629, 0.00316481008192652), (4630, 0.0022131467465635905), (4631, 0.0), (4632, 0.001165484012803818), (4633, 0.0013884919557382157), (4634, 0.001138134007485039), (4635, 0.0), (4636, 0.00095088734043794), (4637, 0.007105587222230477), (4638, 0.0010659225677338647), (4639, 0.0022592296654672323), (4640, 0.008877589018377373), (4641, 0.01645369065383769), (4642, 0.002213122429126107), (4643, 0.00112983479113234), (4644, 0.0), (4645, 0.0), (4646, 0.0024233856472829682), (4647, 0.0), (4648, 0.0), (4649, 0.003998944806341471), (4650, 0.0012962630097490184), (4651, 0.0), (4652, 0.0037574169650045784), (4653, 0.0024608578636960824), (4654, 0.0), (4655, 0.0), (4656, 0.003241889518890227), (4657, 0.001164458960372699), (4658, 0.009828981620192512), (4659, 0.04266506088741343), (4660, 0.0037340312480346983), (4661, 0.003093626676157221), (4662, 0.0), (4663, 0.0033977049749526786), (4664, 0.004411337074315451), (4665, 0.001907873678141376), (4666, 0.002329998608262887), (4667, 0.0), (4668, 0.04605476572791852), (4669, 0.007050984031312732), (4670, 0.003088166716022373), (4671, 0.0), (4672, 0.0), (4673, 0.006307419361735091), (4674, 0.002460926490814863), (4675, 0.0), (4676, 0.0), (4677, 0.0034211877010241745), (4678, 0.0022492069315719976), (4679, 0.009879666857254842), (4680, 0.0012233836276430692), (4681, 0.0), (4682, 0.062579275022834), (4683, 0.0), (4684, 0.012715127831736122), (4685, 0.003999920977691859), (4686, 0.001156869957332267), (4687, 0.0011379406878019775), (4688, 0.0), (4689, 0.02104394107453088), (4690, 0.0), (4691, 0.0024447305408784514), (4692, 0.0012960820461241547), (4693, 0.0009725100001547724), (4694, 0.0012344709797261582), (4695, 0.005086700718180441), (4696, 0.0013003795936505458), (4697, 0.0020051508038594302), (4698, 0.002085327084038454), (4699, 0.0033568272906879288), (4700, 0.0), (4701, 0.011171095320197997), (4702, 0.0), (4703, 0.06091303241611792), (4704, 0.001356121757591352), (4705, 0.001533091095813653), (4706, 0.0010549403101472636), (4707, 0.00343026085816126), (4708, 0.002081837485608571), (4709, 0.006293163968887881), (4710, 0.0035510576385158693), (4711, 0.0), (4712, 0.0010725967870938383), (4713, 0.0011445587990233244), (4714, 0.0), (4715, 0.0032840825572237895), (4716, 0.0), (4717, 0.0012534965759199413), (4718, 0.0010873199669535023), (4719, 0.0034345099346677344), (4720, 0.0), (4721, 0.0579853829428208), (4722, 0.008057042755098833), (4723, 0.0011889925696306647), (4724, 0.006710738440643892), (4725, 0.0), (4726, 0.002531647341990679), (4727, 0.04550047643615515), (4728, 0.0), (4729, 0.0009405602429310765), (4730, 0.0), (4731, 0.010861846417546256), (4732, 0.0012146322005865784), (4733, 0.002839454507297788), (4734, 0.0010553275640514865), (4735, 0.006653526753963088), (4736, 0.0), (4737, 0.0), (4738, 0.003042222888569544), (4739, 0.023083259320069462), (4740, 0.0), (4741, 0.0), (4742, 0.0), (4743, 0.0010669778186750965), (4744, 0.0008373842814762516), (4745, 0.0), (4746, 0.0020454635287902355), (4747, 0.005360391451474423), (4748, 0.0038981075453517248), (4749, 0.0012863512274899117), (4750, 0.0), (4751, 0.0), (4752, 0.0008294626907060828), (4753, 0.001312393936113173), (4754, 0.0), (4755, 0.0), (4756, 0.0011004218973168745), (4757, 0.003517022667790644), (4758, 0.0), (4759, 0.0)]\n"
          ]
        }
      ]
    },
    {
      "cell_type": "code",
      "source": [
        "len(Recommendation_Score)"
      ],
      "metadata": {
        "colab": {
          "base_uri": "https://localhost:8080/"
        },
        "id": "kqr9xAsJyYRa",
        "outputId": "7d3c5324-d34f-4065-a421-3e8f2cfe3525"
      },
      "execution_count": 40,
      "outputs": [
        {
          "output_type": "execute_result",
          "data": {
            "text/plain": [
              "4760"
            ]
          },
          "metadata": {},
          "execution_count": 40
        }
      ]
    },
    {
      "cell_type": "code",
      "source": [
        "sorted_similar_movies=sorted(Recommendation_Score,key=lambda x:x[1],reverse=True)\n",
        "print(sorted_similar_movies)"
      ],
      "metadata": {
        "colab": {
          "base_uri": "https://localhost:8080/"
        },
        "id": "Fupe7_knycTD",
        "outputId": "25603664-cdbc-4dd5-d3f6-e1e1b9c0988e"
      },
      "execution_count": 41,
      "outputs": [
        {
          "output_type": "stream",
          "name": "stdout",
          "text": [
            "[(2692, 1.0000000000000002), (3276, 0.18885212832278617), (1647, 0.16710523209724176), (110, 0.15606391710871428), (3053, 0.14772132835171273), (1977, 0.13943549782430106), (1886, 0.12775794201551902), (3248, 0.10211566382263289), (1021, 0.1017064349259572), (4389, 0.10011422687299674), (3385, 0.09955808923275619), (254, 0.0932518717137873), (1102, 0.09140377163800534), (3462, 0.09078241854572375), (1982, 0.08893300146384893), (3779, 0.08878027693879874), (2112, 0.0860399200283427), (1994, 0.08525681046650467), (3480, 0.0839798967177449), (3753, 0.08176046791850768), (1809, 0.08109325462574694), (2893, 0.080670946913126), (3427, 0.080353126997115), (1383, 0.08003837829685134), (2318, 0.07958283631159382), (2630, 0.07919576705817641), (479, 0.07817075235365212), (615, 0.07714537772458528), (2579, 0.07677799186872054), (3023, 0.07629714225998813), (4137, 0.07599432543071215), (3793, 0.07597844386461733), (3203, 0.07476681027537194), (185, 0.07412077960056895), (1085, 0.07408982945758973), (408, 0.07286630327980333), (4588, 0.07235683295850938), (637, 0.07201923661746776), (3408, 0.07160041504442492), (1118, 0.07135014516169284), (4488, 0.07115508809026713), (3465, 0.06872714394618552), (84, 0.06869616094918114), (632, 0.06817770401889627), (1134, 0.06603668678187039), (3552, 0.06362787564235416), (421, 0.06322630521912286), (4682, 0.062579275022834), (2944, 0.062143023928085746), (3574, 0.06187344738862871), (2294, 0.06110027118721092), (4703, 0.06091303241611792), (1030, 0.06059879408965188), (3983, 0.060182814197130244), (89, 0.0590330660728482), (2365, 0.05823791287549542), (4721, 0.0579853829428208), (904, 0.05766488902163568), (3470, 0.05725781955025976), (682, 0.05725583384823583), (1024, 0.05707975362027471), (4005, 0.05657862917872046), (1358, 0.056463745185418725), (455, 0.0563919534892137), (4116, 0.05638474948679337), (384, 0.056143737074059244), (3850, 0.05588448040516969), (1885, 0.05586571324247816), (2981, 0.055859786329676045), (2710, 0.05585894019553771), (2316, 0.05552369067594693), (3947, 0.055441911062948504), (3656, 0.055423662603292775), (2782, 0.05503581797740747), (4602, 0.05480856814049267), (1195, 0.05470854185709284), (618, 0.05429892560237314), (3572, 0.05416760498356858), (2413, 0.05367989319087796), (2723, 0.053669897269875574), (430, 0.053397590263232986), (174, 0.05326048802587749), (2212, 0.05315227405170626), (519, 0.05299086360983773), (2517, 0.052816181447514474), (3330, 0.052786435907111184), (788, 0.05276800690003826), (3720, 0.052737359987572896), (4165, 0.05272128875696361), (1059, 0.052575260581941806), (4443, 0.05240700829175728), (3004, 0.05231581612294179), (3255, 0.05229123962043021), (3362, 0.05213135319147505), (593, 0.05179909261438472), (3605, 0.051775112855779966), (250, 0.05161112205460647), (721, 0.05134403977065911), (4402, 0.05133538993304508), (3871, 0.051119404640177404), (1720, 0.05108966889031431), (3731, 0.05107811694446921), (2082, 0.051045465599377345), (4035, 0.05090674720350084), (1999, 0.050852600725715714), (424, 0.05084045509099878), (3854, 0.05052960889863277), (4590, 0.05034046148223645), (2920, 0.050148108865049265), (240, 0.049821967136735784), (2102, 0.049809166473774424), (1976, 0.049568840567074945), (1146, 0.04955438516839313), (4104, 0.04948245933018804), (812, 0.04943846321378252), (3751, 0.049379877090086226), (4533, 0.049374583488468904), (2718, 0.049265124717212075), (3167, 0.04922297080447376), (3260, 0.049172935487833205), (1241, 0.04916154775792427), (284, 0.04911560975639876), (210, 0.04910329975579378), (1063, 0.0491025458551484), (3428, 0.04898157763080008), (1990, 0.04897268928783974), (1675, 0.04873838289555078), (3146, 0.04868732946319958), (2868, 0.04848641681792904), (1398, 0.04783650873381591), (3852, 0.04774868501507261), (2887, 0.047642969277438656), (459, 0.04756213304217662), (2467, 0.0470628227557403), (138, 0.04705826097237901), (45, 0.04701468886846363), (2198, 0.04693967425639266), (176, 0.046901658540654784), (1351, 0.0467894311116091), (1369, 0.04676466570584653), (3017, 0.046674901628993175), (885, 0.04659034809611401), (1186, 0.046428968278845746), (1757, 0.04630158337386679), (3868, 0.04626166864451654), (903, 0.04623432685335844), (4668, 0.04605476572791852), (4614, 0.045999625069154636), (1095, 0.04599504919570409), (3559, 0.04578847395020345), (2687, 0.04575862410809145), (2706, 0.04561204634031915), (4727, 0.04550047643615515), (3010, 0.04543556608611377), (2449, 0.04540213521981706), (2903, 0.045145285499775555), (1763, 0.045099445770774356), (1283, 0.044851589148859144), (398, 0.04468953306322146), (3488, 0.04452902532691451), (4375, 0.044484210272205574), (3767, 0.044483909784625936), (761, 0.044311605091645626), (2157, 0.04412784975863941), (3083, 0.04392906595340725), (3156, 0.04378026704866589), (3652, 0.04364000117956528), (25, 0.043589765356661085), (547, 0.0433229551603167), (4128, 0.04326368542476417), (1137, 0.0431763835461576), (2646, 0.043096683417382396), (1749, 0.043015394355423606), (3904, 0.04286223149413435), (3430, 0.04285975506469223), (4659, 0.04266506088741343), (858, 0.04215595209750857), (3913, 0.0414400275151547), (3923, 0.04139692697500694), (3319, 0.04136039133953244), (2971, 0.04112660632825181), (1652, 0.04111000376658554), (628, 0.04100624167214985), (1657, 0.04087865350710346), (383, 0.040544308996648175), (2760, 0.040240491069177445), (1341, 0.040030153493334525), (2767, 0.039906231820845996), (672, 0.03977486764006374), (2538, 0.03904284932582714), (2020, 0.03874752379709366), (2558, 0.038637203717112024), (4608, 0.03819340786895929), (917, 0.03797015190754271), (2018, 0.03793950362835088), (1098, 0.03744135061499131), (2013, 0.03729239050734073), (1070, 0.03721622880540161), (1397, 0.03555081756725473), (2885, 0.03296079872472167), (3945, 0.03283252513305729), (3946, 0.03153059109252051), (590, 0.031400919506051235), (62, 0.030888920128776254), (4252, 0.02861513831720705), (877, 0.02842339024134984), (675, 0.02794834751625833), (2985, 0.02699383202438202), (2550, 0.026659038254086997), (1243, 0.026301046843798866), (2026, 0.025732018775323544), (137, 0.02563581803298054), (3655, 0.025578623594013805), (3728, 0.025335754420903116), (4062, 0.02459854689176972), (292, 0.024420501540787835), (2133, 0.024303172699276034), (873, 0.024218995363926396), (213, 0.024179665646682117), (3360, 0.023979222278847592), (227, 0.023727552940060122), (1506, 0.023612985353690667), (2191, 0.023490677274663967), (4739, 0.023083259320069462), (412, 0.022977884866996343), (2653, 0.022840857279374592), (2374, 0.022770643687937943), (1871, 0.022638480350164105), (67, 0.022551076588360225), (3974, 0.02252747577454735), (1148, 0.02223395162953403), (3294, 0.0222187655807725), (1248, 0.021893409655759574), (4268, 0.02172078800543307), (1292, 0.021641372614701306), (438, 0.021511424983991004), (360, 0.021482743115380547), (3518, 0.02139027300161377), (2214, 0.02133258979576888), (277, 0.021272562398925728), (328, 0.021168911281542947), (1302, 0.021157496098332083), (1023, 0.02114962907837315), (4689, 0.02104394107453088), (2248, 0.020969520034655322), (2151, 0.020772589295369886), (3374, 0.020738727157023924), (1393, 0.020664614005184368), (108, 0.020607345375504068), (1203, 0.02059542016974504), (1821, 0.020573710759052084), (1850, 0.02056493986890545), (3420, 0.02046462669447209), (4378, 0.020418873881694784), (4456, 0.02017883243229979), (2859, 0.01948339777503557), (2622, 0.019377676963623747), (2155, 0.019230526034278602), (2321, 0.0191726483988546), (710, 0.019081350236344836), (126, 0.019074389273085236), (109, 0.019055449492395946), (1527, 0.018902265861964085), (3955, 0.018780302998608417), (3209, 0.018605023976984988), (44, 0.018496637769552876), (911, 0.018489303021881183), (2694, 0.018404021274872714), (1676, 0.018098385185041782), (2540, 0.01809228426933552), (3127, 0.01808717518509256), (2869, 0.018055161321394866), (3045, 0.017956566676773904), (172, 0.01786989967402703), (4023, 0.017847986171623528), (1272, 0.017800933168016314), (2846, 0.017757967713202562), (3463, 0.0176818629602122), (3973, 0.017670906149004302), (3498, 0.01764653749611095), (3249, 0.0175921542691527), (3280, 0.017518009078958514), (1379, 0.017411733817487913), (1991, 0.017364905109025403), (1320, 0.017340899843951946), (2908, 0.01731554614964841), (1367, 0.017186785954716184), (3466, 0.017102590178346946), (166, 0.017091692161469017), (2308, 0.01705743426878935), (540, 0.016996564264754817), (3137, 0.01699308252101326), (2716, 0.01695182390939583), (818, 0.016932231530641103), (1464, 0.01691746935905145), (282, 0.0169058309922557), (4403, 0.01683110606652351), (3351, 0.016828308863213078), (2443, 0.01679292301809622), (3486, 0.016698069312283716), (4396, 0.01662342228765878), (1389, 0.016621950887973615), (830, 0.016585720056649624), (3679, 0.01650601797771404), (2187, 0.016459331299142378), (4641, 0.01645369065383769), (2375, 0.01638220122926081), (387, 0.016269039396021368), (3556, 0.01626694026896156), (2122, 0.01626500617385153), (694, 0.016152930110686872), (578, 0.01607426147028513), (4362, 0.016050217224371662), (3102, 0.01600147659371646), (2807, 0.01594478599975876), (2147, 0.015893992482575597), (1311, 0.015832853342229856), (334, 0.01582449738257794), (3376, 0.015807053237841512), (1068, 0.015804056451360862), (2621, 0.015779896435254463), (1648, 0.015726152179505504), (2123, 0.015700698685914605), (1568, 0.015538491778359642), (3961, 0.01530830675183285), (2114, 0.015260528495443428), (935, 0.01525506069741639), (864, 0.015147151121993292), (1750, 0.015122094457147413), (65, 0.015099088395388446), (1173, 0.015080502766419156), (2014, 0.014923884165202423), (2023, 0.01475032075097566), (2221, 0.014749072190125456), (530, 0.014692672356635461), (193, 0.01468142192217091), (1405, 0.014659338681628477), (2876, 0.014644902720540358), (1363, 0.014633438011775043), (2751, 0.014564447215227207), (3313, 0.0145193222637567), (836, 0.014381075841790669), (179, 0.014318120796442622), (2037, 0.01431664666377657), (952, 0.014301602649148638), (2481, 0.014279661546190106), (1795, 0.01410720576623531), (3344, 0.014090910807952993), (1046, 0.01404466680226167), (4004, 0.014039763804334575), (2487, 0.014029069842701051), (1845, 0.013979407155834319), (1868, 0.013944022661188063), (1788, 0.013891599997786443), (2762, 0.013810255768461652), (629, 0.013758008170632118), (3377, 0.013725987833313424), (1043, 0.013716283661637383), (1500, 0.013626853557063483), (824, 0.013560702105377067), (465, 0.013418684300883913), (3684, 0.013410134944382786), (112, 0.013394729255911987), (3157, 0.013339998984315616), (3597, 0.01326788991137706), (371, 0.013244140748779349), (976, 0.013231013572092963), (3447, 0.01321854017286125), (381, 0.013140103993464719), (2791, 0.0131223162840267), (4141, 0.013042228822342398), (3711, 0.013014188866769708), (4450, 0.012980314985480045), (1162, 0.012832104479164318), (4283, 0.012773822968154599), (1847, 0.012755942140042038), (2094, 0.012724250076500344), (4684, 0.012715127831736122), (1970, 0.012674233965153107), (269, 0.01261287152174815), (3801, 0.012606090285382648), (3959, 0.012570279106944506), (2276, 0.012503060232810961), (670, 0.01249384645987724), (1721, 0.012477776497555836), (2484, 0.012452609480168728), (124, 0.012324831901341721), (1314, 0.01227754809819696), (657, 0.01226122689889329), (1935, 0.012260988679899614), (345, 0.01225597236992772), (1362, 0.01218567852845225), (4177, 0.012166824510064898), (1544, 0.01215091633215521), (967, 0.012138978436367017), (706, 0.012112434977084056), (1865, 0.012020143263878135), (1572, 0.011999965508303841), (2154, 0.011957107063191426), (2011, 0.011910092439481825), (2841, 0.01186423907180659), (15, 0.011857991477931238), (116, 0.011785789757162657), (3450, 0.011751616103478923), (4053, 0.011705812712015099), (88, 0.011650513946322156), (832, 0.01159855974327807), (2689, 0.01158021034162771), (175, 0.011531002524001226), (3285, 0.011507140522566992), (1707, 0.011433808569033001), (3154, 0.011339331260997874), (3153, 0.011310233132688918), (2647, 0.011245516173927637), (1412, 0.011206406238141975), (4701, 0.011171095320197997), (1585, 0.011151400412126958), (691, 0.011143368039679002), (4242, 0.011119273356586391), (515, 0.011067118727948244), (1015, 0.011063638604368466), (1492, 0.011038350340243098), (330, 0.011020060211877285), (3692, 0.010954909160322757), (142, 0.0109058562315224), (68, 0.010896674111344606), (261, 0.010887978156061243), (3446, 0.010879539888873335), (4731, 0.010861846417546256), (942, 0.010832198759458785), (3483, 0.010832081749769774), (4554, 0.01081150359568874), (2096, 0.010730221565386826), (1997, 0.010696522531391134), (1505, 0.010650666951949064), (2598, 0.010612276569758855), (3839, 0.010585835043774406), (1678, 0.010582677630653502), (1471, 0.010536534522134273), (2668, 0.010471801787785177), (29, 0.010461000425631936), (3433, 0.010391452937374698), (1996, 0.010351972506485053), (553, 0.010324811051816297), (3810, 0.010310241294679898), (2560, 0.010296227405135971), (442, 0.010279859143823098), (3492, 0.010264995308476695), (1515, 0.01025323773526434), (2210, 0.010242812350121767), (2055, 0.010201457425134832), (613, 0.01019923988323558), (3469, 0.010192707347845758), (1629, 0.010186942346439914), (1141, 0.0101792285467678), (1017, 0.01017062619275414), (2808, 0.010157499508367532), (1261, 0.010102042769450158), (1270, 0.010064868444662168), (4395, 0.01004912232753882), (3835, 0.010044618282265603), (1003, 0.010034351562074646), (3778, 0.010030387116524188), (3978, 0.010012941815992236), (2867, 0.010000946887826653), (2301, 0.009988050029372596), (2040, 0.009983034827508504), (3508, 0.009981844975938979), (4176, 0.009958988320222507), (643, 0.009958843884904553), (4281, 0.009958472805743059), (1817, 0.009931546001046123), (4679, 0.009879666857254842), (1132, 0.009866450861067078), (3665, 0.009854054809869338), (2524, 0.009846707654170526), (4189, 0.009845561732078921), (4658, 0.009828981620192512), (757, 0.009822438635824212), (4534, 0.0097963065901529), (2638, 0.009793894591143654), (463, 0.009786006410424156), (1671, 0.009762801737532628), (1033, 0.009744376720804686), (763, 0.00972661512754926), (2649, 0.009709564804133354), (3345, 0.009696100145337283), (1510, 0.009694541533102572), (1384, 0.009684086233527924), (1861, 0.009683394908739075), (2777, 0.009676273619033438), (1838, 0.009658766420538388), (3144, 0.009649217126153279), (1942, 0.009624223410060535), (329, 0.009610596088115004), (199, 0.009609017029540824), (4016, 0.009606245006106063), (4088, 0.009596272295568958), (3384, 0.00958239086891133), (3403, 0.009521179095945222), (106, 0.009508502951994072), (4050, 0.009503029219265538), (2440, 0.009501101028557904), (2582, 0.00949776935230237), (3284, 0.009490241261864341), (1385, 0.009483748387438104), (3875, 0.009466686305983242), (870, 0.00945442859381361), (3352, 0.009441898108913875), (566, 0.009419278002960168), (1202, 0.009417092224435436), (204, 0.009402689382557991), (2070, 0.009398408523925691), (1985, 0.009386437083785535), (3395, 0.009378051877576359), (3471, 0.00937482865790721), (2932, 0.009373924925775953), (4382, 0.009373571125146748), (147, 0.00933928735876297), (1257, 0.009328084346455066), (669, 0.009326556148890261), (3222, 0.009317053705309657), (808, 0.009310289235794574), (4466, 0.009309384901668513), (1052, 0.009305159459412465), (2174, 0.009304566840757372), (4492, 0.009266859382907746), (2995, 0.009262482284219206), (4012, 0.00924455075155073), (3095, 0.00923792783450306), (2501, 0.009190901016889281), (1226, 0.009189204506854065), (2469, 0.00917215399107727), (3416, 0.009153261031198866), (222, 0.009144797258486596), (3504, 0.009140446316426914), (4288, 0.009140400782904581), (364, 0.009123034569897458), (4156, 0.009118995963100875), (3111, 0.009104197705935435), (145, 0.009085699236508423), (2745, 0.00907979126500324), (2035, 0.009046509006814947), (2736, 0.00903582380145048), (1403, 0.009027879523662227), (4398, 0.008994726369980277), (1365, 0.008977936841345307), (1937, 0.008959187367948481), (3853, 0.008939891449595358), (160, 0.008931332371255988), (3325, 0.008921502849321045), (1175, 0.0089131325255325), (2119, 0.008911688058600528), (2093, 0.008907308921710669), (4640, 0.008877589018377373), (1872, 0.008873699813927003), (2167, 0.008873181976385397), (4321, 0.008871235086199908), (2645, 0.008861389538462262), (1927, 0.008851542292749783), (768, 0.008838679645998899), (123, 0.008837566085244955), (2650, 0.00881290301339123), (1443, 0.008803333802491752), (3927, 0.00878898086519737), (779, 0.008787503215171077), (3934, 0.008781227446315654), (1579, 0.008726213429916767), (2513, 0.008709788328043038), (1074, 0.008706203975182042), (46, 0.00869440172717937), (2553, 0.008689364904907326), (433, 0.00868502401846945), (3129, 0.008682729020901786), (203, 0.008676836280161452), (3857, 0.008668234359505063), (83, 0.00865361067638561), (3528, 0.008646431370009585), (1377, 0.008617919653104676), (638, 0.008601714725107594), (1112, 0.008580033537096599), (689, 0.008560407567266611), (4465, 0.008539876280506708), (1245, 0.008538208232422873), (3213, 0.008521984723029943), (853, 0.008517333013126191), (1386, 0.008509221263059344), (409, 0.008487776379424432), (1774, 0.008487666474170522), (4380, 0.008484733352585904), (916, 0.008474891664770733), (3553, 0.008474188832772404), (3091, 0.008464200755193649), (3085, 0.008462115518783592), (3226, 0.008460793281049631), (144, 0.008457547892992821), (1129, 0.008449812734242505), (2161, 0.0084466108832023), (2823, 0.008430197106768091), (279, 0.008416347776224378), (212, 0.008407968352472608), (1274, 0.008398296434211593), (218, 0.00837518142714287), (2237, 0.008352839882157313), (4436, 0.008350594679449725), (1509, 0.008346380225762541), (2368, 0.008321747075484462), (4007, 0.008314597911146481), (3279, 0.00830009470126471), (3036, 0.008293939622834687), (1523, 0.008286547994060348), (3000, 0.00828573148339202), (3098, 0.008282764746201318), (1216, 0.00827659349180214), (787, 0.008262489021100267), (796, 0.008262209837369005), (1064, 0.008256795174178943), (3097, 0.008251318506323907), (1018, 0.008248879608826865), (1759, 0.008247492486818), (61, 0.008217416480206482), (1115, 0.008217301031400845), (2607, 0.008215846038162247), (1878, 0.008215016512078057), (4399, 0.00820701017973063), (1919, 0.00820227681959614), (4349, 0.008188815197855933), (4081, 0.008175018776692675), (2207, 0.008160461495703984), (1417, 0.008144000793881783), (2362, 0.008137772993415861), (511, 0.008125832815990157), (342, 0.00811555427281068), (2110, 0.008097769833868059), (947, 0.008074439599648753), (33, 0.008066373000248173), (4504, 0.008058178674715746), (4722, 0.008057042755098833), (2742, 0.008052909041585643), (677, 0.008033736087048061), (2347, 0.008033393346800017), (2917, 0.008002217420168576), (4203, 0.007993112723539432), (173, 0.007984507560972326), (692, 0.007946602375336386), (776, 0.007945378653210424), (1843, 0.007913864064303082), (2376, 0.00791194121566041), (280, 0.007907681554773718), (895, 0.007907141616928973), (586, 0.00789024574029734), (1493, 0.007887907506383119), (2618, 0.007856918594379435), (4149, 0.007843211266794402), (2795, 0.007837308214589497), (1254, 0.007817470686231183), (1278, 0.00781533397699147), (4134, 0.007811936445905304), (3043, 0.007809552232652544), (1895, 0.00779538408118125), (3421, 0.00779297666574821), (3895, 0.007788493975587097), (2768, 0.007777714525859786), (867, 0.007719815278559451), (2258, 0.007716585950760251), (481, 0.007710469192465776), (209, 0.007708353611480501), (1184, 0.00770782051676559), (2931, 0.007702145898595002), (2568, 0.007688290964735027), (21, 0.00768082747404668), (4627, 0.007662676734955525), (620, 0.0076601622146064705), (1880, 0.007644754805689354), (1445, 0.007639864103912554), (929, 0.007636158548553434), (4246, 0.007607271806128148), (968, 0.007596092788128346), (1232, 0.007592113279421274), (1275, 0.007585100276086786), (2654, 0.007584499932680309), (1741, 0.007571291759274), (937, 0.007566010938515658), (3807, 0.007557253506799067), (2027, 0.007549204484928924), (2254, 0.00753754113527282), (762, 0.0075356720415144535), (4028, 0.007535581977288637), (4531, 0.007529973650252838), (551, 0.007529334145044064), (3766, 0.007509435617945441), (3862, 0.007505477446937674), (3328, 0.0074738638816708326), (652, 0.0074652279097453264), (1361, 0.007459679911974251), (794, 0.007452033589431295), (876, 0.007441937136132851), (3275, 0.007431168100952357), (3306, 0.00741323876948719), (1983, 0.007410252483163592), (3253, 0.007388799218836997), (3356, 0.0073869027225976856), (374, 0.007367007451045729), (2290, 0.0073662591912388815), (3699, 0.007362516792099947), (2996, 0.007357391103192473), (4123, 0.007355967977690579), (543, 0.007350733604323017), (3299, 0.007347857943474267), (43, 0.0073448937716194245), (3640, 0.007344357907500871), (85, 0.007337408744594533), (2639, 0.007336230722060003), (934, 0.007333011109714927), (622, 0.0073272630859189496), (1906, 0.007327148374460205), (1609, 0.0073256579668542635), (2522, 0.007324374189615644), (343, 0.007310319430781272), (1252, 0.0073059420648486206), (3797, 0.007296045009601071), (3694, 0.007288740565811087), (161, 0.007265335815240881), (1119, 0.007263192828107412), (1325, 0.007261125748748497), (2298, 0.007258596037766498), (1114, 0.007251381381143883), (4379, 0.007251099336278913), (251, 0.0072398556716949496), (1682, 0.00722784391903384), (896, 0.007224310866750229), (1224, 0.00722177884105831), (1290, 0.007220387968877608), (899, 0.0072133715655426055), (860, 0.007208964979949306), (1716, 0.007191634428246961), (4440, 0.007182517268227209), (3407, 0.007180195834509972), (2712, 0.0071796595549348755), (3976, 0.007178344851285725), (4178, 0.007173821087426443), (3828, 0.007157525565980259), (332, 0.007157268400223545), (2919, 0.007157132528900899), (673, 0.007156808235008512), (458, 0.007139834470942942), (1045, 0.007127139946063076), (2366, 0.007125014664316578), (2053, 0.007119148441780422), (2196, 0.007117393443919038), (879, 0.007113885083158083), (1317, 0.007107977921426029), (87, 0.00710582363430576), (4637, 0.007105587222230477), (701, 0.00710290323534778), (1337, 0.007102311111575124), (3541, 0.00710035780428943), (287, 0.007100271209572765), (957, 0.007100178181196166), (2334, 0.007097374861947616), (988, 0.007088941577162066), (4583, 0.0070833841704851675), (447, 0.007082034135394187), (3642, 0.0070747196508249), (676, 0.007072831263565067), (48, 0.007068704685301852), (510, 0.0070594567604855), (2149, 0.007056348982261748), (4669, 0.007050984031312732), (502, 0.007038861884135696), (2216, 0.00703595269316421), (1331, 0.007035648747805284), (1192, 0.0070345528482100746), (370, 0.007030305641147731), (533, 0.0070234096049349454), (1335, 0.0069968690222038665), (4314, 0.006989528394250579), (1897, 0.006984290547647622), (2406, 0.006976894184884759), (3375, 0.006966342657110586), (52, 0.006961683757045119), (1687, 0.006960706103821318), (3580, 0.0069604848947039995), (1512, 0.006959101226682383), (75, 0.006949831672562761), (4482, 0.00694734196388699), (40, 0.006936230806932241), (1853, 0.006917647962507333), (2910, 0.00691327339875682), (1413, 0.00690694597425456), (1107, 0.006904726630465038), (3777, 0.006896834659302678), (989, 0.0068920654878697), (358, 0.006887347045875808), (1967, 0.0068800237654604475), (13, 0.006879686406764784), (2784, 0.006879523172628042), (496, 0.006868008526310036), (878, 0.006859050883424736), (1779, 0.006857595189498404), (181, 0.00685140579114139), (1481, 0.006847273367886999), (795, 0.006846670835702387), (3228, 0.006828780478627313), (775, 0.006814942681617749), (3437, 0.006810931667058833), (2295, 0.006802609700907001), (584, 0.006792261089459135), (317, 0.00678721332158322), (1152, 0.006773851723808165), (51, 0.006769883204224676), (4244, 0.006759631070600242), (1478, 0.006753360206148829), (3370, 0.006742839614969864), (296, 0.006731012586313873), (3883, 0.006719795575605517), (874, 0.006715619951034208), (4124, 0.006715138765546584), (4724, 0.006710738440643892), (1876, 0.006710413466911818), (2644, 0.0067066905069966135), (1461, 0.006704693441527118), (276, 0.006703024988913949), (3670, 0.006702499993499417), (2177, 0.0067016167777211606), (3660, 0.006693146220031473), (3535, 0.006680515816455342), (1220, 0.006673779778584357), (2229, 0.006672927219158588), (208, 0.006672809350074579), (3819, 0.006670787551037952), (1483, 0.006668705797125531), (3019, 0.006664706776985061), (4068, 0.006662829199910021), (18, 0.006658228418109757), (3861, 0.006656400211178753), (4735, 0.006653526753963088), (4503, 0.0066448255547073894), (1796, 0.006639767068151383), (450, 0.006636709669791437), (3661, 0.0066269404456785206), (1116, 0.0066249230559903595), (2803, 0.006623931099318217), (4576, 0.006619058985655568), (653, 0.006612035878232248), (2695, 0.006607316036241414), (4000, 0.006606413754586477), (545, 0.0066048692328364075), (3741, 0.006599157590345485), (829, 0.006598777840038766), (2353, 0.006591428408215577), (2988, 0.006586169023438275), (82, 0.006577511046852762), (2000, 0.006576356900341419), (1945, 0.006571958560353747), (534, 0.006568459617234232), (1740, 0.006564713529529314), (3108, 0.006559760513910298), (2008, 0.006559690734408773), (3630, 0.0065578286660711365), (4387, 0.006556244634487285), (1342, 0.006554881542990873), (2224, 0.006554293949390283), (3086, 0.006553386347868241), (1595, 0.006540924161489863), (2045, 0.00653165049669913), (4474, 0.006522810080722777), (3558, 0.006520620804626518), (1752, 0.006506248440767104), (1465, 0.006502490243359466), (684, 0.006500453010971125), (1128, 0.006495030703958588), (906, 0.006492560727042822), (3750, 0.006491052291144026), (2805, 0.006485329364954175), (2474, 0.006484903241564378), (231, 0.0064827114021530395), (2284, 0.006479253197690476), (1986, 0.006477733105590993), (3713, 0.0064639587268828964), (3318, 0.006462803368825915), (4255, 0.006457366990416666), (833, 0.0064483246957670005), (842, 0.00644800876167805), (429, 0.006444915493872401), (1255, 0.006443453052387613), (2460, 0.006435430687222545), (4486, 0.006424357847418631), (1802, 0.006422478702360921), (1621, 0.006421109442072612), (4374, 0.0064081536572749296), (437, 0.006403227176753886), (3210, 0.006396557534910922), (482, 0.006395915946407378), (888, 0.006381771149159609), (2815, 0.006380873352773308), (1401, 0.006380788584258944), (207, 0.006377233233545171), (407, 0.0063741300346691395), (866, 0.00637401632693557), (1343, 0.006373919301845842), (356, 0.006365095456352702), (1000, 0.006354243753936715), (4610, 0.006351388141032855), (470, 0.006343509575262949), (1360, 0.0063239330842761905), (2771, 0.006323585703635169), (1714, 0.006321826796532526), (936, 0.00632175781999479), (2843, 0.006320689809232395), (4121, 0.006314181183092976), (4673, 0.006307419361735091), (664, 0.006306642125938936), (1293, 0.006302491675510744), (4709, 0.006293163968887881), (1815, 0.006283240929116465), (3295, 0.0062818308116861345), (3675, 0.006280236521665521), (236, 0.0062722659946244964), (609, 0.006269705557139968), (2874, 0.006268392349065453), (1680, 0.006263508414348748), (1864, 0.006259524971447253), (2447, 0.006255684392533035), (3958, 0.006251745676348216), (86, 0.006236900919744437), (7, 0.00623291663952929), (1667, 0.0062315852253467165), (1376, 0.006226806923960256), (2066, 0.006209312860292728), (814, 0.006197805974271783), (3012, 0.006188108912724357), (2617, 0.006174668671399358), (799, 0.006166114513248317), (2468, 0.00616609138555135), (732, 0.006163039684782842), (70, 0.006153225509463849), (2024, 0.006151400567438808), (4344, 0.006148727610082869), (2969, 0.006139853193960512), (742, 0.00613358728694832), (1787, 0.006129165189172132), (2632, 0.006127700198335177), (1436, 0.006115789259273672), (604, 0.006112101925990173), (648, 0.006109401716781534), (1567, 0.006108082402238575), (1185, 0.006096565875096199), (1665, 0.006089992542841911), (1009, 0.0060860300584747624), (760, 0.006079642340405601), (1194, 0.006068638633061146), (1157, 0.0060558012022142935), (678, 0.006047696496468346), (1303, 0.006036406668689871), (2486, 0.00602797713782198), (4231, 0.0060254483819425185), (1934, 0.006021989766552816), (1058, 0.006021217691319707), (1237, 0.006012938616885758), (1310, 0.0060112819518080285), (252, 0.006008144272253668), (1090, 0.006005262157982248), (4475, 0.006003159206058784), (1739, 0.005990136236151545), (1035, 0.005986784944644021), (1519, 0.005979163380546307), (1005, 0.005978360316713237), (2961, 0.005965963464346573), (125, 0.005954217449152), (2978, 0.0059458908910543645), (1419, 0.005945098652999026), (1183, 0.005944145831341909), (875, 0.005938893447633121), (3756, 0.005934553085263362), (963, 0.0059246942384507785), (1989, 0.005905846562526626), (1654, 0.005905618312815659), (2275, 0.005903067876666347), (1047, 0.005899453022612031), (2005, 0.00589286224802591), (3110, 0.005891764974650833), (928, 0.0058892663157869545), (2939, 0.0058803382549839625), (3659, 0.00587583797057666), (800, 0.005862682315233774), (1958, 0.005860219675577975), (2697, 0.005845140335468643), (2145, 0.005841512872123289), (2412, 0.005834166832430238), (900, 0.00582876663854958), (527, 0.005826918800639698), (1239, 0.005817307866460273), (149, 0.0058171971120448826), (753, 0.00581190976473385), (418, 0.005802961178212754), (537, 0.005802024560303756), (733, 0.005786801187984667), (986, 0.005782947325165377), (2121, 0.005782193510772405), (4481, 0.005778613977154047), (201, 0.005770524088807693), (560, 0.005767013304411914), (1870, 0.005763829819676567), (667, 0.005760316514108527), (844, 0.005759132111127028), (4095, 0.005758315258299609), (538, 0.00575643837720195), (1681, 0.005747126622284807), (3507, 0.005740271372026592), (406, 0.005738786255421181), (1988, 0.005738471010540128), (2913, 0.00573317758611699), (3637, 0.005708954311974593), (1104, 0.005708042925417722), (2925, 0.005700367252639156), (654, 0.005699172674818714), (130, 0.005694485514099559), (2963, 0.0056834341465971435), (1406, 0.005682049089150038), (4596, 0.005681164880883104), (1230, 0.005672569518596087), (1249, 0.005672300042604733), (3142, 0.005671062330502546), (304, 0.005670596794375465), (4510, 0.005667021046311513), (244, 0.005659894876737662), (452, 0.005657319052471807), (2383, 0.005652681005670822), (1799, 0.0056491076248539485), (72, 0.0056430667409842015), (2235, 0.005639098450519905), (542, 0.00563210964612775), (905, 0.005628038486294265), (1099, 0.005626027555242442), (1713, 0.005625081293361537), (931, 0.005624310741810851), (4227, 0.005615024079887472), (3849, 0.005612080278577182), (4524, 0.005608888210527267), (918, 0.005607399408985199), (0, 0.005600132658779098), (1591, 0.005595222633902714), (2780, 0.005582781612234887), (2052, 0.00558234884206634), (3312, 0.005579884447360454), (1542, 0.00556776289083377), (2727, 0.005565329445556823), (1432, 0.005555106812972096), (1761, 0.005541343161700669), (635, 0.005527566345509811), (1455, 0.005522528591856153), (2252, 0.00552166641795314), (915, 0.0055120050922707435), (4265, 0.005511347244031342), (417, 0.005507744003655237), (719, 0.0055066816276061435), (1949, 0.005505774081608529), (1061, 0.005499034157222091), (500, 0.005498700256002729), (3387, 0.005498490003238668), (3747, 0.005479121654886346), (2688, 0.005474745793736855), (1696, 0.005463715544252365), (3957, 0.005459503570080369), (523, 0.005451767725043299), (341, 0.005451441207542474), (3794, 0.005449711396078792), (1407, 0.00543930419035887), (2421, 0.005419977035557725), (532, 0.005419652655101333), (2057, 0.005417249380919772), (4216, 0.005416267468453245), (825, 0.005403237905212221), (3775, 0.005398188254617088), (313, 0.005396785885081069), (1694, 0.005395928645304626), (1812, 0.005390037792416754), (266, 0.005387404858186952), (333, 0.005386636060156195), (3708, 0.005383604163447554), (3334, 0.005370843584133762), (3232, 0.005369515935441), (4747, 0.005360391451474423), (2788, 0.005354561097999545), (501, 0.005344257061113198), (1215, 0.005334386379565162), (790, 0.005332884155066208), (271, 0.005327781996178654), (809, 0.005325332747508374), (1873, 0.0053180955216434326), (1266, 0.005311989412441561), (4148, 0.005311731546227598), (3993, 0.005307033309362157), (4325, 0.00530045847878291), (2062, 0.00528977723341713), (4623, 0.005289529497330801), (4337, 0.005285795794322234), (3240, 0.005276730783732517), (47, 0.005269148502261747), (1957, 0.005267556478685427), (3768, 0.00526338059318793), (3860, 0.005258399258272491), (1396, 0.005258388410108857), (1418, 0.005256887586078212), (1053, 0.005240158498650981), (2336, 0.005232312475729826), (2178, 0.00522838349009876), (3076, 0.005227173228823149), (3582, 0.00522678812700705), (801, 0.005220072725989261), (190, 0.005215965538783476), (555, 0.00521580902482971), (148, 0.005208849217835673), (2625, 0.005194958647386193), (1832, 0.0051918920898740605), (2820, 0.005191380398072194), (3099, 0.005190939608844904), (1781, 0.005190318119444643), (4512, 0.0051637845877460006), (1789, 0.005162785774168772), (1992, 0.005162772628574024), (1300, 0.005161579096781775), (2555, 0.005160225997107713), (1054, 0.005158504229368074), (1723, 0.005143851583680614), (4187, 0.00514115208879626), (1236, 0.005134046328023082), (2074, 0.005131474033157727), (291, 0.005123222515746898), (1630, 0.005107098835459316), (273, 0.005106386090650547), (1662, 0.005094122090492547), (4695, 0.005086700718180441), (1551, 0.005085060605458884), (2918, 0.005075022241798741), (668, 0.0050728743005404135), (4164, 0.0050644817993021965), (3674, 0.005060735518611892), (327, 0.005052378329209855), (970, 0.0050466714438628345), (683, 0.005045839283331819), (2280, 0.00504442613732063), (170, 0.005043718333344316), (1012, 0.005035192255390371), (1948, 0.005034032705293563), (1852, 0.005028994811896064), (2769, 0.00502550945442182), (322, 0.005005449413502368), (78, 0.005003968838380503), (1736, 0.00500276066295623), (4617, 0.005002608315130461), (468, 0.005002213094016493), (1420, 0.0049982004558978815), (2680, 0.00498606074955839), (402, 0.0049801349318777865), (243, 0.0049752862567992275), (206, 0.00497316117564227), (2097, 0.004967910585501989), (4096, 0.004967223333203209), (2602, 0.004959573755700075), (2429, 0.004958661017171845), (4106, 0.004954340609929978), (281, 0.004942490502113413), (949, 0.004942159145676387), (1858, 0.004938653161258674), (4032, 0.004931416232429511), (827, 0.004915269299858381), (99, 0.004910916308859677), (3373, 0.004910577088566046), (3065, 0.004910235825461726), (2871, 0.0049093775985291094), (1262, 0.004907037644943806), (1754, 0.004905327031571768), (1348, 0.004902859249705905), (354, 0.004902707327207484), (3903, 0.004896944373602165), (994, 0.004878290980756782), (792, 0.004872880971949047), (2759, 0.004870327241392466), (57, 0.004862322854816407), (4235, 0.004857138764942021), (4543, 0.004856872261940801), (1701, 0.004855298801143404), (3119, 0.004850529122123082), (2206, 0.004850381444419629), (2992, 0.004850256609573243), (1259, 0.004848005645029835), (2480, 0.0048475517907817355), (1334, 0.004847532931792617), (3317, 0.004844279873672492), (2162, 0.0048378021987640855), (216, 0.00483028618879181), (695, 0.004828665279288708), (2306, 0.004818528933805833), (1279, 0.004814574381592628), (270, 0.004810509360142629), (4477, 0.004810258523622089), (1234, 0.004804089359337883), (2403, 0.004803434819956984), (1442, 0.004790702741387319), (3426, 0.004788990689432464), (4366, 0.004786915338226329), (2016, 0.004782148826946673), (621, 0.004782027614904009), (4553, 0.0047816201466151075), (2126, 0.004780374845547593), (3070, 0.00477847842877084), (321, 0.004778121437994174), (806, 0.00477010865918702), (4158, 0.004763954944204228), (4605, 0.004762354334008804), (3888, 0.004757486732267137), (274, 0.004750769585221677), (1773, 0.00474357079523227), (3524, 0.004743143318026924), (4551, 0.004734172715000406), (1092, 0.00472950580125039), (544, 0.004725503824816992), (1923, 0.004722699646888522), (3218, 0.004720532238120595), (3999, 0.004708804055732366), (485, 0.00470845423862752), (4033, 0.004700458208077393), (1339, 0.004696398424259221), (4435, 0.004692438689180928), (3612, 0.004690912340840574), (2546, 0.004687182043768616), (1019, 0.004681735704877736), (737, 0.00467945787589664), (3418, 0.004672949967716009), (3094, 0.0046590753226421365), (3297, 0.004658829403249968), (2929, 0.004655165100160284), (847, 0.004653689042770685), (3924, 0.004651812081054012), (3118, 0.004644253385421741), (1874, 0.004641762587206886), (2250, 0.004636146911851244), (4257, 0.004633684610878435), (1922, 0.004631607394669564), (1612, 0.004629357241003034), (4192, 0.004628036066348271), (1712, 0.004616912670607795), (1708, 0.004612134359764395), (1440, 0.004603440081002522), (1387, 0.00460055931673312), (111, 0.0045864190746190345), (1182, 0.004585770349566666), (2633, 0.004583389048345554), (1658, 0.004581270864927297), (1264, 0.0045806220591647715), (353, 0.004578545755956405), (3984, 0.004576584324216994), (715, 0.004573139586016081), (182, 0.0045663459988453375), (2436, 0.004565872946277792), (3667, 0.004565769938542229), (5, 0.0045632372395618785), (3689, 0.004560951567293876), (2197, 0.004558909409156735), (1798, 0.004555705399297318), (3822, 0.004555325819840654), (4442, 0.004552180436989418), (2739, 0.00454795765178771), (435, 0.004547857301654655), (3992, 0.004540664438442057), (2051, 0.0045374250182113485), (2512, 0.004535001623511883), (850, 0.0045315480120214574), (979, 0.004531172771790609), (3919, 0.004531031890640469), (1582, 0.004530668797578323), (3941, 0.0045300895923564375), (1860, 0.00452765028422728), (2789, 0.004526483305433248), (2601, 0.0045201462543857165), (1382, 0.004515580802552148), (3599, 0.004514521284020082), (1727, 0.004514140626383251), (2744, 0.004514047319085541), (2977, 0.004512644663632125), (3215, 0.004510011944532153), (4619, 0.0045050011570608095), (4293, 0.004498867689974253), (962, 0.004497717257024583), (2279, 0.004495736060860052), (1513, 0.004495718492462373), (2798, 0.004494739234127278), (307, 0.004494303297750767), (472, 0.004490528568198665), (2640, 0.0044894471684488926), (2209, 0.004483473638090937), (4371, 0.0044791493250003825), (1620, 0.00447554193095575), (346, 0.004471146162552709), (119, 0.004461932886753508), (2109, 0.004455994703205197), (894, 0.004455059695752481), (2752, 0.004453947109817496), (120, 0.0044539158775941225), (1494, 0.004453169025603826), (3046, 0.004447449342160939), (1087, 0.004446922586640897), (483, 0.00444466515126053), (2740, 0.004444572601766413), (3829, 0.0044415798961957515), (2116, 0.004436997780592822), (2346, 0.004434163110122813), (3346, 0.0044312658764824415), (2915, 0.0044299429974637245), (3382, 0.004429856476629305), (4469, 0.004428479954444841), (1688, 0.004425879698377041), (939, 0.004423389437614475), (2489, 0.004421930410852877), (2565, 0.004416715155684905), (2936, 0.004413873772788743), (96, 0.004412889229032932), (4664, 0.004411337074315451), (966, 0.004409784163467893), (2143, 0.004408728031813605), (2103, 0.004394069600034532), (2049, 0.004393511570033122), (2464, 0.004389546287375072), (1936, 0.004385841490977354), (2076, 0.004385620932446828), (1338, 0.004384136577931989), (1971, 0.0043771227909273295), (1276, 0.004372014602514674), (288, 0.00437090198977216), (2980, 0.0043682363960749265), (2964, 0.004364394229816866), (1854, 0.004363410390844747), (3826, 0.004360770850065636), (4025, 0.00435711586892658), (1124, 0.004354446922113009), (2144, 0.004351707053876316), (3237, 0.004343186602491904), (631, 0.004333918416269913), (285, 0.004333393687875539), (3733, 0.004325257999397804), (1048, 0.0043243302298380535), (1438, 0.004320730837150811), (79, 0.004316273215406792), (828, 0.004315586789297353), (104, 0.004315240010674033), (434, 0.004311535529452202), (2417, 0.00430585474235317), (2303, 0.004302471185093788), (3536, 0.004300455490431926), (3643, 0.0042987864001701355), (3267, 0.004297537620043311), (3956, 0.00429321072879171), (2698, 0.004291956488390821), (2029, 0.004288866569551999), (1655, 0.004286069407619761), (2572, 0.004284890643234954), (3951, 0.004281022337626805), (2418, 0.004280674288399045), (3954, 0.004270176366992475), (1006, 0.004269498986553414), (1477, 0.004263149545634171), (3423, 0.0042586282359182315), (697, 0.00425601521940918), (4052, 0.004254265122618648), (1077, 0.00425341883780787), (1951, 0.004250836800413106), (1475, 0.0042495981932484566), (2505, 0.004248392106252144), (3264, 0.004247731461806826), (4502, 0.004247106646130577), (851, 0.004244420198697993), (2494, 0.004241975761642256), (921, 0.004236650862822592), (3120, 0.004235984159073931), (1206, 0.00423252404617857), (105, 0.0042281496723135786), (1920, 0.004225945820736722), (1050, 0.004224797236205019), (1793, 0.004222079260187346), (2193, 0.0042190961735830606), (2277, 0.0042135213127922014), (3596, 0.0042085763302579125), (2309, 0.004204152346533901), (558, 0.0042031202438811985), (1776, 0.004197625245311997), (1710, 0.0041952837829491805), (1359, 0.0041902652027258945), (705, 0.004183859918808626), (4048, 0.004183188141080945), (2065, 0.00417177777085772), (1833, 0.004170099072152183), (1514, 0.004164457117378201), (948, 0.004161132080889446), (2587, 0.004157517869362529), (2934, 0.004152696756366102), (1538, 0.004149660921036945), (817, 0.00414920034215995), (4205, 0.00414357408755346), (3386, 0.004141761086078281), (897, 0.0041374984150599654), (19, 0.004125528796913186), (1619, 0.004121032920166788), (2545, 0.004120169515967035), (1446, 0.00411815105290632), (4336, 0.0041180028800953065), (1685, 0.0041137836129354725), (3, 0.004105949970641846), (2473, 0.004101247780312792), (3151, 0.0040926351052914655), (1308, 0.00408567213770821), (3246, 0.004085117413628195), (2285, 0.004078617001520214), (1764, 0.004077866540416502), (1075, 0.004077179266270655), (2244, 0.004074385641605945), (1020, 0.004060036678115846), (3456, 0.004059404793322638), (651, 0.004059009057493557), (2236, 0.004052887425983457), (446, 0.004051340839263007), (1807, 0.004048839390503416), (3784, 0.004044295642816285), (1650, 0.004040383982384732), (461, 0.00402849277008276), (1730, 0.004027098530120705), (2812, 0.004024683983481839), (3096, 0.004019782720995556), (4612, 0.004013265631104176), (164, 0.004011994202754455), (183, 0.004006975130142502), (3067, 0.004003735892601058), (2264, 0.004000997731458965), (4685, 0.003999920977691859), (4649, 0.003998944806341471), (449, 0.003998764339912111), (4511, 0.00399690671353428), (3329, 0.0039884460962920955), (1312, 0.003985004334791523), (1136, 0.003984953981451775), (3155, 0.003976677145211973), (1096, 0.003974667548686222), (2975, 0.003970241548276391), (396, 0.003965839096750191), (734, 0.0039654045221370225), (782, 0.003962549008476908), (3638, 0.003957416367236498), (3389, 0.003954240683235093), (107, 0.003949611311587485), (3399, 0.00394246219702164), (2563, 0.003938281795271647), (4546, 0.003928051826445432), (2087, 0.0039276565500090755), (2463, 0.003924590817759181), (3949, 0.003924324572686365), (1743, 0.0039169615569108465), (1690, 0.00391508993544898), (1160, 0.00391279062659608), (3634, 0.003909299826457508), (816, 0.0039080297722712196), (4748, 0.0038981075453517248), (4060, 0.0038976312167490817), (428, 0.003894930475922099), (1924, 0.0038915052625434), (1674, 0.0038883896389629424), (2849, 0.0038879197711328634), (1489, 0.003886816451735131), (2831, 0.0038865542834231074), (368, 0.0038860091556325175), (2211, 0.0038858127130911094), (3960, 0.0038780978835587683), (1968, 0.0038778073289821727), (113, 0.0038746411016065737), (597, 0.0038697586438516396), (60, 0.003861954556525643), (4122, 0.003854492861684809), (1762, 0.0038483652732646083), (2075, 0.0038482014681872775), (443, 0.0038481458570278453), (1875, 0.0038450698327908445), (2714, 0.0038422673084765073), (4105, 0.0038407503871598888), (464, 0.0038318811629295133), (2886, 0.0038299432388414585), (2844, 0.003824203986108515), (1747, 0.003823304244326556), (4232, 0.0038183204773911362), (2459, 0.0038058591391829906), (3410, 0.003796760749974231), (436, 0.0037939668060878668), (1454, 0.0037925610466681527), (2080, 0.0037899708100209255), (4335, 0.0037880759004887284), (309, 0.003784250337590552), (1078, 0.0037814293926956817), (445, 0.0037780453119083575), (843, 0.0037758780589319937), (2228, 0.003768052786779912), (729, 0.0037668388297395754), (4444, 0.0037629892216234184), (4652, 0.0037574169650045784), (1429, 0.003757215005157696), (1540, 0.0037564270632204555), (4494, 0.0037466423576233486), (616, 0.003744192137030896), (242, 0.0037388141903543213), (32, 0.0037387628425684764), (3171, 0.0037360363002622637), (4660, 0.0037340312480346983), (4093, 0.003729426227596004), (2077, 0.0037293931713006613), (350, 0.00372804963894047), (2158, 0.0037238341791780843), (3880, 0.0037232583173233682), (2942, 0.0037163070120942265), (1806, 0.0037148740367912002), (582, 0.0037097235210361745), (1371, 0.003706092678440802), (1960, 0.003699159785420112), (766, 0.0036962205700308247), (4038, 0.003695455199942634), (162, 0.003693937138194828), (1539, 0.0036913891808905137), (3196, 0.0036905515716355356), (688, 0.003689516044748496), (2948, 0.0036887271919647745), (283, 0.003686677627704457), (1950, 0.0036858123522761775), (3635, 0.003684921784284749), (3771, 0.0036829060438415846), (1498, 0.003680749770371623), (606, 0.003677195237575048), (403, 0.003675551805160616), (4557, 0.003673386526740625), (3901, 0.003672606953552205), (1421, 0.003669923957268932), (385, 0.0036672710560851176), (509, 0.0036658515852847156), (38, 0.0036643397284452997), (4603, 0.003664150386399862), (4624, 0.0036640890449791312), (4412, 0.0036592034535972754), (2655, 0.003657042079737976), (441, 0.003656940434272085), (845, 0.003655331322022259), (1553, 0.003654071848344076), (3514, 0.003650173836420406), (1643, 0.003646332183045742), (1900, 0.0036459326069419908), (3905, 0.0036386150632100565), (4182, 0.0036384885332975936), (838, 0.0036362458209731963), (1705, 0.0036354165007543475), (4046, 0.0036353070649636533), (4089, 0.00363407072667946), (2854, 0.003629566175841269), (3579, 0.0036295337946698975), (180, 0.0036239230398473136), (2427, 0.003620025476395576), (2104, 0.003620011906386391), (636, 0.0036183789443582958), (4523, 0.0036159090235842522), (1140, 0.0036121890385319285), (2600, 0.0036083794358944456), (2089, 0.003607298370070957), (1260, 0.0036043033174662864), (474, 0.0036023310862518965), (2255, 0.0036011482338132), (1229, 0.003598608380236874), (4045, 0.003597646055887432), (493, 0.0035975142070743295), (1866, 0.00359741494540532), (1537, 0.0035962578622761587), (2603, 0.003596093923762788), (716, 0.0035958207412610703), (1918, 0.0035942628407125716), (1571, 0.003594202064261607), (3623, 0.003584455123926486), (197, 0.003583188828230933), (3227, 0.0035795718045354146), (3233, 0.003578717578697571), (728, 0.003573244655693884), (1841, 0.0035683661103055302), (3018, 0.0035678385930607488), (1188, 0.003561472488508379), (4077, 0.003559553819441375), (50, 0.0035589931734076635), (1488, 0.003557258188202588), (2091, 0.0035553936638457687), (238, 0.003554431241023355), (2265, 0.003553322302900566), (3780, 0.0035529286154970204), (255, 0.003551116781824129), (4710, 0.0035510576385158693), (1507, 0.0035494033741117676), (2581, 0.0035459498720234552), (3645, 0.0035458587719846175), (2840, 0.0035445662874762415), (3293, 0.00354236012226101), (2962, 0.0035423464687020442), (1225, 0.003542201486190299), (930, 0.003541767519511449), (1306, 0.003540665033159888), (3453, 0.0035403295896671455), (2477, 0.003539229840266972), (1400, 0.0035373897105397), (4601, 0.003536686159900648), (3586, 0.0035348474868672646), (4490, 0.003534405325071541), (727, 0.003524711203317565), (924, 0.0035245630846965368), (3516, 0.003520215653851545), (4757, 0.003517022667790644), (580, 0.0035169896259323015), (539, 0.0035169640175683136), (4233, 0.003514880671031588), (10, 0.0035138621503243866), (3122, 0.003511873011800248), (3821, 0.0035114501194921256), (4154, 0.0035096721102083357), (868, 0.0035091122795074367), (1191, 0.003507971486453645), (3499, 0.0035073023603517115), (2188, 0.003506230843205807), (940, 0.003504697125864413), (3464, 0.0035045644482430203), (3571, 0.003503990793264002), (2061, 0.0035013697091614256), (2088, 0.00349633882943352), (1282, 0.0034958184857939102), (4098, 0.003495406768441524), (2635, 0.003494345807430934), (1014, 0.0034940047967459403), (769, 0.0034935027997987146), (1179, 0.0034913392973478295), (2879, 0.003487768508835024), (1973, 0.003487732576172235), (156, 0.003485964459412464), (660, 0.0034855074166973777), (3457, 0.0034827645014836347), (3696, 0.0034776460383770715), (1472, 0.0034671701355956344), (3316, 0.003465845177484184), (1069, 0.0034651082478449878), (3618, 0.003464320871729807), (3256, 0.003461165629558837), (2510, 0.0034574117411842443), (750, 0.003453279504630889), (3435, 0.0034523753665664817), (143, 0.003452307100610006), (2339, 0.003448306353630716), (3192, 0.0034448547607766255), (4008, 0.0034446934557168566), (4470, 0.0034404330655946856), (743, 0.0034373887985977205), (1138, 0.003437221670443653), (2881, 0.0034360347589006135), (217, 0.003434733691806276), (4719, 0.0034345099346677344), (1037, 0.003434491340818219), (980, 0.003433858392735686), (3259, 0.0034337182465219744), (563, 0.003433570808985298), (1931, 0.003430387291251536), (4707, 0.00343026085816126), (1083, 0.003428957831470142), (3245, 0.003428319976282571), (4581, 0.003426598745376445), (1174, 0.003425949978662338), (1484, 0.0034255460964230104), (4677, 0.0034211877010241745), (2933, 0.0034205240399007336), (139, 0.003418875670465201), (3008, 0.003418034285303868), (3409, 0.0034177407484068407), (3123, 0.0034167055283886314), (3460, 0.0034154953689703375), (367, 0.003413753042816628), (3303, 0.00340316410805596), (363, 0.003401701869444211), (3653, 0.0034012708997851575), (1071, 0.003400801202283611), (494, 0.003399623673169333), (4663, 0.0033977049749526786), (3436, 0.003397481360504816), (1375, 0.0033949000984140622), (2519, 0.003390795125569578), (4001, 0.003390268290337146), (1536, 0.0033900836164195308), (748, 0.0033875213441566954), (3032, 0.003386670592969179), (3876, 0.003386462241551036), (1486, 0.003385009808440061), (1811, 0.003384074032280455), (1902, 0.0033835021746107152), (413, 0.0033782357361912953), (2069, 0.003377076035772471), (4430, 0.0033756688658749074), (1738, 0.003375258251190224), (1223, 0.0033744238516504503), (880, 0.0033730115382881523), (3501, 0.0033715290098971693), (4289, 0.0033695773985530563), (2363, 0.003368805943204996), (1735, 0.0033675648085231846), (4196, 0.003364626693005213), (1797, 0.0033640649798286526), (1001, 0.0033633693303501714), (34, 0.0033621818120675474), (4699, 0.0033568272906879288), (1044, 0.0033555480239063863), (3149, 0.003352022781807392), (3458, 0.0033467945280176263), (869, 0.0033460956394186646), (256, 0.0033441717960882847), (1760, 0.0033435539037596877), (81, 0.0033408447349494814), (340, 0.0033399040702271755), (2304, 0.003336802862721773), (1144, 0.003336734827826965), (3624, 0.0033361324055592905), (301, 0.0033337075845404334), (4517, 0.0033318222992773407), (42, 0.0033292299440877615), (386, 0.0033211327989376756), (1911, 0.003320546350539693), (1448, 0.003320107372061608), (3531, 0.0033193818675292894), (981, 0.003318203281088989), (4591, 0.0033167366809061316), (1123, 0.0033158144981491134), (908, 0.0033141031049553466), (2897, 0.0033137189811766896), (696, 0.0033117011948877086), (1125, 0.003311545673011576), (2606, 0.003308102859709963), (752, 0.003307409804561045), (2348, 0.0033062638754215046), (4299, 0.0033055341490854885), (581, 0.0033052439978867856), (1644, 0.003303958118622693), (1433, 0.0033017906091819616), (1555, 0.0032965126619345616), (744, 0.003295497194425739), (1608, 0.0032917625515728388), (1908, 0.003287195822050694), (4163, 0.0032853337696123874), (4715, 0.0032840825572237895), (4094, 0.003280668653798611), (2778, 0.003279286111814968), (2428, 0.003278850900083007), (31, 0.003277439391704465), (2833, 0.003277274467745337), (3899, 0.003276969853282152), (600, 0.003275480712318496), (1076, 0.0032701581346772394), (4593, 0.003267463656342676), (3515, 0.003266386334401819), (3680, 0.003264210014901795), (4184, 0.00326350517498122), (4388, 0.00325975321777604), (3648, 0.0032590705347781334), (671, 0.003258239516788389), (4118, 0.003258085613844706), (4249, 0.0032564735161537636), (2101, 0.0032506030144864315), (910, 0.0032499091752101928), (1213, 0.0032485681278928485), (131, 0.003247142140133215), (122, 0.0032463229580745414), (1172, 0.003245556395907449), (4099, 0.0032450063683296224), (4656, 0.003241889518890227), (422, 0.0032417600742109557), (1111, 0.0032412667361665713), (2724, 0.0032400198434681038), (63, 0.0032377893024545922), (3705, 0.003237391618251739), (4284, 0.0032367347347117903), (1388, 0.003236656407479214), (3727, 0.0032359066373572384), (159, 0.003235198926214196), (1653, 0.003234597725695504), (3452, 0.0032327211385680295), (3926, 0.0032304013762014215), (804, 0.0032294396615406493), (232, 0.0032262685182098527), (4061, 0.003224799597834186), (2873, 0.0032242527787788213), (1816, 0.003221065535943173), (2691, 0.0032179506957575187), (521, 0.0032160921250123436), (2184, 0.0032149634963690543), (3521, 0.0032112414569873786), (4282, 0.0032110504312893003), (2899, 0.0032095047713981053), (3125, 0.003206519895234698), (2239, 0.003205189053446736), (1867, 0.0032047923071274755), (1770, 0.0032032598143939815), (4303, 0.0031949220018624475), (991, 0.003191770779282955), (2580, 0.00319086672833316), (4210, 0.003190659613351186), (1329, 0.0031886806930531684), (834, 0.0031869712104674454), (642, 0.0031864408521777533), (2949, 0.0031862282850289164), (4133, 0.0031842749966900816), (1094, 0.00318365183468426), (4309, 0.003179999582365124), (4351, 0.0031787857836239448), (3066, 0.0031784496302350246), (923, 0.0031774742098495895), (617, 0.0031771967201259304), (3570, 0.0031755599259600097), (4092, 0.003168508253673613), (1231, 0.003168249943123437), (300, 0.0031679809594317896), (3112, 0.0031652151553936457), (4629, 0.00316481008192652), (3487, 0.003164348723962495), (1790, 0.003164247358709281), (1425, 0.003163400077862447), (56, 0.003158088428822781), (503, 0.003157310326455128), (1849, 0.0031548447051839056), (1819, 0.003151445259828396), (2160, 0.0031510038649649346), (230, 0.0031505370332845627), (2503, 0.00314938613945298), (1964, 0.0031444736020207692), (2496, 0.0031407387838801753), (1330, 0.0031395218422986047), (22, 0.003139425710494819), (1737, 0.0031365850370523463), (1307, 0.0031364555726224783), (1718, 0.003134761848063328), (2175, 0.0031338000275198366), (1627, 0.0031335872147051184), (835, 0.0031327930118994875), (1501, 0.0031310231568618617), (2732, 0.0031299755152610713), (1414, 0.0031296813330796034), (3841, 0.0031295856434921778), (3704, 0.003123598204726522), (3195, 0.003121371940681607), (1345, 0.0031211668115188355), (3998, 0.003120990990258862), (1041, 0.0031200912185169547), (745, 0.0031158269737182756), (2825, 0.0031152731123707377), (3152, 0.003115209332579333), (4013, 0.003112707627730662), (263, 0.0031086518407603065), (2202, 0.0031034371812637433), (862, 0.003100776372945642), (3288, 0.003100618257249196), (1526, 0.003098976601549094), (4367, 0.0030970562380356575), (4661, 0.003093626676157221), (1818, 0.0030919962468587405), (4670, 0.003088166716022373), (4579, 0.003083817513142866), (4459, 0.003082997364668363), (1504, 0.0030827927068436335), (3666, 0.003081277512412707), (3265, 0.0030776904247895257), (1250, 0.003074599594340452), (1356, 0.0030730881035353624), (224, 0.0030724272706467055), (1374, 0.0030708195947307033), (1583, 0.0030686656430969884), (4431, 0.0030676949116835396), (3039, 0.00306692834913548), (311, 0.003063504563251636), (3658, 0.003059446322548916), (4564, 0.0030577828456702814), (4432, 0.0030554446853123594), (3734, 0.0030542453400558968), (1981, 0.0030490728843296077), (1462, 0.0030489690597078137), (2205, 0.003048518926960035), (571, 0.0030478497983892046), (9, 0.0030476888114246794), (3033, 0.0030428396102634057), (4738, 0.003042222888569544), (4110, 0.0030413667848664004), (3910, 0.003038401709593311), (3864, 0.0030377754404172915), (1344, 0.003037276253758554), (758, 0.003036162889096679), (200, 0.003033798696032446), (3566, 0.003032840806814207), (2994, 0.0030268777063513995), (4390, 0.0030258816665567744), (2726, 0.003019835246234218), (35, 0.003018899832939057), (3632, 0.00301808163375148), (3474, 0.0030172548563238187), (1913, 0.0030172195017932335), (1903, 0.003016919959603799), (4467, 0.003015723674508971), (2058, 0.003014937038897698), (863, 0.003012402778947762), (2031, 0.003010947049397461), (2355, 0.003007239746136647), (3865, 0.00300645173320982), (644, 0.0030032970450226282), (641, 0.002996860382519132), (958, 0.002996395291544424), (2708, 0.0029929923053267802), (4226, 0.00298805852807934), (1664, 0.002981454071339266), (1214, 0.0029762637710123124), (778, 0.0029761813579301795), (1177, 0.0029738594281739166), (1552, 0.0029719972016631234), (3342, 0.0029715107698892254), (4055, 0.002971443760226972), (2203, 0.00296523868079962), (821, 0.002963189221343023), (562, 0.0029606767392704693), (1987, 0.0029578942862846214), (4522, 0.002957686589496721), (1267, 0.002945484913104259), (2095, 0.002944180391474299), (1238, 0.002939363697998837), (608, 0.0029362621938294345), (2344, 0.002935664786783103), (1746, 0.00293227013761543), (583, 0.0029283087581639857), (1692, 0.0029219344336985486), (2444, 0.0029172206150122064), (3594, 0.002913413119801258), (248, 0.0029091203204535017), (953, 0.002908411656395216), (3309, 0.0029070829843081034), (3842, 0.0029027783772278266), (4217, 0.0028918942409747587), (1327, 0.0028859858769336006), (497, 0.002881943540998255), (2291, 0.0028764415440999174), (3114, 0.002873847422332195), (2156, 0.0028735169726001324), (369, 0.0028698917679196544), (2335, 0.002865953856937195), (2816, 0.00286470836156757), (3909, 0.002855173497457094), (3164, 0.0028547187337978827), (4733, 0.002839454507297788), (4272, 0.002831928671484225), (568, 0.0028313848506403795), (2056, 0.0028285534596488833), (2774, 0.002820376348077027), (2098, 0.0028201845830101795), (3244, 0.002817659837083489), (3331, 0.00281485313332236), (2935, 0.0028094674085298115), (2185, 0.002807895121094397), (3509, 0.0028044294664511197), (2424, 0.0028004779805086057), (3035, 0.002794974483941479), (1453, 0.0027946625814285466), (2665, 0.0027888460279217532), (4009, 0.00278623478770961), (1892, 0.00277860982945899), (3349, 0.0027601406683237517), (1715, 0.0027582435211654923), (1695, 0.0027568472117024552), (3598, 0.002745073803800951), (2614, 0.0027434724422831518), (3825, 0.002740322391457921), (2022, 0.0027363785345793515), (1684, 0.002728634124143614), (4236, 0.0027148208165656915), (4385, 0.0027016914341765784), (477, 0.0026993119042827037), (2113, 0.0026917894911755824), (3748, 0.0026711079970945), (3185, 0.002664297948876148), (1065, 0.0026598462267386604), (3205, 0.0026540467304524092), (16, 0.0026499490762925803), (1863, 0.0026490577373541693), (1316, 0.002642285423747976), (3940, 0.0026375699268599553), (4261, 0.0026274567825254973), (512, 0.002622630947710553), (4342, 0.002616126881051116), (155, 0.0026003623730611303), (3391, 0.002593906194775919), (3752, 0.002586393201112621), (336, 0.002565432610445244), (861, 0.002557429563838137), (2388, 0.0025529262802837754), (2064, 0.0025389243958884406), (1939, 0.00253274882787802), (4726, 0.002531647341990679), (2324, 0.0025272532531543713), (177, 0.002526695463785858), (414, 0.0025264117601716796), (3721, 0.0025177105658976996), (4057, 0.0025093956334372126), (4076, 0.0024677819506596843), (3715, 0.002462755948783182), (831, 0.002461613998111803), (4674, 0.002460926490814863), (4653, 0.0024608578636960824), (2576, 0.002453805882704764), (996, 0.0024536520096843234), (561, 0.002447901907230068), (4691, 0.0024447305408784514), (666, 0.002441741825261233), (2809, 0.0024416000769678313), (4208, 0.0024394016522726056), (550, 0.0024336822161714323), (2439, 0.0024320989116376596), (4646, 0.0024233856472829682), (4462, 0.002422258801255769), (2626, 0.002421937766779723), (128, 0.002417182752171752), (2567, 0.0024153773315071037), (2012, 0.0024126835182133235), (4373, 0.002412119286646237), (3774, 0.0024090502688133134), (6, 0.0024079622302274374), (69, 0.0024077633989901992), (4464, 0.0024051244553137834), (3744, 0.002402455973516152), (1661, 0.0023995673561760977), (2426, 0.002396592678002363), (3448, 0.0023942668514888394), (1881, 0.0023889921044243693), (3180, 0.0023879615780125207), (1381, 0.002387065877931933), (3049, 0.0023836689492096382), (425, 0.0023763654709443222), (1941, 0.0023753756961204246), (855, 0.002374534126438323), (4090, 0.0023742195404220542), (793, 0.002370821961965807), (4119, 0.0023699376664416804), (919, 0.002369516712120864), (3022, 0.0023668171169066226), (1614, 0.002364834735473648), (3975, 0.0023648138896525256), (2181, 0.0023568000919844995), (513, 0.0023557519727943296), (3451, 0.002353969674315066), (3440, 0.0023534530154495346), (1952, 0.0023509421369893673), (3782, 0.00235065208682846), (3502, 0.0023500498817654886), (168, 0.0023464028651489144), (4518, 0.002343595297873564), (1940, 0.002343320678506033), (4527, 0.002336102940449582), (3134, 0.002334390638500093), (4240, 0.0023319152605944583), (3997, 0.0023312135132715316), (765, 0.00233063595646097), (4666, 0.002329998608262887), (3584, 0.002326677804361675), (303, 0.0023259198538159685), (3604, 0.0023246941808949466), (2960, 0.0023238411097223316), (1150, 0.002323150020323498), (3710, 0.002322731593835708), (4103, 0.002321161634861248), (1998, 0.0023206144460345894), (3163, 0.0023180554713826576), (4162, 0.0023157484572227743), (380, 0.002313622804955203), (3468, 0.002313275367014397), (320, 0.00231123166212964), (3161, 0.0023112054528067927), (687, 0.002308902187360295), (1732, 0.0023060045654872854), (239, 0.002305157612897257), (1829, 0.002305049676387332), (3191, 0.002301717641541276), (1659, 0.0023014512801022855), (3844, 0.0022999473430299487), (1962, 0.002294906049792492), (4219, 0.0022939107280463326), (3398, 0.0022915524418599446), (802, 0.002291109179986548), (3769, 0.0022908215601517594), (3367, 0.0022905538034039886), (39, 0.0022903900352620236), (102, 0.0022871295064797437), (4047, 0.0022870109737800205), (595, 0.002286677690970181), (3158, 0.0022844363310576955), (3897, 0.0022842335907360986), (3932, 0.00228325201069039), (3168, 0.002282795890740764), (1575, 0.0022812292877320414), (3131, 0.002279754427053696), (2015, 0.00227686057490719), (2208, 0.002272029508331459), (1554, 0.0022717557042911305), (1469, 0.002269219134341185), (460, 0.00226707611039348), (3942, 0.0022666335078175026), (1859, 0.0022661194691510618), (1332, 0.0022658188290961335), (2044, 0.0022636813412202157), (27, 0.0022598050303308395), (4392, 0.002259337558222205), (4639, 0.0022592296654672323), (4039, 0.002258869462075645), (3602, 0.002258516660590638), (2790, 0.0022579178129420964), (619, 0.0022559678946104337), (3588, 0.002255704014457339), (2273, 0.0022551718702760793), (4678, 0.0022492069315719976), (2660, 0.0022476662382137046), (2136, 0.002246099584319779), (3263, 0.0022457293190274374), (685, 0.0022451854119270812), (1531, 0.0022450420661329746), (2130, 0.0022446737587938324), (1380, 0.0022407520384260136), (3881, 0.002239931564635364), (3124, 0.002236929825774624), (3179, 0.002233878129237327), (4376, 0.0022335892204196606), (1724, 0.0022328998608856254), (4211, 0.002232716857621105), (2847, 0.002230969593790342), (4091, 0.002229607102813613), (4537, 0.0022294157688630832), (4120, 0.0022284220150053965), (661, 0.002226901271515347), (1280, 0.002224920140449954), (1426, 0.0022218214747800617), (3938, 0.0022185316889641146), (420, 0.00221672809774145), (2733, 0.002215965270133702), (1435, 0.0022154761430530387), (902, 0.0022149840460128772), (891, 0.0022138395890057114), (4630, 0.0022131467465635905), (4642, 0.002213122429126107), (2947, 0.0022130463958085363), (4312, 0.0022129676645157264), (4384, 0.0022119113379446774), (4248, 0.0022097697553928914), (347, 0.0022084807319485986), (4307, 0.0022081988234417004), (2328, 0.0022080850735648632), (3133, 0.0022068379791088917), (2283, 0.0022062466872930326), (1167, 0.002206071144077579), (1901, 0.0022053209290617765), (95, 0.0022051599545965606), (93, 0.002203264261344704), (690, 0.0022032176336126154), (3432, 0.002202325852329781), (4275, 0.0022017745414019013), (2711, 0.0022015767908591787), (1588, 0.002200857620675942), (3907, 0.0022005302942758485), (4377, 0.0022004182101624044), (451, 0.0021995879598661378), (2819, 0.002198003894171764), (4552, 0.002196761885798013), (3787, 0.0021963244938491976), (389, 0.002194589928800577), (2084, 0.0021935765732889246), (3555, 0.0021899601728417304), (633, 0.0021898723167959717), (3520, 0.0021896240567400517), (2245, 0.002188604764584245), (1127, 0.0021857997763806577), (467, 0.0021849014170434934), (4621, 0.0021837195261235373), (3247, 0.0021837178187792392), (3100, 0.0021830250626162432), (135, 0.0021823813251873165), (2278, 0.0021823111396162814), (4331, 0.0021821525530135778), (1391, 0.002181130180320289), (1587, 0.0021809851274208385), (514, 0.0021795182200731534), (152, 0.002175338840202275), (992, 0.002174213534538723), (1082, 0.0021724806763143687), (1458, 0.00217149042873553), (2683, 0.002170485921523846), (1158, 0.0021703748279098102), (2476, 0.002169072481467202), (4595, 0.0021674420965035954), (2314, 0.002166901238974261), (220, 0.0021653434799505326), (305, 0.0021632412950797915), (3438, 0.0021573114759711994), (94, 0.0021557183292119893), (241, 0.00215486036495436), (375, 0.0021524243187832502), (4365, 0.002151032891770627), (4328, 0.0021491608176361816), (1791, 0.0021464033536060623), (4285, 0.0021460696070668642), (90, 0.0021432761125685924), (3995, 0.0021429272221067655), (2246, 0.002139761680346961), (189, 0.0021397343888650147), (4360, 0.002138225479818143), (1933, 0.002137663358184693), (1930, 0.002137199705364464), (3513, 0.0021343419158284006), (118, 0.0021340983993097533), (1431, 0.002132285959591101), (1502, 0.0021282983558881053), (3117, 0.00212699356491492), (3823, 0.00212653459778397), (3970, 0.0021244313707887226), (2232, 0.002122828616859374), (997, 0.002119602591659287), (1904, 0.0021179704418938993), (2506, 0.0021172761226988697), (849, 0.00211543704219329), (3583, 0.002115279790158666), (1562, 0.0021144811474815796), (2959, 0.0021135105703955046), (3833, 0.0021134342055776838), (3404, 0.002112985657504855), (2231, 0.00211090099695195), (1993, 0.00211040003679173), (426, 0.0021047453175518397), (80, 0.002104470514948136), (2787, 0.0021043756815418545), (1181, 0.0021038369278662183), (3443, 0.0021023964455010153), (1772, 0.0021017933591024334), (3011, 0.0020999734593529825), (30, 0.0020972739749145434), (1154, 0.002096718722901263), (1622, 0.002096138607841242), (1281, 0.0020957585696346763), (2682, 0.0020955902706411163), (397, 0.0020936904123552307), (1975, 0.0020895077929372315), (810, 0.0020870141799881245), (4698, 0.002085327084038454), (1840, 0.0020846852361795644), (3814, 0.0020839795422615912), (3966, 0.0020821949772008223), (4708, 0.002081837485608571), (4586, 0.0020792182370914995), (2599, 0.002077794356689829), (3126, 0.0020776245689574616), (1207, 0.0020775135141523036), (2442, 0.0020774253893129165), (4383, 0.002077373603437986), (3005, 0.0020739574229404487), (1910, 0.002072773751746861), (233, 0.002070338159081572), (1925, 0.0020702119619835442), (4071, 0.0020698813677604406), (1120, 0.00206962460941868), (315, 0.00206945567304159), (3135, 0.0020677073702435093), (4515, 0.0020670067333383936), (634, 0.0020660077875793662), (4142, 0.0020658154846325298), (811, 0.0020658153006472614), (1452, 0.002065475113198666), (2330, 0.002061737045223963), (4438, 0.0020612417704409377), (1480, 0.002059874038906181), (2801, 0.002058877021640691), (3664, 0.00205862869670103), (3815, 0.0020579958214108356), (3339, 0.002056774283579551), (723, 0.0020553601494151933), (323, 0.002054586429630518), (738, 0.002052218217732552), (3143, 0.0020521231290371905), (1590, 0.002050828475947434), (639, 0.002050140646913086), (1430, 0.002048676860206618), (1784, 0.002045739488409942), (4746, 0.0020454635287902355), (1164, 0.002045329154677585), (1573, 0.002042412120164791), (1635, 0.0020395512500806564), (4274, 0.00203897008466411), (893, 0.0020378573448879417), (932, 0.0020366257790000175), (260, 0.0020361017241682295), (3886, 0.002035162326094205), (4251, 0.0020350347866731917), (4514, 0.002034983185833867), (803, 0.0020336669731263824), (4043, 0.002029533806561036), (1566, 0.002028329820548377), (3136, 0.0020280910716550995), (3484, 0.0020263798612450063), (1846, 0.002025785160748658), (310, 0.0020257571132448696), (1428, 0.0020212858581265384), (2700, 0.0020197759848052535), (3802, 0.002016259458062297), (1632, 0.0020161159628733277), (1211, 0.002015281815933768), (4585, 0.0020152811897493584), (640, 0.0020123324013817255), (4697, 0.0020051508038594302), (1449, 0.0020051280450370285), (3361, 0.002003473036236467), (3908, 0.0020034703982365), (625, 0.0019990722825605875), (1953, 0.001998056427989711), (1309, 0.001996336996071976), (3576, 0.0019954976283879243), (898, 0.001994659742605695), (1347, 0.00199297325604856), (1633, 0.001992579825538407), (1451, 0.0019918990478641966), (4441, 0.0019882210813655754), (4468, 0.001987237075578934), (306, 0.0019861321752694706), (756, 0.0019858684673955585), (1576, 0.001985315605905489), (4310, 0.0019851232433045107), (1857, 0.001983758535992332), (4264, 0.001982905768275003), (475, 0.001980023124843848), (627, 0.00197520523510646), (1197, 0.0019721611284718335), (2432, 0.0019690453908043533), (1559, 0.001965505198074458), (2991, 0.001962334719144024), (2139, 0.0019562850849261957), (974, 0.0019531052085540524), (1914, 0.0019512410269666625), (1631, 0.001949096332314702), (4339, 0.001948647812739784), (4290, 0.0019486341760366747), (3534, 0.0019453569397499748), (187, 0.00194516749530776), (3619, 0.0019355500269009767), (3160, 0.0019332971708886605), (1530, 0.0019326117856763997), (4582, 0.0019293054723014673), (3723, 0.0019233661063720402), (1699, 0.00192318410253739), (316, 0.0019219996014695245), (3824, 0.0019196611485293971), (191, 0.001917515862596387), (927, 0.0019158922465302242), (4587, 0.0019104997022276634), (4322, 0.0019104591602053852), (4548, 0.001909846363826983), (4044, 0.001909187327245794), (4665, 0.001907873678141376), (2573, 0.0019066172118341184), (2984, 0.0019060186150958358), (234, 0.0019036175391264763), (559, 0.0019033831363551663), (3338, 0.0018937270361967433), (4292, 0.0018935165541075342), (2541, 0.0018919774812051439), (3405, 0.0018859372867787215), (3989, 0.0018837984430447512), (3495, 0.0018775873734905581), (1395, 0.0018699390631304615), (3788, 0.0018649831805384643), (3079, 0.0018607341430145878), (1623, 0.0018606272326662833), (611, 0.001858175888256457), (1753, 0.001850802123252905), (2078, 0.0018505255737985681), (4193, 0.001846761593778916), (314, 0.0018466760602647272), (77, 0.0018447891640510179), (4151, 0.0018163726003439821), (3776, 0.0018112999996238498), (76, 0.0018018327242390296), (1546, 0.0017932015630828613), (469, 0.0017916361530947575), (1210, 0.00177523341869965), (4426, 0.0017617607975553523), (4555, 0.0017548002198791493), (289, 0.001751443568937711), (295, 0.0017507315648857067), (4513, 0.001749652881917898), (2678, 0.0017332565738736928), (2326, 0.001732485770085036), (1153, 0.0017320672431482425), (3806, 0.0017267208630159393), (290, 0.001721295671613655), (3944, 0.0017185360219813888), (294, 0.001712613381601257), (2299, 0.001645089587197167), (4607, 0.0016120502750993201), (3512, 0.0015751205489124352), (3257, 0.0015738523559590246), (3672, 0.0015592614834133882), (4705, 0.001533091095813653), (4082, 0.0015276256260676924), (3537, 0.0015228248867027272), (3178, 0.0015166331352059925), (4571, 0.0015015135059090734), (2998, 0.0015014257358786911), (1168, 0.0015001671766572417), (3419, 0.0014960607010286557), (2832, 0.0014958892721773347), (3925, 0.0014903233844339185), (3506, 0.0014803445384787923), (3878, 0.0014720514446683668), (2775, 0.0014632604473499584), (4407, 0.001461108583206534), (3302, 0.0014565627472452082), (3291, 0.0014414706528762971), (3523, 0.0014323246249090549), (3561, 0.0014310280289000896), (735, 0.0014245121660650182), (2757, 0.0014218048947906646), (2937, 0.0014211262894390081), (3911, 0.0014207541648852632), (2286, 0.0014205951234799931), (4529, 0.0014201361038536748), (2189, 0.0014187162566921833), (3055, 0.0014178343316128953), (3219, 0.0014170374609117778), (448, 0.0014138542740490998), (1121, 0.001402351205157461), (2529, 0.0014015613824074212), (2349, 0.0014015601867446077), (889, 0.0014009785204517186), (3577, 0.001397741812766601), (3051, 0.0013967505446590975), (4107, 0.0013963627922082714), (2530, 0.001393051631893307), (1748, 0.0013922774815883423), (4484, 0.0013916339969665377), (4017, 0.0013908931347103156), (4633, 0.0013884919557382157), (235, 0.001386642734394968), (318, 0.0013857578482273567), (1711, 0.001385744864850026), (1169, 0.0013831035157463652), (1145, 0.0013784057534472018), (2764, 0.0013771985330384053), (1349, 0.001376908081672076), (2722, 0.0013756482769547197), (614, 0.0013747036780211593), (4113, 0.0013740941307588952), (2199, 0.0013732700305901203), (2320, 0.001371851264823051), (2696, 0.0013701596964650032), (3159, 0.0013700515366910377), (3206, 0.0013696536296789077), (4202, 0.0013688667242330824), (2861, 0.0013683732584413453), (2379, 0.001368030318117712), (3140, 0.0013664790317760474), (2838, 0.001366339081301758), (1208, 0.0013652671440877796), (2989, 0.0013646977962719845), (2488, 0.001364465328478744), (1792, 0.0013640078856614122), (3745, 0.0013639869116623292), (3308, 0.0013638135229617641), (2870, 0.0013636243508599703), (3166, 0.0013623805396606836), (3616, 0.00136217919299371), (680, 0.0013612982680041373), (2834, 0.0013612980131423595), (3358, 0.001359751724775229), (326, 0.0013577853497375935), (2628, 0.0013572556957730329), (4019, 0.001356444068483821), (4704, 0.001356121757591352), (2720, 0.0013555989956143442), (3935, 0.0013542599346812562), (3186, 0.0013539106747786187), (4102, 0.0013518573467229068), (3139, 0.0013511788276503937), (3357, 0.001350632133359785), (2883, 0.0013492954471716553), (2404, 0.0013479870445629795), (1474, 0.0013475959279090812), (2559, 0.0013462773937584248), (3282, 0.0013460827154250974), (4172, 0.001343949435464739), (1580, 0.0013439390276033317), (2923, 0.001342859139080423), (526, 0.0013427350346305118), (4267, 0.0013425529388303185), (3026, 0.0013422543397462196), (1594, 0.0013419887722078538), (2490, 0.0013399745300738397), (2438, 0.0013397797803010884), (2137, 0.0013397111818406718), (2537, 0.0013391468939843235), (3540, 0.0013377725660963715), (2266, 0.0013367846750002672), (2392, 0.0013364922671336085), (3915, 0.0013355470260012112), (4130, 0.0013353771096149612), (985, 0.001335298387850632), (1518, 0.0013339996271885342), (2585, 0.0013334026309908286), (3479, 0.0013332720707574768), (3230, 0.0013322238661171153), (2223, 0.0013318551619998843), (2858, 0.0013317803070537313), (3040, 0.0013316129142034569), (489, 0.0013309814392290322), (1547, 0.0013297815547173054), (739, 0.0013288127461717257), (3413, 0.0013284110101907012), (2557, 0.0013278811068622503), (1733, 0.0013277340686545062), (456, 0.0013266757814519032), (4280, 0.001325663574417339), (3292, 0.0013253063333218663), (3611, 0.0013251042648205408), (4606, 0.0013249445716837715), (2738, 0.0013245605934607617), (1890, 0.0013241123367867718), (3763, 0.001323524801834145), (4132, 0.0013233229635214575), (2857, 0.0013233105343063442), (308, 0.0013225988539144861), (3587, 0.0013221564306971157), (2884, 0.0013220616892527766), (3497, 0.001321942982234801), (576, 0.0013188247753247123), (4535, 0.001318217138417115), (3990, 0.0013172437559411283), (857, 0.001317233061690626), (3493, 0.0013167690904437451), (3866, 0.0013167543338599862), (4101, 0.0013162635395793437), (3030, 0.001315127636641977), (999, 0.0013148743818168632), (3182, 0.0013145379978122243), (3606, 0.001314516609930254), (2251, 0.001314232084400235), (1479, 0.0013141958114438852), (4584, 0.0013135336178411471), (4355, 0.0013132023669500505), (2407, 0.0013127311658089034), (4306, 0.0013126024243339449), (4753, 0.001312393936113173), (3396, 0.0013117810342398114), (3877, 0.0013116348531140673), (1887, 0.0013103318743826486), (2830, 0.0013093339797797684), (4222, 0.0013090065026689884), (3262, 0.0013087901257410363), (2901, 0.0013085436257718962), (4423, 0.0013074504978294408), (1896, 0.0013069932801521454), (2889, 0.0013068979496652625), (41, 0.0013068819344917541), (887, 0.0013068470049962166), (3042, 0.00130662865063414), (1765, 0.0013057970203702064), (2797, 0.0013057188273997305), (4147, 0.0013055785372535925), (2878, 0.001305076965372479), (11, 0.0013049731555616207), (2619, 0.001304482261137683), (865, 0.0013038624603667866), (3128, 0.0013032940818136576), (1187, 0.0013031605200010915), (3148, 0.0013029665204189133), (4051, 0.0013022789445357433), (4495, 0.0013018902322700276), (3621, 0.001300745092655087), (2570, 0.001300629675207254), (4696, 0.0013003795936505458), (3593, 0.0012993384827366622), (246, 0.0012992686470006786), (2310, 0.0012985962216641703), (3639, 0.0012977705251137198), (4446, 0.001297361163712505), (3564, 0.0012972804177798958), (4418, 0.0012964041889790298), (4650, 0.0012962630097490184), (4692, 0.0012960820461241547), (3737, 0.001296020772800522), (3031, 0.0012954184100599617), (2108, 0.001295090345808303), (777, 0.0012950665435589865), (4428, 0.0012950124043565718), (1109, 0.0012933651666468835), (2313, 0.001293166713090099), (1355, 0.0012931525704233263), (2609, 0.001293137728161143), (2848, 0.0012928933064671577), (2415, 0.0012921931879305761), (431, 0.0012916062414197419), (2987, 0.0012915243135067104), (2610, 0.0012912851751904861), (3762, 0.001291095802859101), (1666, 0.0012909591274604694), (2269, 0.0012909586840859943), (774, 0.0012908824716531422), (444, 0.0012908131306637069), (2895, 0.0012906543339332131), (2924, 0.0012906412961413106), (4117, 0.0012899247185543914), (2629, 0.0012898305301569557), (3414, 0.0012895611977905039), (3620, 0.0012892388520956148), (2141, 0.0012888389345041364), (4611, 0.001288606446962497), (890, 0.0012882981815106613), (508, 0.0012882516867754469), (4420, 0.0012876362716606163), (1959, 0.001286954859572103), (4083, 0.0012868410778897263), (3322, 0.0012865219493737171), (4749, 0.0012863512274899117), (813, 0.0012862183544632133), (395, 0.0012861480807025165), (3013, 0.0012858376959748088), (2083, 0.0012853384228568032), (2176, 0.0012849151303251758), (3449, 0.0012846488711171634), (3364, 0.001284058471112969), (2410, 0.0012838794409967122), (1656, 0.0012835067590395068), (2192, 0.0012834909330555267), (499, 0.0012832331249703855), (1122, 0.0012831333457471248), (1007, 0.0012827904162585997), (3052, 0.0012822440618784267), (884, 0.0012820174758964545), (3239, 0.0012814583447340307), (419, 0.0012813562153539775), (2731, 0.0012811103278795595), (2802, 0.0012805896183962794), (2957, 0.0012800906323499094), (2142, 0.0012799015560719402), (1533, 0.001277990175834333), (1637, 0.0012775230660199443), (823, 0.0012774346613712699), (1131, 0.0012772444946069744), (1907, 0.001276062077598966), (3271, 0.0012755645606834093), (2592, 0.0012753835943779828), (3003, 0.0012752622989913327), (1947, 0.0012751981007804371), (596, 0.0012743133638308032), (4221, 0.0012741347123311133), (2393, 0.0012737620526892964), (2448, 0.0012731940704789684), (20, 0.001272868150105697), (4135, 0.0012725496398077634), (476, 0.001272296854213353), (4397, 0.0012719949977706344), (192, 0.001271747541585782), (1848, 0.0012716297442720286), (4143, 0.0012710971407306865), (4139, 0.0012710443719659262), (3355, 0.001270912056381323), (4075, 0.0012707278470689583), (518, 0.0012706108290521509), (2888, 0.001270001106605911), (3882, 0.001268486235523912), (2166, 0.0012681958300364159), (1409, 0.0012678278608375215), (987, 0.00126779152897699), (3560, 0.00126748212477052), (1497, 0.0012661750132522095), (3654, 0.0012658010189571926), (2385, 0.001265796488304269), (2595, 0.0012657606309388959), (4245, 0.0012651366770707858), (3867, 0.001264972059660773), (3892, 0.0012645240196456945), (3015, 0.0012640704298409234), (2702, 0.0012640485064690345), (8, 0.0012638292570573482), (4401, 0.0012636967365055832), (4140, 0.0012635011541754916), (2257, 0.001263197977904294), (4333, 0.0012613657021461164), (2350, 0.0012609772539343542), (12, 0.0012609519451986413), (4574, 0.0012601721432725934), (998, 0.0012596873780261937), (4263, 0.0012595795705241202), (3967, 0.0012593106673380557), (2561, 0.0012592966992202351), (3194, 0.0012591554043653766), (612, 0.0012591529925905167), (1364, 0.0012587922144976188), (4036, 0.0012583347414534352), (3772, 0.0012580911059178652), (4550, 0.0012577461618565185), (373, 0.001257148479914957), (1294, 0.0012561345902369324), (4516, 0.00125563005402028), (2068, 0.0012551079812037885), (623, 0.001254986781724432), (749, 0.0012548863767677329), (4489, 0.0012547970635336436), (2419, 0.001254636963868919), (3283, 0.0012545072026519204), (4152, 0.0012538093252058887), (4717, 0.0012534965759199413), (922, 0.0012532922079657987), (2319, 0.0012530034674248464), (3290, 0.001252968701124509), (3893, 0.0012528203121607876), (1298, 0.0012528064947722615), (3363, 0.0012527527276890867), (215, 0.0012525040088116385), (3701, 0.001252441521969277), (3406, 0.0012523800623917382), (3101, 0.0012522947011982183), (3757, 0.0012522888644242512), (349, 0.0012521185795311782), (2882, 0.0012520886539631529), (2356, 0.0012512715594675448), (1574, 0.0012505656274284912), (4572, 0.0012495456883693857), (3429, 0.0012490913478400423), (2060, 0.001248973541073035), (731, 0.0012486231608534984), (4295, 0.0012485894329901897), (4054, 0.001247877741133391), (4544, 0.0012478359236923109), (4197, 0.0012470640896074477), (3150, 0.0012467745484981098), (3381, 0.0012467262013466389), (4471, 0.0012466260574963712), (588, 0.001246566916348273), (3792, 0.001245720659640011), (3445, 0.0012455333633335428), (872, 0.0012450439534377185), (2067, 0.0012449298364924952), (4230, 0.0012449007262566878), (4400, 0.0012447828506306719), (3116, 0.0012444926313915775), (253, 0.0012444393084032623), (2909, 0.0012443814645083685), (1742, 0.0012442876002121523), (4145, 0.0012441406336271173), (3677, 0.0012440468514178335), (3874, 0.0012440287726316719), (1822, 0.0012436933257293822), (2863, 0.0012433178801469448), (3873, 0.0012433125908764106), (969, 0.001243093168432281), (3939, 0.00124305466111378), (3081, 0.0012428678503442249), (3922, 0.0012425601683678012), (3544, 0.0012424247536901543), (2661, 0.0012416118037439116), (115, 0.0012414089005194765), (3845, 0.0012411335906505362), (1402, 0.0012407255194004398), (2390, 0.001240564473316072), (1893, 0.0012402796500471985), (154, 0.0012392769720058604), (2434, 0.0012388289003672913), (959, 0.0012385722391273857), (1176, 0.0012384543508690258), (2105, 0.0012383282933111374), (1027, 0.0012382855907524107), (852, 0.0012378465829099524), (2914, 0.0012376595166240958), (1805, 0.001237497793014228), (1002, 0.0012369801659813644), (3314, 0.0012367366972548793), (114, 0.0012364220471588676), (71, 0.0012361862536227528), (1284, 0.0012359570814714823), (3496, 0.0012358181858040465), (4416, 0.0012357839973496942), (3739, 0.0012353516494372952), (1456, 0.001235103765522151), (23, 0.001234495171711255), (4694, 0.0012344709797261582), (74, 0.0012334342122199474), (167, 0.001233203254071104), (3072, 0.001232808748245132), (3388, 0.0012324359957745566), (3337, 0.00123227473269401), (198, 0.0012321074129090577), (1319, 0.0012313147643491216), (541, 0.0012312464397825496), (564, 0.001231134749400578), (4298, 0.0012310808232911124), (791, 0.0012309968105773475), (4209, 0.0012308118558540448), (2643, 0.0012308050434449013), (490, 0.0012306013882403817), (1324, 0.0012302451889493846), (1969, 0.0012300458472340816), (3517, 0.001229853422013486), (2776, 0.0012298166924896686), (2894, 0.0012296862978399062), (2904, 0.0012294602017107214), (178, 0.0012291522842275866), (2535, 0.0012287476670320356), (3725, 0.0012283754336985888), (1204, 0.001228261254557262), (1909, 0.0012280303228334637), (2926, 0.0012280097257104845), (2134, 0.0012278980059370066), (2940, 0.0012271154062641768), (1170, 0.0012267211970992489), (1593, 0.0012262775326328781), (211, 0.0012243237162879769), (1411, 0.0012242352422389517), (854, 0.0012242311391095365), (1851, 0.001223950762436436), (2111, 0.0012236747462676227), (4680, 0.0012233836276430692), (1703, 0.0012232637384246565), (2340, 0.0012232018729689364), (1060, 0.0012230007618206358), (2673, 0.0012229625338822806), (4530, 0.0012228861484977292), (3673, 0.0012227925179483649), (2425, 0.0012227429494168), (1831, 0.0012224106455042988), (4356, 0.0012223111452370897), (4566, 0.0012222396941678167), (1663, 0.0012220891782266563), (3511, 0.0012218414812444661), (1049, 0.001221323755799989), (3613, 0.0012213032476530734), (3074, 0.001220923834437117), (3503, 0.0012202348670820396), (4259, 0.0012202019479464177), (2387, 0.001219780162751078), (2507, 0.0012193059233776228), (3848, 0.0012190477205236308), (3765, 0.0012188734697403062), (4369, 0.0012186963640845876), (2652, 0.0012183884658029682), (3354, 0.0012182827477426764), (3234, 0.0012177088330728452), (1503, 0.0012175903282489577), (3425, 0.0012175236335034338), (1862, 0.0012174788798185957), (1422, 0.001217473732487302), (2478, 0.0012172563766120685), (3832, 0.0012172038633620228), (3020, 0.001217101106699687), (2624, 0.0012170738982589515), (2437, 0.001217046850915142), (4575, 0.001216668172882123), (98, 0.0012161283869715554), (2872, 0.0012159199345127627), (4589, 0.0012158504024936225), (3064, 0.001215286395316085), (1026, 0.0012149509083051833), (4732, 0.0012146322005865784), (1641, 0.0012141305803663547), (2826, 0.001214126301027828), (4521, 0.00121410969750901), (1034, 0.0012132514815399282), (2430, 0.0012129243845523923), (2302, 0.0012123725583075727), (3754, 0.0012119418868398327), (1768, 0.0012109199967901341), (3729, 0.0012107987981721156), (2242, 0.0012106136949940707), (3987, 0.001210358835423591), (1516, 0.0012102991467753137), (478, 0.0012102241342121633), (2783, 0.0012101169910247187), (973, 0.0012101005787495242), (2792, 0.00121006147100166), (1247, 0.0012099629511135215), (2755, 0.0012095524602586318), (717, 0.001209388412144088), (2386, 0.001209368227548469), (2072, 0.0012092516863541345), (2260, 0.0012092020799575219), (4286, 0.0012086410573372702), (2230, 0.001208133485647816), (1416, 0.001207981762988227), (1813, 0.0012073922033651824), (1304, 0.0012070902053720849), (1929, 0.001206472346892544), (3687, 0.0012064049562605338), (3906, 0.0012063058240136962), (2400, 0.001206119200112056), (377, 0.0012056393523199457), (2402, 0.0012056110556622926), (348, 0.001204899716828312), (3184, 0.0012045414652125718), (457, 0.0012043085429868086), (871, 0.0012036607974711979), (4368, 0.0012035358333908313), (1921, 0.0012033316514460841), (4087, 0.001203097969015553), (3315, 0.0012023134685426294), (1660, 0.0012022196295445417), (3641, 0.0012016898605685354), (883, 0.0012016102185128214), (2765, 0.0012014777089461315), (587, 0.0012014419730813999), (2746, 0.001201293608618578), (2482, 0.0012007469102112782), (2569, 0.0011998567763592117), (2725, 0.0011995098272729243), (2190, 0.0011992079689225601), (2728, 0.0011985868906822024), (1916, 0.0011982600052187619), (325, 0.0011978228588539973), (2226, 0.001197641422360035), (3084, 0.001197578005462498), (2544, 0.0011972985747353293), (598, 0.00119695801424744), (4069, 0.0011968089405522799), (2354, 0.0011967859575053802), (3224, 0.001196680263062478), (4545, 0.001196460631696755), (4002, 0.0011963703661141663), (2911, 0.0011962145756959433), (522, 0.0011957504903839444), (66, 0.0011950942957851898), (169, 0.0011950658055658442), (2169, 0.001194847542929405), (1782, 0.0011947801646806698), (3441, 0.001194621993740323), (3183, 0.0011946073225066157), (2495, 0.0011945527742912054), (4175, 0.001194222710339495), (1439, 0.0011939156403905048), (856, 0.0011939014512464272), (3565, 0.0011937076496738917), (3804, 0.0011935362958347554), (1597, 0.0011934078785447802), (1550, 0.001193007471302261), (1499, 0.001192694835114318), (2378, 0.0011926470380568236), (1110, 0.001192592593455523), (4, 0.0011924863442812344), (4507, 0.0011922747334308984), (3220, 0.0011921917601883409), (3770, 0.0011917539967296698), (2268, 0.001191711957347282), (3902, 0.0011912814532755236), (2293, 0.0011912451451399893), (3781, 0.001191233536619663), (755, 0.001191204690602067), (1808, 0.0011903577658891247), (4594, 0.0011900887327086177), (1251, 0.0011898739073647158), (4169, 0.00118981843983236), (2845, 0.001189642821130107), (4723, 0.0011889925696306647), (388, 0.0011888899473345247), (1693, 0.0011885382290476108), (4049, 0.0011878452686255262), (2528, 0.0011878227796484023), (2423, 0.001186580648335109), (2974, 0.0011856468707332282), (4458, 0.0011853145989362606), (4563, 0.0011851752492634709), (3187, 0.0011850416784867151), (1617, 0.001185014733255197), (4174, 0.00118452535297085), (698, 0.0011844731089740847), (3478, 0.0011842963574963828), (2796, 0.0011838317333746282), (1404, 0.0011837468453346827), (4020, 0.0011835846611534114), (3289, 0.0011833048089662397), (3379, 0.0011831586914473346), (4262, 0.0011820119894539072), (2292, 0.0011813886431055389), (3326, 0.0011812991344043499), (2651, 0.0011810577494774054), (3216, 0.0011809739795961634), (1882, 0.0011809050955448501), (589, 0.0011807374909913486), (4479, 0.001180713847109344), (3491, 0.00118047731076627), (1717, 0.001180231281560336), (2552, 0.0011801794363448088), (2370, 0.0011794492946424506), (3563, 0.0011793692499738008), (1670, 0.001179123592826825), (4138, 0.0011790429182715488), (3274, 0.0011784254306174337), (249, 0.0011783030794965212), (1946, 0.0011776200396137859), (1372, 0.0011772065596010884), (1313, 0.0011769680039293124), (2461, 0.001176778519515886), (993, 0.001176728423449263), (2492, 0.001176654262982857), (4334, 0.0011766241797677693), (4136, 0.001176547202509787), (3691, 0.0011763815877813642), (247, 0.0011762308490408614), (524, 0.0011760037206630107), (4056, 0.0011757919442768813), (1980, 0.0011753718625887688), (1084, 0.0011747106356856567), (1598, 0.0011738636746882868), (324, 0.001173833152016683), (703, 0.0011735562456426597), (2411, 0.001173140054730538), (1891, 0.0011728466021198787), (3627, 0.001172749670341732), (2525, 0.0011727267029920444), (2623, 0.0011726189758102194), (1722, 0.0011720802418806072), (2953, 0.0011718937154643518), (4160, 0.001171807858951888), (1814, 0.0011717835547085276), (2397, 0.0011716197659103207), (2195, 0.0011713065712062225), (805, 0.0011708024102863842), (3241, 0.0011707948022058893), (1219, 0.0011706080962811157), (2945, 0.0011705435170270748), (3390, 0.0011705072321480747), (1286, 0.001170230151460165), (1645, 0.0011702103679325949), (507, 0.0011702042980671567), (3069, 0.0011701958468060103), (2422, 0.0011700442856351146), (3372, 0.001169991627696521), (3027, 0.0011697072272554608), (4354, 0.0011689795078502908), (3174, 0.0011685713749015887), (1476, 0.0011685237153427643), (848, 0.00116839620052178), (1463, 0.0011678312133108948), (2965, 0.0011675945357237797), (3417, 0.0011672740112426692), (3551, 0.001167022428318653), (3962, 0.0011670020393344319), (2073, 0.0011663915186860383), (286, 0.0011663252188369815), (127, 0.0011661606621587606), (2772, 0.001166153153374806), (2972, 0.0011661384252672404), (925, 0.0011660739242143514), (262, 0.0011660381391093197), (4345, 0.0011659062809195558), (4632, 0.001165484012803818), (3225, 0.00116525455791415), (798, 0.0011644983098665475), (3007, 0.0011644746233860851), (3749, 0.0011644743463808667), (4657, 0.001164458960372699), (2416, 0.0011644113495131558), (4625, 0.0011644017595245854), (4155, 0.0011643277746151894), (4487, 0.0011637821870532647), (4422, 0.0011635659859822844), (2240, 0.0011635289380148251), (2396, 0.0011631196939152644), (4394, 0.0011627810304427216), (3341, 0.0011625578358993617), (3477, 0.0011624007764338108), (1394, 0.00116225448168492), (1199, 0.0011616394448062844), (4501, 0.001161543616006065), (4448, 0.0011615251454748499), (3028, 0.0011613535471194324), (2612, 0.0011609685039606112), (2966, 0.0011608142094483077), (4269, 0.0011607629754620305), (759, 0.001160662348972761), (3300, 0.001160614852647357), (3071, 0.001160347187945466), (2800, 0.0011591919283026257), (1117, 0.0011590691502761604), (2970, 0.001158957419247913), (2533, 0.0011588999897514355), (1719, 0.0011588279925899548), (136, 0.0011587212040223961), (2664, 0.0011587135736822235), (2391, 0.0011585698389117525), (3412, 0.0011584716581323252), (3811, 0.0011583581744133672), (3678, 0.0011577277146344656), (3235, 0.0011576870403314347), (2004, 0.0011576684005796044), (4340, 0.0011576127595635708), (4686, 0.001156869957332267), (1706, 0.0011566323395643232), (4206, 0.0011566221563921737), (2117, 0.0011564230145946644), (1301, 0.001156181354889067), (3273, 0.001155501090939962), (4273, 0.0011548261689224553), (2159, 0.0011538678475927064), (2047, 0.001153812175788406), (504, 0.0011537586583113494), (2912, 0.001153578697143507), (4497, 0.0011535763592884275), (579, 0.0011532122344659647), (1036, 0.0011528558863179263), (4363, 0.0011527708849965038), (2986, 0.0011527695663216076), (4111, 0.0011516222495368941), (3238, 0.0011510430330831161), (1357, 0.0011508331760992703), (4015, 0.001150659208599019), (1318, 0.0011501508838735715), (1378, 0.0011500480643860552), (410, 0.0011499167991200607), (3359, 0.0011494234847185744), (4183, 0.0011492811774893523), (3269, 0.0011492373374234282), (3714, 0.0011490490906651578), (400, 0.0011490018405828917), (3614, 0.0011489720057833118), (4357, 0.0011480955994044493), (1079, 0.0011477538016988447), (2148, 0.0011477355998084594), (4129, 0.0011475461211899098), (4528, 0.001147244634892422), (505, 0.0011469977261728168), (1558, 0.0011466299575151277), (1634, 0.0011462000230364104), (1828, 0.0011461881737987998), (3336, 0.001145927218420116), (4427, 0.0011457541925560455), (355, 0.0011453486818881697), (3298, 0.001145315843905014), (3335, 0.001145183353300139), (4713, 0.0011445587990233244), (121, 0.0011444465400657986), (3809, 0.0011441046406668847), (278, 0.0011438359316321388), (473, 0.0011435631720059464), (3890, 0.001143235635747057), (659, 0.0011430628666593936), (1408, 0.0011426769647905242), (3813, 0.0011421973019909175), (2201, 0.0011418869453078367), (92, 0.0011414002052065988), (1088, 0.0011412513028265113), (2454, 0.0011400304367098462), (1995, 0.0011399030433153691), (1570, 0.0011397751197458753), (3307, 0.0011392300037354737), (2099, 0.0011384035621840082), (184, 0.001138342281344781), (944, 0.0011382366187587087), (1410, 0.0011382159292587328), (26, 0.001138149483214144), (4634, 0.001138134007485039), (3920, 0.0011381088876610797), (4687, 0.0011379406878019775), (2453, 0.0011376235176467507), (4308, 0.0011375739805501372), (1628, 0.0011374013401709202), (2531, 0.0011370905071837537), (4350, 0.001136721495264951), (2853, 0.0011365727380480673), (4024, 0.0011363751645201467), (4505, 0.0011359581716235577), (2466, 0.0011358289061460182), (1528, 0.0011357284418581869), (466, 0.0011355294406981491), (3601, 0.0011354824195180726), (1217, 0.0011353984687367882), (3889, 0.001134984034019102), (2892, 0.0011348152754036963), (1642, 0.0011344173148780492), (2993, 0.001133521348838528), (4126, 0.0011331846372309247), (2270, 0.0011330835742744724), (3884, 0.0011327104605254766), (815, 0.001132503816591008), (4520, 0.0011324760312047496), (4030, 0.001132105807793271), (2761, 0.0011319650022012706), (3706, 0.0011317394466387612), (3646, 0.0011312193958467691), (3113, 0.0011307391690789977), (3165, 0.001130191985296718), (2642, 0.0011301025949083377), (4643, 0.00112983479113234), (3044, 0.0011298137401962594), (4042, 0.0011290585661999457), (4472, 0.0011289921027209857), (4085, 0.0011288415005933962), (226, 0.0011287996016814265), (1943, 0.0011287720520428463), (2611, 0.0011285040447888291), (2367, 0.0011282674144527998), (2527, 0.0011280733881886028), (2705, 0.00112727527657898), (1905, 0.001127252978949291), (2361, 0.0011267264765047753), (712, 0.0011265346912215795), (1161, 0.001126197843374289), (2405, 0.0011260897582155227), (2213, 0.0011260273151355435), (4381, 0.0011260189007065878), (1163, 0.0011258723023374491), (3952, 0.0011257633824062964), (2753, 0.0011247256491021308), (2399, 0.0011247035160687458), (984, 0.0011246532924941732), (2999, 0.0011242541745878827), (4243, 0.0011242276506476332), (229, 0.0011240127029588484), (3402, 0.0011240088578906792), (1305, 0.001123832545958684), (4287, 0.0011228353837713344), (3434, 0.0011223646128828745), (3198, 0.001121821502408583), (3393, 0.0011216131896109565), (4330, 0.0011212264425053946), (2554, 0.0011211569160201782), (594, 0.0011207114154886072), (2131, 0.0011206387225560373), (767, 0.0011203275153318201), (1869, 0.0011200135481677503), (826, 0.0011194990683691174), (3651, 0.0011191829555632874), (3173, 0.001119024152994554), (1744, 0.0011176284615463537), (4161, 0.0011175083183940246), (2317, 0.0011167902388537025), (1100, 0.0011155383436781158), (4320, 0.0011154377127833037), (378, 0.0011154302098972026), (2786, 0.0011152672789606821), (886, 0.0011151554516252399), (1004, 0.00111511827318995), (1273, 0.0011147623250379955), (1827, 0.0011145721114334314), (1616, 0.001113649315362538), (4074, 0.0011134971476631042), (626, 0.0011134293182043311), (2163, 0.0011127123655219453), (416, 0.0011126266369182365), (2593, 0.001111899283083095), (1350, 0.0011117891139203367), (605, 0.001110777703365133), (1830, 0.0011104617929372975), (1877, 0.0011100693537430988), (3242, 0.001109324485220612), (1691, 0.0011090259030670671), (2613, 0.0011088088241536559), (3647, 0.0011088006119937502), (4011, 0.0011084909038070196), (2721, 0.0011084861550594092), (4567, 0.001107328534591292), (359, 0.0011072275039440806), (3742, 0.0011068575931949937), (2048, 0.001106645293176837), (2039, 0.001106271556971899), (1450, 0.0011062245345944484), (2338, 0.0011060597480872139), (3062, 0.0011059981421211243), (2862, 0.0011057355065773634), (432, 0.0011055384622914567), (221, 0.0011055378758275856), (3296, 0.0011053053890144884), (2779, 0.0011050145138645387), (901, 0.0011045944245435353), (2707, 0.0011030652171228244), (2634, 0.0011028952633678455), (3636, 0.0011012718341337027), (2359, 0.0011009291781555477), (2502, 0.0011008913786079166), (3147, 0.0011008243752977985), (1543, 0.0011004910937589833), (3569, 0.0011004479008812082), (4756, 0.0011004218973168745), (3894, 0.001100246382031549), (907, 0.0011002380023150391), (3014, 0.0011000278149041886), (1080, 0.001099313089553427), (3243, 0.0010992740159473404), (97, 0.0010991386093866923), (3719, 0.0010989101172449748), (1392, 0.0010988692586685568), (3016, 0.001098621830842121), (3863, 0.0010982800901247652), (655, 0.0010980240991562615), (3542, 0.0010979014929387468), (2571, 0.0010974783434961474), (2943, 0.0010969586304671027), (2446, 0.0010968217867198021), (2382, 0.0010959268713279537), (1366, 0.0010957182462253202), (3353, 0.001095177994588163), (3953, 0.0010951467790313286), (4225, 0.0010935179515792085), (4200, 0.0010934046125368722), (1624, 0.001093273918785089), (4304, 0.0010931857846120327), (158, 0.0010927996833602362), (4473, 0.0010926741493775566), (4059, 0.0010922561565762999), (3380, 0.001090114530301561), (2323, 0.001090075002747397), (1683, 0.0010900182208463602), (372, 0.0010896844229389279), (4620, 0.0010880252001048316), (4718, 0.0010873199669535023), (487, 0.0010871475088794099), (2129, 0.0010866527863171848), (196, 0.0010858275404125085), (1801, 0.0010847460067343001), (488, 0.0010841003401382589), (1565, 0.001083690024528482), (4536, 0.0010833800645111327), (399, 0.0010833478111307146), (4266, 0.001083179331814516), (194, 0.0010829077114305372), (1072, 0.001082823586881279), (4318, 0.0010821423066167627), (1605, 0.0010813878917833278), (3455, 0.001081281420070358), (4359, 0.001081243809915868), (3075, 0.0010804976278574118), (2748, 0.001079986755458485), (4277, 0.0010797307969539697), (3855, 0.001078069866333849), (1340, 0.0010765338518266803), (3369, 0.001076046401020673), (1672, 0.0010750017493404735), (2457, 0.0010738351499553164), (2591, 0.0010729601380423065), (4712, 0.0010725967870938383), (3252, 0.0010717237180799624), (3258, 0.001071096638392443), (693, 0.0010707643248227755), (3311, 0.0010690169530365781), (4604, 0.0010689443264557837), (1423, 0.0010681671085055837), (4411, 0.0010676639260997869), (4743, 0.0010669778186750965), (4638, 0.0010659225677338647), (2758, 0.001065715758078114), (1032, 0.0010650244730380483), (4409, 0.0010646572261294588), (3301, 0.0010635004347874031), (3900, 0.0010631593641610361), (2441, 0.0010626600468637499), (4361, 0.0010621769164827735), (1427, 0.0010613403167863736), (2766, 0.0010606922187353898), (783, 0.0010576198247778238), (1954, 0.0010568256908398302), (3214, 0.0010558990167386262), (3538, 0.001055743794634766), (3629, 0.001055533508674554), (4734, 0.0010553275640514865), (3526, 0.001055115672642211), (4706, 0.0010549403101472636), (3093, 0.0010503717345886618), (2679, 0.001050257869596597), (3304, 0.0010500294886687524), (471, 0.001049975090723899), (3557, 0.0010499222620837397), (2890, 0.001049199869088403), (4220, 0.0010491880151024926), (2821, 0.0010486939040185448), (646, 0.0010480696995180836), (3268, 0.0010471314264674234), (2636, 0.0010465847624284937), (1677, 0.0010461788000205386), (4391, 0.0010460895109518592), (2401, 0.001045797480211695), (4079, 0.0010446864557181906), (228, 0.001044469881309652), (3707, 0.001042642117550904), (4419, 0.0010419050134103291), (3050, 0.0010408449459440574), (4348, 0.001040377898037642), (3327, 0.0010401066930290507), (975, 0.0010400318727347869), (3795, 0.0010397296210952363), (4247, 0.0010396819861223678), (2954, 0.0010392876281215663), (2475, 0.001036984795587352), (2946, 0.001035584126374765), (132, 0.001034656905852978), (1352, 0.001032988597316186), (2907, 0.00103253751573679), (268, 0.0010314007118877473), (3527, 0.0010298135175377363), (1277, 0.0010296100852370373), (357, 0.0010294784672822373), (351, 0.001028871953981462), (3348, 0.0010288689087251744), (3037, 0.0010288341211906772), (4461, 0.00102807663020968), (3170, 0.0010276517591860086), (647, 0.001027650137896152), (3917, 0.0010272553513946884), (1884, 0.001026554181452149), (4066, 0.0010263215746200518), (3590, 0.0010251932503883168), (3626, 0.0010233192019494118), (4326, 0.001023203764148555), (3278, 0.001021064433724574), (4429, 0.0010183205959554882), (4598, 0.0010171815413111077), (3657, 0.0010164169660327785), (3986, 0.0010161970154697164), (2509, 0.0010161658077978161), (2735, 0.0010151151495563268), (2394, 0.001015090466245286), (3799, 0.001014253681106032), (933, 0.0010135673025476882), (2743, 0.0010122830952331117), (2288, 0.001011324653866651), (2916, 0.001010775723965594), (195, 0.0010102039919702224), (624, 0.0010101929319630747), (495, 0.001008310361203825), (722, 0.0010075046064580621), (4386, 0.0010071412675702349), (140, 0.0010069370849732225), (1625, 0.0010058769733637667), (2287, 0.0010040305921921251), (4540, 0.0010028008465717286), (2173, 0.0010022168117615454), (3575, 0.000996439920464918), (480, 0.0009964061243055709), (2146, 0.0009958961832465996), (3211, 0.0009946423060791959), (4476, 0.0009944483451674365), (267, 0.0009924031502663272), (3755, 0.0009909964389405374), (3669, 0.0009904942154483583), (1370, 0.0009902937414043634), (3056, 0.0009902698907460446), (3057, 0.000988725601357866), (4213, 0.0009857407200859782), (4573, 0.0009838087411761568), (103, 0.0009825965806816881), (740, 0.000981305575756098), (3254, 0.0009804419642850568), (951, 0.0009798958192938371), (157, 0.0009792477384735646), (2900, 0.000977734522082091), (3546, 0.000977198254873155), (3500, 0.0009751185256966121), (2976, 0.000974422120921271), (3615, 0.0009742192881030193), (2741, 0.0009737551267033906), (3200, 0.0009727855728132914), (4693, 0.0009725100001547724), (2127, 0.00097095132473124), (2526, 0.0009707613896286127), (2289, 0.0009699456633462876), (4080, 0.000969686556793172), (4014, 0.0009691907053273823), (1415, 0.0009676329317449884), (2747, 0.0009674252242999497), (165, 0.0009673431575640332), (2556, 0.0009660635751425584), (2520, 0.0009659736746209898), (2132, 0.0009644078651022166), (4616, 0.0009637352855400698), (1780, 0.0009626285647047529), (1826, 0.0009613375670832204), (4254, 0.0009605718095025913), (707, 0.0009592323361749342), (24, 0.0009588731807374837), (4343, 0.0009568631265527051), (2997, 0.0009559482502533626), (1209, 0.0009555873741230157), (3898, 0.000953640116256377), (1042, 0.0009535194056163669), (4636, 0.00095088734043794), (2902, 0.0009483624183512695), (607, 0.0009467987565539966), (3024, 0.0009433887184722625), (4729, 0.0009405602429310765), (4228, 0.0009383724252868822), (4296, 0.0009348072140654147), (3668, 0.0009334329129576155), (4626, 0.0009330687308527025), (1434, 0.0009329102551857636), (3827, 0.0009319369148244125), (3347, 0.0009314260586463916), (129, 0.0009307485814518996), (3199, 0.0009276513872874883), (2674, 0.0009269503559649041), (941, 0.0009259521393868194), (645, 0.0009255348641349101), (1040, 0.0009234610365766539), (2010, 0.0009075694570007611), (3365, 0.0008965828468183485), (3548, 0.000892268867783007), (4445, 0.0008903598312785326), (453, 0.0008895708380724468), (2034, 0.0008880874538455028), (3928, 0.0008864308852316089), (3392, 0.0008672006326076406), (4171, 0.0008615840038457435), (3431, 0.0008486801254052811), (202, 0.0008482675999461509), (4744, 0.0008373842814762516), (4752, 0.0008294626907060828), (293, 0.0008181265722706059), (4311, 0.0008087602140977656), (4301, 0.0007367846206952972), (2534, 0.0006972504887079611), (3608, 0.0006434757765539307), (1, 0.0), (2, 0.0), (14, 0.0), (17, 0.0), (28, 0.0), (36, 0.0), (37, 0.0), (49, 0.0), (53, 0.0), (54, 0.0), (55, 0.0), (58, 0.0), (59, 0.0), (64, 0.0), (73, 0.0), (91, 0.0), (100, 0.0), (101, 0.0), (117, 0.0), (133, 0.0), (134, 0.0), (141, 0.0), (146, 0.0), (150, 0.0), (151, 0.0), (153, 0.0), (163, 0.0), (171, 0.0), (186, 0.0), (188, 0.0), (205, 0.0), (214, 0.0), (219, 0.0), (223, 0.0), (225, 0.0), (237, 0.0), (245, 0.0), (257, 0.0), (258, 0.0), (259, 0.0), (264, 0.0), (265, 0.0), (272, 0.0), (275, 0.0), (297, 0.0), (298, 0.0), (299, 0.0), (302, 0.0), (312, 0.0), (319, 0.0), (331, 0.0), (335, 0.0), (337, 0.0), (338, 0.0), (339, 0.0), (344, 0.0), (352, 0.0), (361, 0.0), (362, 0.0), (365, 0.0), (366, 0.0), (376, 0.0), (379, 0.0), (382, 0.0), (390, 0.0), (391, 0.0), (392, 0.0), (393, 0.0), (394, 0.0), (401, 0.0), (404, 0.0), (405, 0.0), (411, 0.0), (415, 0.0), (423, 0.0), (427, 0.0), (439, 0.0), (440, 0.0), (454, 0.0), (462, 0.0), (484, 0.0), (486, 0.0), (491, 0.0), (492, 0.0), (498, 0.0), (506, 0.0), (516, 0.0), (517, 0.0), (520, 0.0), (525, 0.0), (528, 0.0), (529, 0.0), (531, 0.0), (535, 0.0), (536, 0.0), (546, 0.0), (548, 0.0), (549, 0.0), (552, 0.0), (554, 0.0), (556, 0.0), (557, 0.0), (565, 0.0), (567, 0.0), (569, 0.0), (570, 0.0), (572, 0.0), (573, 0.0), (574, 0.0), (575, 0.0), (577, 0.0), (585, 0.0), (591, 0.0), (592, 0.0), (599, 0.0), (601, 0.0), (602, 0.0), (603, 0.0), (610, 0.0), (630, 0.0), (649, 0.0), (650, 0.0), (656, 0.0), (658, 0.0), (662, 0.0), (663, 0.0), (665, 0.0), (674, 0.0), (679, 0.0), (681, 0.0), (686, 0.0), (699, 0.0), (700, 0.0), (702, 0.0), (704, 0.0), (708, 0.0), (709, 0.0), (711, 0.0), (713, 0.0), (714, 0.0), (718, 0.0), (720, 0.0), (724, 0.0), (725, 0.0), (726, 0.0), (730, 0.0), (736, 0.0), (741, 0.0), (746, 0.0), (747, 0.0), (751, 0.0), (754, 0.0), (764, 0.0), (770, 0.0), (771, 0.0), (772, 0.0), (773, 0.0), (780, 0.0), (781, 0.0), (784, 0.0), (785, 0.0), (786, 0.0), (789, 0.0), (797, 0.0), (807, 0.0), (819, 0.0), (820, 0.0), (822, 0.0), (837, 0.0), (839, 0.0), (840, 0.0), (841, 0.0), (846, 0.0), (859, 0.0), (881, 0.0), (882, 0.0), (892, 0.0), (909, 0.0), (912, 0.0), (913, 0.0), (914, 0.0), (920, 0.0), (926, 0.0), (938, 0.0), (943, 0.0), (945, 0.0), (946, 0.0), (950, 0.0), (954, 0.0), (955, 0.0), (956, 0.0), (960, 0.0), (961, 0.0), (964, 0.0), (965, 0.0), (971, 0.0), (972, 0.0), (977, 0.0), (978, 0.0), (982, 0.0), (983, 0.0), (990, 0.0), (995, 0.0), (1008, 0.0), (1010, 0.0), (1011, 0.0), (1013, 0.0), (1016, 0.0), (1022, 0.0), (1025, 0.0), (1028, 0.0), (1029, 0.0), (1031, 0.0), (1038, 0.0), (1039, 0.0), (1051, 0.0), (1055, 0.0), (1056, 0.0), (1057, 0.0), (1062, 0.0), (1066, 0.0), (1067, 0.0), (1073, 0.0), (1081, 0.0), (1086, 0.0), (1089, 0.0), (1091, 0.0), (1093, 0.0), (1097, 0.0), (1101, 0.0), (1103, 0.0), (1105, 0.0), (1106, 0.0), (1108, 0.0), (1113, 0.0), (1126, 0.0), (1130, 0.0), (1133, 0.0), (1135, 0.0), (1139, 0.0), (1142, 0.0), (1143, 0.0), (1147, 0.0), (1149, 0.0), (1151, 0.0), (1155, 0.0), (1156, 0.0), (1159, 0.0), (1165, 0.0), (1166, 0.0), (1171, 0.0), (1178, 0.0), (1180, 0.0), (1189, 0.0), (1190, 0.0), (1193, 0.0), (1196, 0.0), (1198, 0.0), (1200, 0.0), (1201, 0.0), (1205, 0.0), (1212, 0.0), (1218, 0.0), (1221, 0.0), (1222, 0.0), (1227, 0.0), (1228, 0.0), (1233, 0.0), (1235, 0.0), (1240, 0.0), (1242, 0.0), (1244, 0.0), (1246, 0.0), (1253, 0.0), (1256, 0.0), (1258, 0.0), (1263, 0.0), (1265, 0.0), (1268, 0.0), (1269, 0.0), (1271, 0.0), (1285, 0.0), (1287, 0.0), (1288, 0.0), (1289, 0.0), (1291, 0.0), (1295, 0.0), (1296, 0.0), (1297, 0.0), (1299, 0.0), (1315, 0.0), (1321, 0.0), (1322, 0.0), (1323, 0.0), (1326, 0.0), (1328, 0.0), (1333, 0.0), (1336, 0.0), (1346, 0.0), (1353, 0.0), (1354, 0.0), (1368, 0.0), (1373, 0.0), (1390, 0.0), (1399, 0.0), (1424, 0.0), (1437, 0.0), (1441, 0.0), (1444, 0.0), (1447, 0.0), (1457, 0.0), (1459, 0.0), (1460, 0.0), (1466, 0.0), (1467, 0.0), (1468, 0.0), (1470, 0.0), (1473, 0.0), (1482, 0.0), (1485, 0.0), (1487, 0.0), (1490, 0.0), (1491, 0.0), (1495, 0.0), (1496, 0.0), (1508, 0.0), (1511, 0.0), (1517, 0.0), (1520, 0.0), (1521, 0.0), (1522, 0.0), (1524, 0.0), (1525, 0.0), (1529, 0.0), (1532, 0.0), (1534, 0.0), (1535, 0.0), (1541, 0.0), (1545, 0.0), (1548, 0.0), (1549, 0.0), (1556, 0.0), (1557, 0.0), (1560, 0.0), (1561, 0.0), (1563, 0.0), (1564, 0.0), (1569, 0.0), (1577, 0.0), (1578, 0.0), (1581, 0.0), (1584, 0.0), (1586, 0.0), (1589, 0.0), (1592, 0.0), (1596, 0.0), (1599, 0.0), (1600, 0.0), (1601, 0.0), (1602, 0.0), (1603, 0.0), (1604, 0.0), (1606, 0.0), (1607, 0.0), (1610, 0.0), (1611, 0.0), (1613, 0.0), (1615, 0.0), (1618, 0.0), (1626, 0.0), (1636, 0.0), (1638, 0.0), (1639, 0.0), (1640, 0.0), (1646, 0.0), (1649, 0.0), (1651, 0.0), (1668, 0.0), (1669, 0.0), (1673, 0.0), (1679, 0.0), (1686, 0.0), (1689, 0.0), (1697, 0.0), (1698, 0.0), (1700, 0.0), (1702, 0.0), (1704, 0.0), (1709, 0.0), (1725, 0.0), (1726, 0.0), (1728, 0.0), (1729, 0.0), (1731, 0.0), (1734, 0.0), (1745, 0.0), (1751, 0.0), (1755, 0.0), (1756, 0.0), (1758, 0.0), (1766, 0.0), (1767, 0.0), (1769, 0.0), (1771, 0.0), (1775, 0.0), (1777, 0.0), (1778, 0.0), (1783, 0.0), (1785, 0.0), (1786, 0.0), (1794, 0.0), (1800, 0.0), (1803, 0.0), (1804, 0.0), (1810, 0.0), (1820, 0.0), (1823, 0.0), (1824, 0.0), (1825, 0.0), (1834, 0.0), (1835, 0.0), (1836, 0.0), (1837, 0.0), (1839, 0.0), (1842, 0.0), (1844, 0.0), (1855, 0.0), (1856, 0.0), (1879, 0.0), (1883, 0.0), (1888, 0.0), (1889, 0.0), (1894, 0.0), (1898, 0.0), (1899, 0.0), (1912, 0.0), (1915, 0.0), (1917, 0.0), (1926, 0.0), (1928, 0.0), (1932, 0.0), (1938, 0.0), (1944, 0.0), (1955, 0.0), (1956, 0.0), (1961, 0.0), (1963, 0.0), (1965, 0.0), (1966, 0.0), (1972, 0.0), (1974, 0.0), (1978, 0.0), (1979, 0.0), (1984, 0.0), (2001, 0.0), (2002, 0.0), (2003, 0.0), (2006, 0.0), (2007, 0.0), (2009, 0.0), (2017, 0.0), (2019, 0.0), (2021, 0.0), (2025, 0.0), (2028, 0.0), (2030, 0.0), (2032, 0.0), (2033, 0.0), (2036, 0.0), (2038, 0.0), (2041, 0.0), (2042, 0.0), (2043, 0.0), (2046, 0.0), (2050, 0.0), (2054, 0.0), (2059, 0.0), (2063, 0.0), (2071, 0.0), (2079, 0.0), (2081, 0.0), (2085, 0.0), (2086, 0.0), (2090, 0.0), (2092, 0.0), (2100, 0.0), (2106, 0.0), (2107, 0.0), (2115, 0.0), (2118, 0.0), (2120, 0.0), (2124, 0.0), (2125, 0.0), (2128, 0.0), (2135, 0.0), (2138, 0.0), (2140, 0.0), (2150, 0.0), (2152, 0.0), (2153, 0.0), (2164, 0.0), (2165, 0.0), (2168, 0.0), (2170, 0.0), (2171, 0.0), (2172, 0.0), (2179, 0.0), (2180, 0.0), (2182, 0.0), (2183, 0.0), (2186, 0.0), (2194, 0.0), (2200, 0.0), (2204, 0.0), (2215, 0.0), (2217, 0.0), (2218, 0.0), (2219, 0.0), (2220, 0.0), (2222, 0.0), (2225, 0.0), (2227, 0.0), (2233, 0.0), (2234, 0.0), (2238, 0.0), (2241, 0.0), (2243, 0.0), (2247, 0.0), (2249, 0.0), (2253, 0.0), (2256, 0.0), (2259, 0.0), (2261, 0.0), (2262, 0.0), (2263, 0.0), (2267, 0.0), (2271, 0.0), (2272, 0.0), (2274, 0.0), (2281, 0.0), (2282, 0.0), (2296, 0.0), (2297, 0.0), (2300, 0.0), (2305, 0.0), (2307, 0.0), (2311, 0.0), (2312, 0.0), (2315, 0.0), (2322, 0.0), (2325, 0.0), (2327, 0.0), (2329, 0.0), (2331, 0.0), (2332, 0.0), (2333, 0.0), (2337, 0.0), (2341, 0.0), (2342, 0.0), (2343, 0.0), (2345, 0.0), (2351, 0.0), (2352, 0.0), (2357, 0.0), (2358, 0.0), (2360, 0.0), (2364, 0.0), (2369, 0.0), (2371, 0.0), (2372, 0.0), (2373, 0.0), (2377, 0.0), (2380, 0.0), (2381, 0.0), (2384, 0.0), (2389, 0.0), (2395, 0.0), (2398, 0.0), (2408, 0.0), (2409, 0.0), (2414, 0.0), (2420, 0.0), (2431, 0.0), (2433, 0.0), (2435, 0.0), (2445, 0.0), (2450, 0.0), (2451, 0.0), (2452, 0.0), (2455, 0.0), (2456, 0.0), (2458, 0.0), (2462, 0.0), (2465, 0.0), (2470, 0.0), (2471, 0.0), (2472, 0.0), (2479, 0.0), (2483, 0.0), (2485, 0.0), (2491, 0.0), (2493, 0.0), (2497, 0.0), (2498, 0.0), (2499, 0.0), (2500, 0.0), (2504, 0.0), (2508, 0.0), (2511, 0.0), (2514, 0.0), (2515, 0.0), (2516, 0.0), (2518, 0.0), (2521, 0.0), (2523, 0.0), (2532, 0.0), (2536, 0.0), (2539, 0.0), (2542, 0.0), (2543, 0.0), (2547, 0.0), (2548, 0.0), (2549, 0.0), (2551, 0.0), (2562, 0.0), (2564, 0.0), (2566, 0.0), (2574, 0.0), (2575, 0.0), (2577, 0.0), (2578, 0.0), (2583, 0.0), (2584, 0.0), (2586, 0.0), (2588, 0.0), (2589, 0.0), (2590, 0.0), (2594, 0.0), (2596, 0.0), (2597, 0.0), (2604, 0.0), (2605, 0.0), (2608, 0.0), (2615, 0.0), (2616, 0.0), (2620, 0.0), (2627, 0.0), (2631, 0.0), (2637, 0.0), (2641, 0.0), (2648, 0.0), (2656, 0.0), (2657, 0.0), (2658, 0.0), (2659, 0.0), (2662, 0.0), (2663, 0.0), (2666, 0.0), (2667, 0.0), (2669, 0.0), (2670, 0.0), (2671, 0.0), (2672, 0.0), (2675, 0.0), (2676, 0.0), (2677, 0.0), (2681, 0.0), (2684, 0.0), (2685, 0.0), (2686, 0.0), (2690, 0.0), (2693, 0.0), (2699, 0.0), (2701, 0.0), (2703, 0.0), (2704, 0.0), (2709, 0.0), (2713, 0.0), (2715, 0.0), (2717, 0.0), (2719, 0.0), (2729, 0.0), (2730, 0.0), (2734, 0.0), (2737, 0.0), (2749, 0.0), (2750, 0.0), (2754, 0.0), (2756, 0.0), (2763, 0.0), (2770, 0.0), (2773, 0.0), (2781, 0.0), (2785, 0.0), (2793, 0.0), (2794, 0.0), (2799, 0.0), (2804, 0.0), (2806, 0.0), (2810, 0.0), (2811, 0.0), (2813, 0.0), (2814, 0.0), (2817, 0.0), (2818, 0.0), (2822, 0.0), (2824, 0.0), (2827, 0.0), (2828, 0.0), (2829, 0.0), (2835, 0.0), (2836, 0.0), (2837, 0.0), (2839, 0.0), (2842, 0.0), (2850, 0.0), (2851, 0.0), (2852, 0.0), (2855, 0.0), (2856, 0.0), (2860, 0.0), (2864, 0.0), (2865, 0.0), (2866, 0.0), (2875, 0.0), (2877, 0.0), (2880, 0.0), (2891, 0.0), (2896, 0.0), (2898, 0.0), (2905, 0.0), (2906, 0.0), (2921, 0.0), (2922, 0.0), (2927, 0.0), (2928, 0.0), (2930, 0.0), (2938, 0.0), (2941, 0.0), (2950, 0.0), (2951, 0.0), (2952, 0.0), (2955, 0.0), (2956, 0.0), (2958, 0.0), (2967, 0.0), (2968, 0.0), (2973, 0.0), (2979, 0.0), (2982, 0.0), (2983, 0.0), (2990, 0.0), (3001, 0.0), (3002, 0.0), (3006, 0.0), (3009, 0.0), (3021, 0.0), (3025, 0.0), (3029, 0.0), (3034, 0.0), (3038, 0.0), (3041, 0.0), (3047, 0.0), (3048, 0.0), (3054, 0.0), (3058, 0.0), (3059, 0.0), (3060, 0.0), (3061, 0.0), (3063, 0.0), (3068, 0.0), (3073, 0.0), (3077, 0.0), (3078, 0.0), (3080, 0.0), (3082, 0.0), (3087, 0.0), (3088, 0.0), (3089, 0.0), (3090, 0.0), (3092, 0.0), (3103, 0.0), (3104, 0.0), (3105, 0.0), (3106, 0.0), (3107, 0.0), (3109, 0.0), (3115, 0.0), (3121, 0.0), (3130, 0.0), (3132, 0.0), (3138, 0.0), (3141, 0.0), (3145, 0.0), (3162, 0.0), (3169, 0.0), (3172, 0.0), (3175, 0.0), (3176, 0.0), (3177, 0.0), (3181, 0.0), (3188, 0.0), (3189, 0.0), (3190, 0.0), (3193, 0.0), (3197, 0.0), (3201, 0.0), (3202, 0.0), (3204, 0.0), (3207, 0.0), (3208, 0.0), (3212, 0.0), (3217, 0.0), (3221, 0.0), (3223, 0.0), (3229, 0.0), (3231, 0.0), (3236, 0.0), (3250, 0.0), (3251, 0.0), (3261, 0.0), (3266, 0.0), (3270, 0.0), (3272, 0.0), (3277, 0.0), (3281, 0.0), (3286, 0.0), (3287, 0.0), (3305, 0.0), (3310, 0.0), (3320, 0.0), (3321, 0.0), (3323, 0.0), (3324, 0.0), (3332, 0.0), (3333, 0.0), (3340, 0.0), (3343, 0.0), (3350, 0.0), (3366, 0.0), (3368, 0.0), (3371, 0.0), (3378, 0.0), (3383, 0.0), (3394, 0.0), (3397, 0.0), (3400, 0.0), (3401, 0.0), (3411, 0.0), (3415, 0.0), (3422, 0.0), (3424, 0.0), (3439, 0.0), (3442, 0.0), (3444, 0.0), (3454, 0.0), (3459, 0.0), (3461, 0.0), (3467, 0.0), (3472, 0.0), (3473, 0.0), (3475, 0.0), (3476, 0.0), (3481, 0.0), (3482, 0.0), (3485, 0.0), (3489, 0.0), (3490, 0.0), (3494, 0.0), (3505, 0.0), (3510, 0.0), (3519, 0.0), (3522, 0.0), (3525, 0.0), (3529, 0.0), (3530, 0.0), (3532, 0.0), (3533, 0.0), (3539, 0.0), (3543, 0.0), (3545, 0.0), (3547, 0.0), (3549, 0.0), (3550, 0.0), (3554, 0.0), (3562, 0.0), (3567, 0.0), (3568, 0.0), (3573, 0.0), (3578, 0.0), (3581, 0.0), (3585, 0.0), (3589, 0.0), (3591, 0.0), (3592, 0.0), (3595, 0.0), (3600, 0.0), (3603, 0.0), (3607, 0.0), (3609, 0.0), (3610, 0.0), (3617, 0.0), (3622, 0.0), (3625, 0.0), (3628, 0.0), (3631, 0.0), (3633, 0.0), (3644, 0.0), (3649, 0.0), (3650, 0.0), (3662, 0.0), (3663, 0.0), (3671, 0.0), (3676, 0.0), (3681, 0.0), (3682, 0.0), (3683, 0.0), (3685, 0.0), (3686, 0.0), (3688, 0.0), (3690, 0.0), (3693, 0.0), (3695, 0.0), (3697, 0.0), (3698, 0.0), (3700, 0.0), (3702, 0.0), (3703, 0.0), (3709, 0.0), (3712, 0.0), (3716, 0.0), (3717, 0.0), (3718, 0.0), (3722, 0.0), (3724, 0.0), (3726, 0.0), (3730, 0.0), (3732, 0.0), (3735, 0.0), (3736, 0.0), (3738, 0.0), (3740, 0.0), (3743, 0.0), (3746, 0.0), (3758, 0.0), (3759, 0.0), (3760, 0.0), (3761, 0.0), (3764, 0.0), (3773, 0.0), (3783, 0.0), (3785, 0.0), (3786, 0.0), (3789, 0.0), (3790, 0.0), (3791, 0.0), (3796, 0.0), (3798, 0.0), (3800, 0.0), (3803, 0.0), (3805, 0.0), (3808, 0.0), (3812, 0.0), (3816, 0.0), (3817, 0.0), (3818, 0.0), (3820, 0.0), (3830, 0.0), (3831, 0.0), (3834, 0.0), (3836, 0.0), (3837, 0.0), (3838, 0.0), (3840, 0.0), (3843, 0.0), (3846, 0.0), (3847, 0.0), (3851, 0.0), (3856, 0.0), (3858, 0.0), (3859, 0.0), (3869, 0.0), (3870, 0.0), (3872, 0.0), (3879, 0.0), (3885, 0.0), (3887, 0.0), (3891, 0.0), (3896, 0.0), (3912, 0.0), (3914, 0.0), (3916, 0.0), (3918, 0.0), (3921, 0.0), (3929, 0.0), (3930, 0.0), (3931, 0.0), (3933, 0.0), (3936, 0.0), (3937, 0.0), (3943, 0.0), (3948, 0.0), (3950, 0.0), (3963, 0.0), (3964, 0.0), (3965, 0.0), (3968, 0.0), (3969, 0.0), (3971, 0.0), (3972, 0.0), (3977, 0.0), (3979, 0.0), (3980, 0.0), (3981, 0.0), (3982, 0.0), (3985, 0.0), (3988, 0.0), (3991, 0.0), (3994, 0.0), (3996, 0.0), (4003, 0.0), (4006, 0.0), (4010, 0.0), (4018, 0.0), (4021, 0.0), (4022, 0.0), (4026, 0.0), (4027, 0.0), (4029, 0.0), (4031, 0.0), (4034, 0.0), (4037, 0.0), (4040, 0.0), (4041, 0.0), (4058, 0.0), (4063, 0.0), (4064, 0.0), (4065, 0.0), (4067, 0.0), (4070, 0.0), (4072, 0.0), (4073, 0.0), (4078, 0.0), (4084, 0.0), (4086, 0.0), (4097, 0.0), (4100, 0.0), (4108, 0.0), (4109, 0.0), (4112, 0.0), (4114, 0.0), (4115, 0.0), (4125, 0.0), (4127, 0.0), (4131, 0.0), (4144, 0.0), (4146, 0.0), (4150, 0.0), (4153, 0.0), (4157, 0.0), (4159, 0.0), (4166, 0.0), (4167, 0.0), (4168, 0.0), (4170, 0.0), (4173, 0.0), (4179, 0.0), (4180, 0.0), (4181, 0.0), (4185, 0.0), (4186, 0.0), (4188, 0.0), (4190, 0.0), (4191, 0.0), (4194, 0.0), (4195, 0.0), (4198, 0.0), (4199, 0.0), (4201, 0.0), (4204, 0.0), (4207, 0.0), (4212, 0.0), (4214, 0.0), (4215, 0.0), (4218, 0.0), (4223, 0.0), (4224, 0.0), (4229, 0.0), (4234, 0.0), (4237, 0.0), (4238, 0.0), (4239, 0.0), (4241, 0.0), (4250, 0.0), (4253, 0.0), (4256, 0.0), (4258, 0.0), (4260, 0.0), (4270, 0.0), (4271, 0.0), (4276, 0.0), (4278, 0.0), (4279, 0.0), (4291, 0.0), (4294, 0.0), (4297, 0.0), (4300, 0.0), (4302, 0.0), (4305, 0.0), (4313, 0.0), (4315, 0.0), (4316, 0.0), (4317, 0.0), (4319, 0.0), (4323, 0.0), (4324, 0.0), (4327, 0.0), (4329, 0.0), (4332, 0.0), (4338, 0.0), (4341, 0.0), (4346, 0.0), (4347, 0.0), (4352, 0.0), (4353, 0.0), (4358, 0.0), (4364, 0.0), (4370, 0.0), (4372, 0.0), (4393, 0.0), (4404, 0.0), (4405, 0.0), (4406, 0.0), (4408, 0.0), (4410, 0.0), (4413, 0.0), (4414, 0.0), (4415, 0.0), (4417, 0.0), (4421, 0.0), (4424, 0.0), (4425, 0.0), (4433, 0.0), (4434, 0.0), (4437, 0.0), (4439, 0.0), (4447, 0.0), (4449, 0.0), (4451, 0.0), (4452, 0.0), (4453, 0.0), (4454, 0.0), (4455, 0.0), (4457, 0.0), (4460, 0.0), (4463, 0.0), (4478, 0.0), (4480, 0.0), (4483, 0.0), (4485, 0.0), (4491, 0.0), (4493, 0.0), (4496, 0.0), (4498, 0.0), (4499, 0.0), (4500, 0.0), (4506, 0.0), (4508, 0.0), (4509, 0.0), (4519, 0.0), (4525, 0.0), (4526, 0.0), (4532, 0.0), (4538, 0.0), (4539, 0.0), (4541, 0.0), (4542, 0.0), (4547, 0.0), (4549, 0.0), (4556, 0.0), (4558, 0.0), (4559, 0.0), (4560, 0.0), (4561, 0.0), (4562, 0.0), (4565, 0.0), (4568, 0.0), (4569, 0.0), (4570, 0.0), (4577, 0.0), (4578, 0.0), (4580, 0.0), (4592, 0.0), (4597, 0.0), (4599, 0.0), (4600, 0.0), (4609, 0.0), (4613, 0.0), (4615, 0.0), (4618, 0.0), (4622, 0.0), (4628, 0.0), (4631, 0.0), (4635, 0.0), (4644, 0.0), (4645, 0.0), (4647, 0.0), (4648, 0.0), (4651, 0.0), (4654, 0.0), (4655, 0.0), (4662, 0.0), (4667, 0.0), (4671, 0.0), (4672, 0.0), (4675, 0.0), (4676, 0.0), (4681, 0.0), (4683, 0.0), (4688, 0.0), (4690, 0.0), (4700, 0.0), (4702, 0.0), (4711, 0.0), (4714, 0.0), (4716, 0.0), (4720, 0.0), (4725, 0.0), (4728, 0.0), (4730, 0.0), (4736, 0.0), (4737, 0.0), (4740, 0.0), (4741, 0.0), (4742, 0.0), (4745, 0.0), (4750, 0.0), (4751, 0.0), (4754, 0.0), (4755, 0.0), (4758, 0.0), (4759, 0.0)]\n"
          ]
        }
      ]
    },
    {
      "cell_type": "code",
      "source": [
        "print('Top 30 Movies suggested for you : \\n')\n",
        "i=1\n",
        "for movie in sorted_similar_movies:\n",
        "  index=movie[0]\n",
        "  title_from_index=df[df.index==index]['Movie_Title'].values[0]\n",
        "  if(i<31):\n",
        "    print(i,'.',title_from_index)\n",
        "    i+=1"
      ],
      "metadata": {
        "colab": {
          "base_uri": "https://localhost:8080/"
        },
        "id": "og8SRPx1yklf",
        "outputId": "a57721ce-bcd2-4091-b35b-a7246f64f934"
      },
      "execution_count": 42,
      "outputs": [
        {
          "output_type": "stream",
          "name": "stdout",
          "text": [
            "Top 30 Movies suggested for you : \n",
            "\n",
            "1 . Niagara\n",
            "2 . Caravans\n",
            "3 . Night of the Living Dead\n",
            "4 . Some Like It Hot\n",
            "5 . Duel in the Sun\n",
            "6 . The Misfits\n",
            "7 . Tora! Tora! Tora!\n",
            "8 . Camping Sauvage\n",
            "9 . Running with Scissors\n",
            "10 . The Lazarus Effect\n",
            "11 . Source Code\n",
            "12 . To Kill a Mockingbird\n",
            "13 . Never Back Down\n",
            "14 . The Change-Up\n",
            "15 . Small Soldiers\n",
            "16 . My Week with Marilyn\n",
            "17 . Edge of Darkness\n",
            "18 . The Kentucky Fried Movie\n",
            "19 . Beyond the Black Rainbow\n",
            "20 . Heartbeeps\n",
            "21 . Maximum Risk\n",
            "22 . Jesus' Son\n",
            "23 . Independence Day: Resurgence\n",
            "24 . The Juror\n",
            "25 . Man on Wire\n",
            "26 . No Man's Land: The Rise of Reeker\n",
            "27 . Party Monster\n",
            "28 . The Amazing Spider-Man\n",
            "29 . Anne of Green Gables\n",
            "30 . The Texas Chain Saw Massacre\n"
          ]
        }
      ]
    },
    {
      "cell_type": "code",
      "source": [
        "Movie_Name=input('enter your favorite movie name:')\n",
        "list_of_all_titles=df['Movie_Title'].tolist()\n",
        "find_close_match=difflib.get_close_matches(Movie_Name,list_of_all_titles)\n",
        "close_match=find_close_match[0]\n",
        "index_of_movie=df[df.Movie_Title==close_match]['Movie_ID'].values[0]\n",
        "Recommendation_Score=list(enumerate(similarity_score[index_of_movie]))\n",
        "sorted_similar_movies=sorted(Recommendation_Score,key=lambda x:x[1],reverse=True)\n",
        "print('Top 10 Movies suggested for you : \\n')\n",
        "i=1\n",
        "for movie in sorted_similar_movies:\n",
        "  index=movie[0]\n",
        "  title_from_index=df[df.index==index]['Movie_Title'].values[0]\n",
        "  if(i<11):\n",
        "    print(i,'.',title_from_index)\n",
        "    i+=1"
      ],
      "metadata": {
        "colab": {
          "base_uri": "https://localhost:8080/"
        },
        "id": "8scq2ifkyzRy",
        "outputId": "00ff946d-2ba5-4e1a-bdc4-d886cd049314"
      },
      "execution_count": 43,
      "outputs": [
        {
          "output_type": "stream",
          "name": "stdout",
          "text": [
            "enter your favorite movie name:avtaar\n",
            "Top 10 Movies suggested for you : \n",
            "\n",
            "1 . Niagara\n",
            "2 . Caravans\n",
            "3 . Night of the Living Dead\n",
            "4 . Some Like It Hot\n",
            "5 . Duel in the Sun\n",
            "6 . The Misfits\n",
            "7 . Tora! Tora! Tora!\n",
            "8 . Camping Sauvage\n",
            "9 . Running with Scissors\n",
            "10 . The Lazarus Effect\n"
          ]
        }
      ]
    },
    {
      "cell_type": "markdown",
      "source": [],
      "metadata": {
        "id": "EWq1ycN0zoz6"
      }
    },
    {
      "cell_type": "code",
      "source": [],
      "metadata": {
        "id": "y4Tgi0_FzqeQ"
      },
      "execution_count": null,
      "outputs": []
    }
  ]
}